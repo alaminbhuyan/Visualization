{
 "cells": [
  {
   "cell_type": "code",
   "execution_count": 1,
   "id": "656d32cc",
   "metadata": {},
   "outputs": [],
   "source": [
    "import numpy as np"
   ]
  },
  {
   "cell_type": "markdown",
   "id": "bdecb32e",
   "metadata": {},
   "source": [
    "## Scaler (0-D tensor)"
   ]
  },
  {
   "cell_type": "markdown",
   "id": "63f2c391",
   "metadata": {},
   "source": [
    "### `Scalars are single numbers and are an example of a 0th-order tensor.`"
   ]
  },
  {
   "cell_type": "code",
   "execution_count": 2,
   "id": "38794ea7",
   "metadata": {},
   "outputs": [],
   "source": [
    "arr = np.array(1)"
   ]
  },
  {
   "cell_type": "code",
   "execution_count": 3,
   "id": "e2cd79bc",
   "metadata": {},
   "outputs": [
    {
     "data": {
      "text/plain": [
       "array(1)"
      ]
     },
     "execution_count": 3,
     "metadata": {},
     "output_type": "execute_result"
    }
   ],
   "source": [
    "arr"
   ]
  },
  {
   "cell_type": "code",
   "execution_count": 4,
   "id": "496b87b7",
   "metadata": {},
   "outputs": [
    {
     "data": {
      "text/plain": [
       "0"
      ]
     },
     "execution_count": 4,
     "metadata": {},
     "output_type": "execute_result"
    }
   ],
   "source": [
    "arr.ndim"
   ]
  },
  {
   "cell_type": "code",
   "execution_count": 5,
   "id": "ef6c7212",
   "metadata": {},
   "outputs": [
    {
     "name": "stdout",
     "output_type": "stream",
     "text": [
      "True\n",
      "True\n",
      "True\n",
      "False\n",
      "False\n"
     ]
    }
   ],
   "source": [
    "print(np.isscalar(1))\n",
    "print(np.isscalar(1.2))\n",
    "print(np.isscalar(3.5))\n",
    "print(np.isscalar([1]))\n",
    "print(np.isscalar([1,5]))"
   ]
  },
  {
   "cell_type": "markdown",
   "id": "f0983b46",
   "metadata": {},
   "source": [
    "## Vector (1-D tensor)"
   ]
  },
  {
   "cell_type": "markdown",
   "id": "fb253513",
   "metadata": {},
   "source": [
    "### `Vectors are ordered arrays of single numbers and are an example of 1st-order tensor. Vectors are fragments of objects known as vector spaces. A vector space can be considered of as the entire collection of all possible vectors of a particular length (or dimension). The three-dimensional real-valued vector space, denoted by ℝ^3 is often used to represent our real-world notion of three-dimensional space mathematically.`"
   ]
  },
  {
   "cell_type": "code",
   "execution_count": 6,
   "id": "7891a535",
   "metadata": {},
   "outputs": [
    {
     "data": {
      "text/plain": [
       "array([1, 2, 3, 4])"
      ]
     },
     "execution_count": 6,
     "metadata": {},
     "output_type": "execute_result"
    }
   ],
   "source": [
    "arr = np.array([1,2,3,4])\n",
    "arr"
   ]
  },
  {
   "cell_type": "code",
   "execution_count": 7,
   "id": "40ea0ec3",
   "metadata": {},
   "outputs": [
    {
     "data": {
      "text/plain": [
       "1"
      ]
     },
     "execution_count": 7,
     "metadata": {},
     "output_type": "execute_result"
    }
   ],
   "source": [
    "arr.ndim"
   ]
  },
  {
   "cell_type": "code",
   "execution_count": 8,
   "id": "6865c4e5",
   "metadata": {},
   "outputs": [
    {
     "data": {
      "text/plain": [
       "(4,)"
      ]
     },
     "execution_count": 8,
     "metadata": {},
     "output_type": "execute_result"
    }
   ],
   "source": [
    "arr.shape"
   ]
  },
  {
   "cell_type": "markdown",
   "id": "4e7ad017",
   "metadata": {},
   "source": [
    "## Matrix (2-D tensor)"
   ]
  },
  {
   "cell_type": "markdown",
   "id": "42d5bc63",
   "metadata": {},
   "source": [
    "### `Matrices are rectangular arrays consisting of numbers and are an example of 2nd-order tensors. If m and n are positive integers, that is m, n ∈ ℕ then the m×n matrix contains m*n numbers, with m rows and n columns.`"
   ]
  },
  {
   "cell_type": "code",
   "execution_count": 9,
   "id": "9c8b4368",
   "metadata": {},
   "outputs": [
    {
     "data": {
      "text/plain": [
       "array([[ 1,  2,  3,  4],\n",
       "       [10, 20, 30, 40]])"
      ]
     },
     "execution_count": 9,
     "metadata": {},
     "output_type": "execute_result"
    }
   ],
   "source": [
    "arr = np.array([\n",
    "    [1,2,3,4],    # first row\n",
    "    [10,20,30,40] # second row\n",
    "])\n",
    "\n",
    "arr"
   ]
  },
  {
   "cell_type": "code",
   "execution_count": 10,
   "id": "e2993773",
   "metadata": {},
   "outputs": [
    {
     "data": {
      "text/plain": [
       "2"
      ]
     },
     "execution_count": 10,
     "metadata": {},
     "output_type": "execute_result"
    }
   ],
   "source": [
    "arr.ndim"
   ]
  },
  {
   "cell_type": "code",
   "execution_count": 11,
   "id": "da3c7003",
   "metadata": {},
   "outputs": [
    {
     "data": {
      "text/plain": [
       "(2, 4)"
      ]
     },
     "execution_count": 11,
     "metadata": {},
     "output_type": "execute_result"
    }
   ],
   "source": [
    "arr.shape"
   ]
  },
  {
   "cell_type": "code",
   "execution_count": 12,
   "id": "f7bc4e0e",
   "metadata": {},
   "outputs": [
    {
     "data": {
      "text/plain": [
       "matrix([[1, 2, 3],\n",
       "        [2, 3, 4]])"
      ]
     },
     "execution_count": 12,
     "metadata": {},
     "output_type": "execute_result"
    }
   ],
   "source": [
    "arr2 = np.matrix([[1,2,3], [2,3,4]])\n",
    "\n",
    "arr2"
   ]
  },
  {
   "cell_type": "code",
   "execution_count": 13,
   "id": "fc1209e7",
   "metadata": {},
   "outputs": [
    {
     "data": {
      "text/plain": [
       "(2, 3)"
      ]
     },
     "execution_count": 13,
     "metadata": {},
     "output_type": "execute_result"
    }
   ],
   "source": [
    "arr2.shape"
   ]
  },
  {
   "cell_type": "code",
   "execution_count": 14,
   "id": "da6de630",
   "metadata": {},
   "outputs": [
    {
     "data": {
      "text/plain": [
       "2"
      ]
     },
     "execution_count": 14,
     "metadata": {},
     "output_type": "execute_result"
    }
   ],
   "source": [
    "arr2.ndim"
   ]
  },
  {
   "cell_type": "code",
   "execution_count": 15,
   "id": "10b618fe",
   "metadata": {},
   "outputs": [
    {
     "data": {
      "text/plain": [
       "15"
      ]
     },
     "execution_count": 15,
     "metadata": {},
     "output_type": "execute_result"
    }
   ],
   "source": [
    "arr2.sum()"
   ]
  },
  {
   "cell_type": "code",
   "execution_count": 16,
   "id": "805bac76",
   "metadata": {},
   "outputs": [],
   "source": [
    "# Matrix-Matrix Addition\n",
    "# C = A + B (Shape of A and B should be equal)"
   ]
  },
  {
   "cell_type": "code",
   "execution_count": 17,
   "id": "5d8e2ae7",
   "metadata": {},
   "outputs": [
    {
     "name": "stdout",
     "output_type": "stream",
     "text": [
      "(2, 2)\n",
      "(2, 2)\n",
      "[[ 4  6]\n",
      " [ 7 13]]\n",
      "(2, 2)\n"
     ]
    }
   ],
   "source": [
    "x = np.matrix([[1, 2], \n",
    "               [4, 3]])\n",
    "\n",
    "y = np.matrix([[3, 4], \n",
    "               [3, 10]])\n",
    "\n",
    "print(x.shape)\n",
    "\n",
    "print(y.shape)\n",
    "\n",
    "\n",
    "m_sum = np.add(x, y)\n",
    "\n",
    "print(m_sum)\n",
    "\n",
    "print(m_sum.shape)"
   ]
  },
  {
   "cell_type": "code",
   "execution_count": 18,
   "id": "e2e9f689",
   "metadata": {},
   "outputs": [
    {
     "name": "stdout",
     "output_type": "stream",
     "text": [
      "[[2 3]\n",
      " [5 4]]\n"
     ]
    }
   ],
   "source": [
    "# Matrix-Scalar Addition\n",
    "# Adds the given scalar to all the elements in the given matrix.\n",
    "\n",
    "x = np.matrix([[1, 2], \n",
    "               [4, 3]])\n",
    "\n",
    "s_sum = x + 1\n",
    "\n",
    "print(s_sum)"
   ]
  },
  {
   "cell_type": "code",
   "execution_count": 19,
   "id": "89643687",
   "metadata": {},
   "outputs": [
    {
     "name": "stdout",
     "output_type": "stream",
     "text": [
      "[[ 3  6]\n",
      " [12  9]]\n"
     ]
    }
   ],
   "source": [
    "# Matrix Scalar Multiplication\n",
    "# Multiplies the given scalar to all the elements in the given matrix.\n",
    "\n",
    "x = np.matrix([[1, 2], \n",
    "               [4, 3]])\n",
    "\n",
    "s_mul = x * 3\n",
    "\n",
    "print(s_mul)"
   ]
  },
  {
   "cell_type": "code",
   "execution_count": 20,
   "id": "eef0cc10",
   "metadata": {},
   "outputs": [
    {
     "name": "stdout",
     "output_type": "stream",
     "text": [
      "[1 2]\n",
      "(-13+0j)\n"
     ]
    }
   ],
   "source": [
    "# Matrix Multiplication\n",
    "# A of shape (m x n) and B of shape (n x p) multiplied gives C of shape (m x p)\n",
    "\n",
    "a = [[1, 0], \n",
    "     [0, 1]]\n",
    "\n",
    "b = [1, 2]\n",
    "\n",
    "print(np.matmul(a, b))\n",
    "\n",
    "\n",
    "complex_mul = np.matmul([2j, 3j], [2j, 3j])\n",
    "\n",
    "print(complex_mul)"
   ]
  },
  {
   "attachments": {
    "image.png": {
     "image/png": "[encoded data removed]"
    }
   },
   "cell_type": "markdown",
   "id": "f4c3f6d2",
   "metadata": {},
   "source": [
    "![image.png](attachment:image.png)"
   ]
  },
  {
   "cell_type": "code",
   "execution_count": 21,
   "id": "7c702d1e",
   "metadata": {},
   "outputs": [
    {
     "name": "stdout",
     "output_type": "stream",
     "text": [
      "[[1 2]\n",
      " [3 4]]\n",
      "--------------\n",
      "[[1 3]\n",
      " [2 4]]\n"
     ]
    }
   ],
   "source": [
    "a = np.array([[1, 2], \n",
    "              [3, 4]])\n",
    "\n",
    "print(a)\n",
    "print(\"--------------\")\n",
    "print(a.transpose())"
   ]
  },
  {
   "cell_type": "code",
   "execution_count": 22,
   "id": "a46944bd",
   "metadata": {},
   "outputs": [
    {
     "data": {
      "text/plain": [
       "array([[1, 3],\n",
       "       [2, 4]])"
      ]
     },
     "execution_count": 22,
     "metadata": {},
     "output_type": "execute_result"
    }
   ],
   "source": [
    "a = np.array([[1, 2], \n",
    "              [3, 4]])\n",
    "a.T"
   ]
  },
  {
   "cell_type": "markdown",
   "id": "0a03a012",
   "metadata": {},
   "source": [
    "## Tensors"
   ]
  },
  {
   "cell_type": "markdown",
   "id": "fd4aed07",
   "metadata": {},
   "source": [
    "### `The more general entity of a tensor encapsulates the scalar, vector and the matrix. It is sometimes necessary — both in the physical sciences and machine learning — to make use of tensors with order that exceeds two.`3`"
   ]
  },
  {
   "cell_type": "code",
   "execution_count": null,
   "id": "79582403",
   "metadata": {},
   "outputs": [],
   "source": []
  },
  {
   "cell_type": "code",
   "execution_count": null,
   "id": "4d9881e1",
   "metadata": {},
   "outputs": [],
   "source": []
  },
  {
   "cell_type": "code",
   "execution_count": null,
   "id": "c0c4b0b9",
   "metadata": {},
   "outputs": [],
   "source": []
  },
  {
   "cell_type": "code",
   "execution_count": null,
   "id": "f5e69678",
   "metadata": {},
   "outputs": [],
   "source": []
  }
 ],
 "metadata": {
  "kernelspec": {
   "display_name": "Python 3 (ipykernel)",
   "language": "python",
   "name": "python3"
  },
  "language_info": {
   "codemirror_mode": {
    "name": "ipython",
    "version": 3
   },
   "file_extension": ".py",
   "mimetype": "text/x-python",
   "name": "python",
   "nbconvert_exporter": "python",
   "pygments_lexer": "ipython3",
   "version": "3.10.9"
  }
 },
 "nbformat": 4,
 "nbformat_minor": 5
}
