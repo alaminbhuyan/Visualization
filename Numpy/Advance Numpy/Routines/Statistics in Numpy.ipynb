{
 "cells": [
  {
   "cell_type": "code",
   "execution_count": 1,
   "id": "9fd75e20",
   "metadata": {},
   "outputs": [],
   "source": [
    "import numpy as np"
   ]
  },
  {
   "cell_type": "markdown",
   "id": "7092704f",
   "metadata": {},
   "source": [
    "## Order statistics"
   ]
  },
  {
   "cell_type": "markdown",
   "id": "e83b8bde",
   "metadata": {},
   "source": [
    "### numpy.ptp\n",
    "\n",
    "numpy.ptp(a, axis=None, out=None, keepdims=<no value>)"
   ]
  },
  {
   "cell_type": "code",
   "execution_count": 2,
   "id": "093bcb9f",
   "metadata": {},
   "outputs": [
    {
     "data": {
      "text/plain": [
       "10"
      ]
     },
     "execution_count": 2,
     "metadata": {},
     "output_type": "execute_result"
    }
   ],
   "source": [
    "# Range of values (maximum - minimum) along an axis.\n",
    "# ptp --> peak to peak\n",
    "\n",
    "a = np.array([2,4,6,10,12])\n",
    "\n",
    "np.ptp(a) # 12- 2 = 10"
   ]
  },
  {
   "cell_type": "code",
   "execution_count": 3,
   "id": "a2845e60",
   "metadata": {},
   "outputs": [
    {
     "data": {
      "text/plain": [
       "array([2, 0, 5, 2])"
      ]
     },
     "execution_count": 3,
     "metadata": {},
     "output_type": "execute_result"
    }
   ],
   "source": [
    "a = np.array([[4,9,2,10],\n",
    "              [6,9,7,12]])\n",
    "\n",
    "np.ptp(a, axis=0) # 6-4 = 2, 9-9 = 0, 7-2 = 5, 12-10 = 2"
   ]
  },
  {
   "cell_type": "code",
   "execution_count": 4,
   "id": "54ec4976",
   "metadata": {},
   "outputs": [
    {
     "data": {
      "text/plain": [
       "array([8, 6])"
      ]
     },
     "execution_count": 4,
     "metadata": {},
     "output_type": "execute_result"
    }
   ],
   "source": [
    "a = np.array([[4,9,2,10],\n",
    "              [6,9,7,12]])\n",
    "\n",
    "np.ptp(a, axis=1) # 10 - 4 = 6; 12-6 = 6"
   ]
  },
  {
   "cell_type": "markdown",
   "id": "4efa83e8",
   "metadata": {},
   "source": [
    "### numpy.percentile\n",
    "\n",
    "numpy.percentile(a, q, axis=None, out=None, overwrite_input=False, method='linear', keepdims=False, *, interpolation=None)"
   ]
  },
  {
   "cell_type": "code",
   "execution_count": 5,
   "id": "6b7736a7",
   "metadata": {},
   "outputs": [
    {
     "data": {
      "text/plain": [
       "3.8000000000000003"
      ]
     },
     "execution_count": 5,
     "metadata": {},
     "output_type": "execute_result"
    }
   ],
   "source": [
    "a = np.array([1,2,3,4,5,6,7,8,9,10,11,12,13,14,15])\n",
    "\n",
    "np.percentile(a, 20)"
   ]
  },
  {
   "cell_type": "code",
   "execution_count": 6,
   "id": "ae7e38fe",
   "metadata": {},
   "outputs": [
    {
     "data": {
      "text/plain": [
       "3.5"
      ]
     },
     "execution_count": 6,
     "metadata": {},
     "output_type": "execute_result"
    }
   ],
   "source": [
    "a = np.array([[10, 7, 4], [3, 2, 1]])\n",
    "\n",
    "np.percentile(a, 50)"
   ]
  },
  {
   "cell_type": "code",
   "execution_count": 7,
   "id": "79897aea",
   "metadata": {},
   "outputs": [
    {
     "data": {
      "text/plain": [
       "array([6.5, 4.5, 2.5])"
      ]
     },
     "execution_count": 7,
     "metadata": {},
     "output_type": "execute_result"
    }
   ],
   "source": [
    "np.percentile(a, 50, axis=0)"
   ]
  },
  {
   "cell_type": "code",
   "execution_count": 8,
   "id": "0b0b1c56",
   "metadata": {},
   "outputs": [
    {
     "data": {
      "text/plain": [
       "array([7., 2.])"
      ]
     },
     "execution_count": 8,
     "metadata": {},
     "output_type": "execute_result"
    }
   ],
   "source": [
    "np.percentile(a, 50, axis=1)"
   ]
  },
  {
   "cell_type": "code",
   "execution_count": 9,
   "id": "efd21bbe",
   "metadata": {},
   "outputs": [
    {
     "data": {
      "text/plain": [
       "array([[7.],\n",
       "       [2.]])"
      ]
     },
     "execution_count": 9,
     "metadata": {},
     "output_type": "execute_result"
    }
   ],
   "source": [
    "np.percentile(a, 50, axis=1, keepdims=True)"
   ]
  },
  {
   "cell_type": "markdown",
   "id": "43393415",
   "metadata": {},
   "source": [
    "### numpy.nanpercentile\n",
    "\n",
    "numpy.nanpercentile(a, q, axis=None, out=None, overwrite_input=False, method='linear', keepdims=<no value>, *, interpolation=None)"
   ]
  },
  {
   "cell_type": "code",
   "execution_count": 10,
   "id": "cbd04de1",
   "metadata": {},
   "outputs": [
    {
     "data": {
      "text/plain": [
       "array([[10., nan,  4.],\n",
       "       [ 3.,  2.,  1.]])"
      ]
     },
     "execution_count": 10,
     "metadata": {},
     "output_type": "execute_result"
    }
   ],
   "source": [
    "a = np.array([[10., 7., 4.], [3., 2., 1.]])\n",
    "\n",
    "a[0][1] = np.nan\n",
    "\n",
    "a"
   ]
  },
  {
   "cell_type": "code",
   "execution_count": 11,
   "id": "da1a52d8",
   "metadata": {},
   "outputs": [
    {
     "data": {
      "text/plain": [
       "3.0"
      ]
     },
     "execution_count": 11,
     "metadata": {},
     "output_type": "execute_result"
    }
   ],
   "source": [
    "np.nanpercentile(a, 50)"
   ]
  },
  {
   "cell_type": "code",
   "execution_count": 12,
   "id": "16bec033",
   "metadata": {},
   "outputs": [
    {
     "data": {
      "text/plain": [
       "array([6.5, 2. , 2.5])"
      ]
     },
     "execution_count": 12,
     "metadata": {},
     "output_type": "execute_result"
    }
   ],
   "source": [
    "np.nanpercentile(a, 50, axis=0)"
   ]
  },
  {
   "cell_type": "code",
   "execution_count": 13,
   "id": "1ce24f66",
   "metadata": {},
   "outputs": [
    {
     "data": {
      "text/plain": [
       "array([7., 2.])"
      ]
     },
     "execution_count": 13,
     "metadata": {},
     "output_type": "execute_result"
    }
   ],
   "source": [
    "np.nanpercentile(a, 50, axis=1)"
   ]
  },
  {
   "cell_type": "code",
   "execution_count": 14,
   "id": "7ce107ce",
   "metadata": {},
   "outputs": [
    {
     "data": {
      "text/plain": [
       "array([[7.],\n",
       "       [2.]])"
      ]
     },
     "execution_count": 14,
     "metadata": {},
     "output_type": "execute_result"
    }
   ],
   "source": [
    "np.nanpercentile(a, 50, axis=1, keepdims=True)"
   ]
  },
  {
   "cell_type": "markdown",
   "id": "f9fb589d",
   "metadata": {},
   "source": [
    "### numpy.quantile\n",
    "\n",
    "numpy.quantile(a, q, axis=None, out=None, overwrite_input=False, method='linear', keepdims=False, *, interpolation=None)"
   ]
  },
  {
   "cell_type": "code",
   "execution_count": 15,
   "id": "185d02b2",
   "metadata": {},
   "outputs": [
    {
     "data": {
      "text/plain": [
       "3.5"
      ]
     },
     "execution_count": 15,
     "metadata": {},
     "output_type": "execute_result"
    }
   ],
   "source": [
    "a = np.array([[10, 7, 4], [3, 2, 1]])\n",
    "\n",
    "np.quantile(a, 0.5)"
   ]
  },
  {
   "cell_type": "code",
   "execution_count": 16,
   "id": "8e8c7417",
   "metadata": {},
   "outputs": [
    {
     "data": {
      "text/plain": [
       "array([6.5, 4.5, 2.5])"
      ]
     },
     "execution_count": 16,
     "metadata": {},
     "output_type": "execute_result"
    }
   ],
   "source": [
    "np.quantile(a, 0.5, axis=0)"
   ]
  },
  {
   "cell_type": "code",
   "execution_count": 17,
   "id": "d3a97024",
   "metadata": {},
   "outputs": [
    {
     "data": {
      "text/plain": [
       "array([7., 2.])"
      ]
     },
     "execution_count": 17,
     "metadata": {},
     "output_type": "execute_result"
    }
   ],
   "source": [
    "np.quantile(a, 0.5, axis=1)"
   ]
  },
  {
   "cell_type": "code",
   "execution_count": 18,
   "id": "ae943c7a",
   "metadata": {},
   "outputs": [
    {
     "data": {
      "text/plain": [
       "array([[7.],\n",
       "       [2.]])"
      ]
     },
     "execution_count": 18,
     "metadata": {},
     "output_type": "execute_result"
    }
   ],
   "source": [
    "np.quantile(a, 0.5, axis=1, keepdims=True)"
   ]
  },
  {
   "cell_type": "markdown",
   "id": "c88cf681",
   "metadata": {},
   "source": [
    "### numpy.nanquantile\n",
    "\n",
    "numpy.nanquantile(a, q, axis=None, out=None, overwrite_input=False, method='linear', keepdims=<no value>, *, interpolation=None)"
   ]
  },
  {
   "cell_type": "code",
   "execution_count": 19,
   "id": "f51ef525",
   "metadata": {},
   "outputs": [
    {
     "data": {
      "text/plain": [
       "array([[10., nan,  4.],\n",
       "       [ 3.,  2.,  1.]])"
      ]
     },
     "execution_count": 19,
     "metadata": {},
     "output_type": "execute_result"
    }
   ],
   "source": [
    "a = np.array([[10., 7., 4.], [3., 2., 1.]])\n",
    "\n",
    "a[0][1] = np.nan\n",
    "\n",
    "a"
   ]
  },
  {
   "cell_type": "code",
   "execution_count": 20,
   "id": "7246cdcf",
   "metadata": {},
   "outputs": [
    {
     "data": {
      "text/plain": [
       "3.0"
      ]
     },
     "execution_count": 20,
     "metadata": {},
     "output_type": "execute_result"
    }
   ],
   "source": [
    "np.nanquantile(a, 0.5)"
   ]
  },
  {
   "cell_type": "code",
   "execution_count": 21,
   "id": "f205c781",
   "metadata": {},
   "outputs": [
    {
     "data": {
      "text/plain": [
       "array([6.5, 2. , 2.5])"
      ]
     },
     "execution_count": 21,
     "metadata": {},
     "output_type": "execute_result"
    }
   ],
   "source": [
    "np.nanquantile(a, 0.5, axis=0)"
   ]
  },
  {
   "cell_type": "code",
   "execution_count": 22,
   "id": "cfd03471",
   "metadata": {},
   "outputs": [
    {
     "data": {
      "text/plain": [
       "array([7., 2.])"
      ]
     },
     "execution_count": 22,
     "metadata": {},
     "output_type": "execute_result"
    }
   ],
   "source": [
    "np.nanquantile(a, 0.5, axis=1)"
   ]
  },
  {
   "cell_type": "code",
   "execution_count": 23,
   "id": "752afbf6",
   "metadata": {},
   "outputs": [
    {
     "data": {
      "text/plain": [
       "array([[7.],\n",
       "       [2.]])"
      ]
     },
     "execution_count": 23,
     "metadata": {},
     "output_type": "execute_result"
    }
   ],
   "source": [
    "np.nanquantile(a, 0.5, axis=1, keepdims=True)"
   ]
  },
  {
   "cell_type": "markdown",
   "id": "cf65741b",
   "metadata": {},
   "source": [
    "## Averages and variances"
   ]
  },
  {
   "cell_type": "markdown",
   "id": "4aebfa74",
   "metadata": {},
   "source": [
    "### numpy.mean\n",
    "\n",
    "numpy.mean(a, axis=None, dtype=None, out=None, keepdims=novalue, *, where=novalue)"
   ]
  },
  {
   "cell_type": "code",
   "execution_count": 24,
   "id": "b04eb574",
   "metadata": {},
   "outputs": [
    {
     "data": {
      "text/plain": [
       "3.5"
      ]
     },
     "execution_count": 24,
     "metadata": {},
     "output_type": "execute_result"
    }
   ],
   "source": [
    "a = np.array([1,2,3,4,5,6])\n",
    "\n",
    "np.mean(a)"
   ]
  },
  {
   "cell_type": "code",
   "execution_count": 25,
   "id": "6cd5d891",
   "metadata": {},
   "outputs": [
    {
     "data": {
      "text/plain": [
       "3.5"
      ]
     },
     "execution_count": 25,
     "metadata": {},
     "output_type": "execute_result"
    }
   ],
   "source": [
    "a = np.array([[1,2,3],\n",
    "              [4,5,6]])\n",
    "\n",
    "np.mean(a)"
   ]
  },
  {
   "cell_type": "code",
   "execution_count": 26,
   "id": "2fbda236",
   "metadata": {},
   "outputs": [
    {
     "data": {
      "text/plain": [
       "array([2.5, 3.5, 4.5])"
      ]
     },
     "execution_count": 26,
     "metadata": {},
     "output_type": "execute_result"
    }
   ],
   "source": [
    "np.mean(a, axis=0)"
   ]
  },
  {
   "cell_type": "code",
   "execution_count": 27,
   "id": "16f9b470",
   "metadata": {},
   "outputs": [
    {
     "data": {
      "text/plain": [
       "array([2., 5.])"
      ]
     },
     "execution_count": 27,
     "metadata": {},
     "output_type": "execute_result"
    }
   ],
   "source": [
    "np.mean(a, axis=1)"
   ]
  },
  {
   "cell_type": "code",
   "execution_count": 33,
   "id": "214d8939",
   "metadata": {},
   "outputs": [
    {
     "data": {
      "text/plain": [
       "array([[2.],\n",
       "       [5.]])"
      ]
     },
     "execution_count": 33,
     "metadata": {},
     "output_type": "execute_result"
    }
   ],
   "source": [
    "np.mean(a, axis=1, keepdims=True)"
   ]
  },
  {
   "cell_type": "markdown",
   "id": "2775a93a",
   "metadata": {},
   "source": [
    "### numpy.median\n",
    "\n",
    "numpy.median(a, axis=None, out=None, overwrite_input=False, keepdims=False)"
   ]
  },
  {
   "cell_type": "code",
   "execution_count": 28,
   "id": "8c590d03",
   "metadata": {},
   "outputs": [
    {
     "data": {
      "text/plain": [
       "4.0"
      ]
     },
     "execution_count": 28,
     "metadata": {},
     "output_type": "execute_result"
    }
   ],
   "source": [
    "arr = np.array([1,2,3,4,5,6,7])\n",
    "\n",
    "np.median(arr)"
   ]
  },
  {
   "cell_type": "code",
   "execution_count": 30,
   "id": "bbd86257",
   "metadata": {},
   "outputs": [
    {
     "data": {
      "text/plain": [
       "4.5"
      ]
     },
     "execution_count": 30,
     "metadata": {},
     "output_type": "execute_result"
    }
   ],
   "source": [
    "arr = np.array([[1,2,3,4],\n",
    "                [5,6,7,8]])\n",
    "\n",
    "np.median(arr) # 4+5 = 9/2 = 4.5"
   ]
  },
  {
   "cell_type": "code",
   "execution_count": 31,
   "id": "52a1a092",
   "metadata": {},
   "outputs": [
    {
     "data": {
      "text/plain": [
       "array([3., 4., 5., 6.])"
      ]
     },
     "execution_count": 31,
     "metadata": {},
     "output_type": "execute_result"
    }
   ],
   "source": [
    "np.median(arr, axis=0)"
   ]
  },
  {
   "cell_type": "code",
   "execution_count": 32,
   "id": "80437591",
   "metadata": {},
   "outputs": [
    {
     "data": {
      "text/plain": [
       "array([2.5, 6.5])"
      ]
     },
     "execution_count": 32,
     "metadata": {},
     "output_type": "execute_result"
    }
   ],
   "source": [
    "np.median(arr, axis=1)"
   ]
  },
  {
   "cell_type": "code",
   "execution_count": 34,
   "id": "64776164",
   "metadata": {},
   "outputs": [
    {
     "data": {
      "text/plain": [
       "array([[2.5],\n",
       "       [6.5]])"
      ]
     },
     "execution_count": 34,
     "metadata": {},
     "output_type": "execute_result"
    }
   ],
   "source": [
    "np.median(arr, axis=1, keepdims=True)"
   ]
  },
  {
   "cell_type": "markdown",
   "id": "7acdc344",
   "metadata": {},
   "source": [
    "### numpy.average\n",
    "\n",
    "numpy.average(a, axis=None, weights=None, returned=False)"
   ]
  },
  {
   "cell_type": "code",
   "execution_count": 35,
   "id": "bb389342",
   "metadata": {},
   "outputs": [
    {
     "data": {
      "text/plain": [
       "array([ 1,  2,  3,  4,  5,  6,  7,  8,  9, 10])"
      ]
     },
     "execution_count": 35,
     "metadata": {},
     "output_type": "execute_result"
    }
   ],
   "source": [
    "arr = np.arange(1, 11)\n",
    "arr"
   ]
  },
  {
   "cell_type": "code",
   "execution_count": 36,
   "id": "c6a6d298",
   "metadata": {},
   "outputs": [
    {
     "data": {
      "text/plain": [
       "5.5"
      ]
     },
     "execution_count": 36,
     "metadata": {},
     "output_type": "execute_result"
    }
   ],
   "source": [
    "np.average(arr)"
   ]
  },
  {
   "cell_type": "code",
   "execution_count": 37,
   "id": "f3f414c7",
   "metadata": {},
   "outputs": [
    {
     "data": {
      "text/plain": [
       "array([[ 1,  2,  3,  4],\n",
       "       [ 5,  6,  7,  8],\n",
       "       [ 9, 10, 11, 12]])"
      ]
     },
     "execution_count": 37,
     "metadata": {},
     "output_type": "execute_result"
    }
   ],
   "source": [
    "arr = np.arange(1, 13).reshape(3,4)\n",
    "arr"
   ]
  },
  {
   "cell_type": "code",
   "execution_count": 38,
   "id": "e4580156",
   "metadata": {},
   "outputs": [
    {
     "data": {
      "text/plain": [
       "78"
      ]
     },
     "execution_count": 38,
     "metadata": {},
     "output_type": "execute_result"
    }
   ],
   "source": [
    "arr.sum()"
   ]
  },
  {
   "cell_type": "code",
   "execution_count": 39,
   "id": "6bb0d94b",
   "metadata": {},
   "outputs": [
    {
     "data": {
      "text/plain": [
       "78"
      ]
     },
     "execution_count": 39,
     "metadata": {},
     "output_type": "execute_result"
    }
   ],
   "source": [
    "np.sum(arr)"
   ]
  },
  {
   "cell_type": "code",
   "execution_count": 40,
   "id": "d3c6bc1e",
   "metadata": {},
   "outputs": [
    {
     "data": {
      "text/plain": [
       "6.5"
      ]
     },
     "execution_count": 40,
     "metadata": {},
     "output_type": "execute_result"
    }
   ],
   "source": [
    "np.average(arr)"
   ]
  },
  {
   "cell_type": "code",
   "execution_count": 43,
   "id": "9c547620",
   "metadata": {},
   "outputs": [
    {
     "data": {
      "text/plain": [
       "6.5"
      ]
     },
     "execution_count": 43,
     "metadata": {},
     "output_type": "execute_result"
    }
   ],
   "source": [
    "np.sum(arr) / arr.size"
   ]
  },
  {
   "cell_type": "code",
   "execution_count": 44,
   "id": "8846a727",
   "metadata": {},
   "outputs": [
    {
     "data": {
      "text/plain": [
       "array([5., 6., 7., 8.])"
      ]
     },
     "execution_count": 44,
     "metadata": {},
     "output_type": "execute_result"
    }
   ],
   "source": [
    "np.average(arr, axis=0)"
   ]
  },
  {
   "cell_type": "code",
   "execution_count": 45,
   "id": "28292ba9",
   "metadata": {},
   "outputs": [
    {
     "data": {
      "text/plain": [
       "array([ 2.5,  6.5, 10.5])"
      ]
     },
     "execution_count": 45,
     "metadata": {},
     "output_type": "execute_result"
    }
   ],
   "source": [
    "np.average(arr, axis=1)"
   ]
  },
  {
   "cell_type": "markdown",
   "id": "49138897",
   "metadata": {},
   "source": [
    "### numpy.std\n",
    "\n",
    "numpy.std(a, axis=None, dtype=None, out=None, ddof=0, keepdims=(no value), *, where=(no value))"
   ]
  },
  {
   "cell_type": "code",
   "execution_count": 49,
   "id": "a7992c3e",
   "metadata": {},
   "outputs": [
    {
     "data": {
      "text/plain": [
       "3.452052529534663"
      ]
     },
     "execution_count": 49,
     "metadata": {},
     "output_type": "execute_result"
    }
   ],
   "source": [
    "arr = np.array([1,2,3,4,5,6,7,8,9,10,11,12])\n",
    "\n",
    "np.std(arr)"
   ]
  },
  {
   "cell_type": "code",
   "execution_count": 50,
   "id": "32fd23f5",
   "metadata": {},
   "outputs": [
    {
     "data": {
      "text/plain": [
       "array([[ 1,  2,  3,  4],\n",
       "       [ 5,  6,  7,  8],\n",
       "       [ 9, 10, 11, 12]])"
      ]
     },
     "execution_count": 50,
     "metadata": {},
     "output_type": "execute_result"
    }
   ],
   "source": [
    "arr = np.arange(1, 13).reshape(3,4)\n",
    "arr"
   ]
  },
  {
   "cell_type": "code",
   "execution_count": 51,
   "id": "71d62d3c",
   "metadata": {},
   "outputs": [
    {
     "data": {
      "text/plain": [
       "3.452052529534663"
      ]
     },
     "execution_count": 51,
     "metadata": {},
     "output_type": "execute_result"
    }
   ],
   "source": [
    "np.std(arr)"
   ]
  },
  {
   "cell_type": "code",
   "execution_count": 52,
   "id": "14f79e66",
   "metadata": {},
   "outputs": [
    {
     "data": {
      "text/plain": [
       "array([3.26598632, 3.26598632, 3.26598632, 3.26598632])"
      ]
     },
     "execution_count": 52,
     "metadata": {},
     "output_type": "execute_result"
    }
   ],
   "source": [
    "np.std(arr, axis=0)"
   ]
  },
  {
   "cell_type": "code",
   "execution_count": 53,
   "id": "e73c267e",
   "metadata": {},
   "outputs": [
    {
     "data": {
      "text/plain": [
       "array([1.11803399, 1.11803399, 1.11803399])"
      ]
     },
     "execution_count": 53,
     "metadata": {},
     "output_type": "execute_result"
    }
   ],
   "source": [
    "np.std(arr, axis=1)"
   ]
  },
  {
   "cell_type": "code",
   "execution_count": 54,
   "id": "921a339c",
   "metadata": {},
   "outputs": [
    {
     "data": {
      "text/plain": [
       "array([[1.11803399],\n",
       "       [1.11803399],\n",
       "       [1.11803399]])"
      ]
     },
     "execution_count": 54,
     "metadata": {},
     "output_type": "execute_result"
    }
   ],
   "source": [
    "np.std(arr, axis=1, keepdims=True)"
   ]
  },
  {
   "cell_type": "markdown",
   "id": "d0eaee08",
   "metadata": {},
   "source": [
    "### numpy.var\n",
    "\n",
    "numpy.var(a, axis=None, dtype=None, out=None, ddof=0, keepdims=(no value), *, where=(no value))"
   ]
  },
  {
   "cell_type": "code",
   "execution_count": 55,
   "id": "93623081",
   "metadata": {},
   "outputs": [
    {
     "data": {
      "text/plain": [
       "11.916666666666666"
      ]
     },
     "execution_count": 55,
     "metadata": {},
     "output_type": "execute_result"
    }
   ],
   "source": [
    "arr = np.array([1,2,3,4,5,6,7,8,9,10,11,12])\n",
    "\n",
    "np.var(arr)"
   ]
  },
  {
   "cell_type": "code",
   "execution_count": 56,
   "id": "c6ff9d50",
   "metadata": {},
   "outputs": [
    {
     "data": {
      "text/plain": [
       "array([[ 1,  2,  3,  4],\n",
       "       [ 5,  6,  7,  8],\n",
       "       [ 9, 10, 11, 12]])"
      ]
     },
     "execution_count": 56,
     "metadata": {},
     "output_type": "execute_result"
    }
   ],
   "source": [
    "arr = np.arange(1, 13).reshape(3,4)\n",
    "arr"
   ]
  },
  {
   "cell_type": "code",
   "execution_count": 57,
   "id": "425b6671",
   "metadata": {},
   "outputs": [
    {
     "data": {
      "text/plain": [
       "11.916666666666666"
      ]
     },
     "execution_count": 57,
     "metadata": {},
     "output_type": "execute_result"
    }
   ],
   "source": [
    "np.var(arr)"
   ]
  },
  {
   "cell_type": "code",
   "execution_count": 58,
   "id": "572c44c9",
   "metadata": {},
   "outputs": [
    {
     "data": {
      "text/plain": [
       "array([10.66666667, 10.66666667, 10.66666667, 10.66666667])"
      ]
     },
     "execution_count": 58,
     "metadata": {},
     "output_type": "execute_result"
    }
   ],
   "source": [
    "np.var(arr, axis=0)"
   ]
  },
  {
   "cell_type": "code",
   "execution_count": 59,
   "id": "0546a8d8",
   "metadata": {},
   "outputs": [
    {
     "data": {
      "text/plain": [
       "array([1.25, 1.25, 1.25])"
      ]
     },
     "execution_count": 59,
     "metadata": {},
     "output_type": "execute_result"
    }
   ],
   "source": [
    "np.var(arr, axis=1)"
   ]
  },
  {
   "cell_type": "code",
   "execution_count": 60,
   "id": "18695a2a",
   "metadata": {},
   "outputs": [
    {
     "data": {
      "text/plain": [
       "array([[1.25],\n",
       "       [1.25],\n",
       "       [1.25]])"
      ]
     },
     "execution_count": 60,
     "metadata": {},
     "output_type": "execute_result"
    }
   ],
   "source": [
    "np.var(arr, axis=1, keepdims=True)"
   ]
  },
  {
   "cell_type": "markdown",
   "id": "a6f4fb99",
   "metadata": {},
   "source": [
    "### numpy.nanmedian\n",
    "\n",
    "numpy.nanmedian(a, axis=None, out=None, overwrite_input=False, keepdims=(no value))"
   ]
  },
  {
   "cell_type": "markdown",
   "id": "55661ed0",
   "metadata": {},
   "source": [
    "### numpy.nanmean\n",
    "\n",
    "numpy.nanmean(a, axis=None, dtype=None, out=None, keepdims=(no value), *, where=(no value))"
   ]
  },
  {
   "cell_type": "markdown",
   "id": "a00ba254",
   "metadata": {},
   "source": [
    "### numpy.nanstd\n",
    "\n",
    "numpy.nanstd(a, axis=None, dtype=None, out=None, ddof=0, keepdims=(no value), *, where=(no value))"
   ]
  },
  {
   "cell_type": "markdown",
   "id": "32a12ac6",
   "metadata": {},
   "source": [
    "### numpy.nanvar\n",
    "\n",
    "numpy.nanvar(a, axis=None, dtype=None, out=None, ddof=0, keepdims=(no value), *, where=(no value))"
   ]
  },
  {
   "cell_type": "markdown",
   "id": "1e31c6ba",
   "metadata": {},
   "source": [
    "# Correlating"
   ]
  },
  {
   "cell_type": "markdown",
   "id": "26b25acf",
   "metadata": {},
   "source": [
    "### numpy.corrcoef\n",
    "\n",
    "numpy.corrcoef(x, y=None, rowvar=True, bias=(no value), ddof=(no value), *, dtype=None)"
   ]
  },
  {
   "attachments": {
    "Screenshot_6.jpg": {
     "image/jpeg": "[encoded data removed]"
    }
   },
   "cell_type": "markdown",
   "id": "8b92f25b",
   "metadata": {},
   "source": [
    "![Screenshot_6.jpg](attachment:Screenshot_6.jpg)"
   ]
  },
  {
   "cell_type": "code",
   "execution_count": 61,
   "id": "ea1a6e80",
   "metadata": {},
   "outputs": [
    {
     "data": {
      "text/plain": [
       "array([[0.77395605, 0.43887844, 0.85859792],\n",
       "       [0.69736803, 0.09417735, 0.97562235],\n",
       "       [0.7611397 , 0.78606431, 0.12811363]])"
      ]
     },
     "execution_count": 61,
     "metadata": {},
     "output_type": "execute_result"
    }
   ],
   "source": [
    "rng = np.random.default_rng(seed=42)\n",
    "\n",
    "xarr = rng.random((3, 3))\n",
    "\n",
    "xarr"
   ]
  },
  {
   "cell_type": "code",
   "execution_count": 62,
   "id": "57882ad1",
   "metadata": {},
   "outputs": [
    {
     "data": {
      "text/plain": [
       "array([[ 1.        ,  0.99256089, -0.68080986],\n",
       "       [ 0.99256089,  1.        , -0.76492172],\n",
       "       [-0.68080986, -0.76492172,  1.        ]])"
      ]
     },
     "execution_count": 62,
     "metadata": {},
     "output_type": "execute_result"
    }
   ],
   "source": [
    "R1 = np.corrcoef(xarr)\n",
    "R1"
   ]
  },
  {
   "cell_type": "markdown",
   "id": "c900ed3e",
   "metadata": {},
   "source": [
    "### numpy.correlate\n",
    "\n",
    "numpy.correlate(a, v, mode='valid')"
   ]
  },
  {
   "cell_type": "code",
   "execution_count": 63,
   "id": "33bdb7dc",
   "metadata": {},
   "outputs": [
    {
     "data": {
      "text/plain": [
       "array([3.5])"
      ]
     },
     "execution_count": 63,
     "metadata": {},
     "output_type": "execute_result"
    }
   ],
   "source": [
    "np.correlate([1, 2, 3], [0, 1, 0.5])"
   ]
  },
  {
   "cell_type": "code",
   "execution_count": 64,
   "id": "2c391957",
   "metadata": {},
   "outputs": [
    {
     "data": {
      "text/plain": [
       "array([2. , 3.5, 3. ])"
      ]
     },
     "execution_count": 64,
     "metadata": {},
     "output_type": "execute_result"
    }
   ],
   "source": [
    "np.correlate([1, 2, 3], [0, 1, 0.5], \"same\")"
   ]
  },
  {
   "cell_type": "code",
   "execution_count": 65,
   "id": "8c32b29c",
   "metadata": {},
   "outputs": [
    {
     "data": {
      "text/plain": [
       "array([0.5, 2. , 3.5, 3. , 0. ])"
      ]
     },
     "execution_count": 65,
     "metadata": {},
     "output_type": "execute_result"
    }
   ],
   "source": [
    "np.correlate([1, 2, 3], [0, 1, 0.5], \"full\")"
   ]
  },
  {
   "cell_type": "code",
   "execution_count": 66,
   "id": "a3e7e1d3",
   "metadata": {},
   "outputs": [
    {
     "data": {
      "text/plain": [
       "array([0.5-0.5j, 1. +0.j , 1.5-1.5j, 3. -1.j , 0. +0.j ])"
      ]
     },
     "execution_count": 66,
     "metadata": {},
     "output_type": "execute_result"
    }
   ],
   "source": [
    "np.correlate([1+1j, 2, 3-1j], [0, 1, 0.5j], 'full')"
   ]
  },
  {
   "cell_type": "markdown",
   "id": "7545031f",
   "metadata": {},
   "source": [
    "### numpy.cov\n",
    "\n",
    "numpy.cov(m, y=None, rowvar=True, bias=False, ddof=None, fweights=None, aweights=None, *, dtype=None)"
   ]
  },
  {
   "cell_type": "code",
   "execution_count": 67,
   "id": "92bf3b6c",
   "metadata": {},
   "outputs": [],
   "source": [
    "m = np.arange(10, dtype=np.float64)\n",
    "\n",
    "f = np.arange(10) * 2\n",
    "\n",
    "a = np.arange(10) ** 2.\n",
    "\n",
    "ddof = 1\n",
    "\n",
    "w = f * a\n",
    "\n",
    "v1 = np.sum(w)\n",
    "\n",
    "v2 = np.sum(w * a)\n",
    "\n",
    "m -= np.sum(m * w, axis=None, keepdims=True) / v1\n",
    "\n",
    "cov = np.dot(m * w, m.T) * v1 / (v1**2 - ddof * v2)"
   ]
  },
  {
   "cell_type": "code",
   "execution_count": 68,
   "id": "6022c712",
   "metadata": {},
   "outputs": [
    {
     "data": {
      "text/plain": [
       "2.3686219474841983"
      ]
     },
     "execution_count": 68,
     "metadata": {},
     "output_type": "execute_result"
    }
   ],
   "source": [
    "cov"
   ]
  },
  {
   "cell_type": "markdown",
   "id": "cd4e9b5b",
   "metadata": {},
   "source": [
    "# Histograms"
   ]
  },
  {
   "cell_type": "markdown",
   "id": "9f74c77b",
   "metadata": {},
   "source": [
    "### numpy.histogram\n",
    "\n",
    "numpy.histogram(a, bins=10, range=None, normed=None, weights=None, density=None)"
   ]
  },
  {
   "cell_type": "markdown",
   "id": "c05bdf31",
   "metadata": {},
   "source": [
    "### numpy.histogram2d\n",
    "\n",
    "numpy.histogram2d(x, y, bins=10, range=None, normed=None, weights=None, density=None)[source]"
   ]
  },
  {
   "cell_type": "markdown",
   "id": "0945c0fd",
   "metadata": {},
   "source": [
    "### numpy.histogramdd\n",
    "\n",
    "numpy.histogramdd(sample, bins=10, range=None, normed=None, weights=None, density=None)"
   ]
  },
  {
   "cell_type": "markdown",
   "id": "5d231566",
   "metadata": {},
   "source": [
    "### numpy.bincount\n",
    "\n",
    "numpy.bincount(x, /, weights=None, minlength=0)"
   ]
  },
  {
   "cell_type": "markdown",
   "id": "a234b021",
   "metadata": {},
   "source": [
    "### numpy.histogram_bin_edges\n",
    "\n",
    "numpy.histogram_bin_edges(a, bins=10, range=None, weights=None)"
   ]
  },
  {
   "cell_type": "markdown",
   "id": "b33a25f8",
   "metadata": {},
   "source": [
    "### numpy.digitize\n",
    "\n",
    "numpy.digitize(x, bins, right=False)"
   ]
  },
  {
   "cell_type": "code",
   "execution_count": null,
   "id": "c814d579",
   "metadata": {},
   "outputs": [],
   "source": []
  }
 ],
 "metadata": {
  "kernelspec": {
   "display_name": "Python 3 (ipykernel)",
   "language": "python",
   "name": "python3"
  },
  "language_info": {
   "codemirror_mode": {
    "name": "ipython",
    "version": 3
   },
   "file_extension": ".py",
   "mimetype": "text/x-python",
   "name": "python",
   "nbconvert_exporter": "python",
   "pygments_lexer": "ipython3",
   "version": "3.10.2"
  }
 },
 "nbformat": 4,
 "nbformat_minor": 5
}
