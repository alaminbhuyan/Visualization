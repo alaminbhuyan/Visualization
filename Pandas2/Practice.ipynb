{
 "cells": [
  {
   "cell_type": "code",
   "execution_count": 1,
   "metadata": {},
   "outputs": [],
   "source": [
    "import pandas as pd\n",
    "import numpy as np"
   ]
  },
  {
   "cell_type": "code",
   "execution_count": 3,
   "metadata": {},
   "outputs": [
    {
     "data": {
      "text/plain": [
       "array([[0.12176417, 0.58493621, 0.5774856 ],\n",
       "       [0.77301577, 0.32933099, 0.80390301],\n",
       "       [0.25888591, 0.75399197, 0.4582537 ],\n",
       "       [0.34714489, 0.80420512, 0.36292712],\n",
       "       [0.09599403, 0.05800953, 0.63209451],\n",
       "       [0.03041397, 0.21630715, 0.08619253],\n",
       "       [0.48763442, 0.71804187, 0.05046796],\n",
       "       [0.32176861, 0.92253281, 0.46297052],\n",
       "       [0.07572229, 0.07107973, 0.34422245],\n",
       "       [0.98851631, 0.1831064 , 0.04604768]])"
      ]
     },
     "execution_count": 3,
     "metadata": {},
     "output_type": "execute_result"
    }
   ],
   "source": [
    "np.random.rand(10,3)"
   ]
  },
  {
   "cell_type": "code",
   "execution_count": 6,
   "metadata": {},
   "outputs": [
    {
     "data": {
      "text/plain": [
       "array([[[0.58209838, 0.2424385 , 0.77762333],\n",
       "        [0.11748299, 0.0673791 , 0.15146967],\n",
       "        [0.44102911, 0.79137595, 0.2425246 ]],\n",
       "\n",
       "       [[0.31252109, 0.29172629, 0.51835024],\n",
       "        [0.93672477, 0.08063187, 0.39764372],\n",
       "        [0.24998443, 0.4284832 , 0.97695211]],\n",
       "\n",
       "       [[0.26913148, 0.51084491, 0.35047186],\n",
       "        [0.05987383, 0.9228181 , 0.58391655],\n",
       "        [0.46469175, 0.60293949, 0.62190761]],\n",
       "\n",
       "       [[0.39988533, 0.62283722, 0.76341139],\n",
       "        [0.91922636, 0.99711008, 0.19124402],\n",
       "        [0.35890822, 0.45085581, 0.02659851]],\n",
       "\n",
       "       [[0.82066687, 0.43855605, 0.58602625],\n",
       "        [0.38407644, 0.14594999, 0.62418918],\n",
       "        [0.68858217, 0.70214998, 0.09366556]],\n",
       "\n",
       "       [[0.16206009, 0.21020728, 0.25317868],\n",
       "        [0.48362615, 0.30896263, 0.29194309],\n",
       "        [0.82799626, 0.02273835, 0.52836362]],\n",
       "\n",
       "       [[0.9815448 , 0.50048001, 0.24803657],\n",
       "        [0.15734677, 0.55682159, 0.23094581],\n",
       "        [0.4576279 , 0.60818035, 0.23892962]],\n",
       "\n",
       "       [[0.35875106, 0.41804397, 0.47737837],\n",
       "        [0.72560371, 0.25059771, 0.01147904],\n",
       "        [0.32170896, 0.09929673, 0.82207711]],\n",
       "\n",
       "       [[0.44929622, 0.08919259, 0.99425331],\n",
       "        [0.51308106, 0.66458131, 0.03626071],\n",
       "        [0.50470525, 0.39928428, 0.88488506]],\n",
       "\n",
       "       [[0.17172927, 0.78541943, 0.50273559],\n",
       "        [0.78999851, 0.12944269, 0.26463463],\n",
       "        [0.89027781, 0.29680502, 0.88998068]]])"
      ]
     },
     "execution_count": 6,
     "metadata": {},
     "output_type": "execute_result"
    }
   ],
   "source": [
    "np.random.rand(10,3,3) # number of 10 => number of row,3=>number of col,3=>number of shape"
   ]
  },
  {
   "cell_type": "code",
   "execution_count": 10,
   "metadata": {},
   "outputs": [],
   "source": [
    "lis = [23,25,26,27,27,28,28,29,30,30,31,32,32,32,32,33,33,35,35,35,36,36,37,39]\n"
   ]
  },
  {
   "cell_type": "code",
   "execution_count": 11,
   "metadata": {},
   "outputs": [
    {
     "data": {
      "text/plain": [
       "31.291666666666668"
      ]
     },
     "execution_count": 11,
     "metadata": {},
     "output_type": "execute_result"
    }
   ],
   "source": [
    "np.mean(lis)"
   ]
  },
  {
   "cell_type": "code",
   "execution_count": 12,
   "metadata": {},
   "outputs": [
    {
     "data": {
      "text/plain": [
       "751"
      ]
     },
     "execution_count": 12,
     "metadata": {},
     "output_type": "execute_result"
    }
   ],
   "source": [
    "np.sum(lis)"
   ]
  },
  {
   "cell_type": "code",
   "execution_count": 14,
   "metadata": {},
   "outputs": [
    {
     "data": {
      "text/plain": [
       "32.0"
      ]
     },
     "execution_count": 14,
     "metadata": {},
     "output_type": "execute_result"
    }
   ],
   "source": [
    "np.median(lis)"
   ]
  },
  {
   "cell_type": "code",
   "execution_count": 15,
   "metadata": {},
   "outputs": [
    {
     "data": {
      "text/plain": [
       "4.025741822598938"
      ]
     },
     "execution_count": 15,
     "metadata": {},
     "output_type": "execute_result"
    }
   ],
   "source": [
    "np.std(lis)"
   ]
  },
  {
   "cell_type": "code",
   "execution_count": 16,
   "metadata": {},
   "outputs": [],
   "source": [
    "import statistics"
   ]
  },
  {
   "cell_type": "code",
   "execution_count": 17,
   "metadata": {},
   "outputs": [
    {
     "data": {
      "text/plain": [
       "4.112326821163169"
      ]
     },
     "execution_count": 17,
     "metadata": {},
     "output_type": "execute_result"
    }
   ],
   "source": [
    "statistics.stdev(lis)"
   ]
  },
  {
   "cell_type": "code",
   "execution_count": null,
   "metadata": {},
   "outputs": [],
   "source": []
  }
 ],
 "metadata": {
  "kernelspec": {
   "display_name": "Python 3",
   "language": "python",
   "name": "python3"
  },
  "language_info": {
   "codemirror_mode": {
    "name": "ipython",
    "version": 3
   },
   "file_extension": ".py",
   "mimetype": "text/x-python",
   "name": "python",
   "nbconvert_exporter": "python",
   "pygments_lexer": "ipython3",
   "version": "3.8.6"
  }
 },
 "nbformat": 4,
 "nbformat_minor": 4
}
