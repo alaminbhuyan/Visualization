{
 "cells": [
  {
   "cell_type": "code",
   "execution_count": 1,
   "metadata": {},
   "outputs": [],
   "source": [
    "import pandas as pd\n",
    "import numpy as np"
   ]
  },
  {
   "cell_type": "code",
   "execution_count": 2,
   "metadata": {},
   "outputs": [
    {
     "data": {
      "text/plain": [
       "array([[0.13208479, 0.19828248, 0.24090333],\n",
       "       [0.23699396, 0.31980707, 0.96411246],\n",
       "       [0.74455816, 0.73783359, 0.89940682],\n",
       "       [0.13947593, 0.26808069, 0.49388164],\n",
       "       [0.23994428, 0.47115194, 0.3396526 ],\n",
       "       [0.84468323, 0.76838686, 0.60938815],\n",
       "       [0.47655905, 0.41550187, 0.21958466],\n",
       "       [0.7414216 , 0.73574472, 0.91539987],\n",
       "       [0.35466217, 0.79328324, 0.96978521],\n",
       "       [0.66775142, 0.74525641, 0.49978737]])"
      ]
     },
     "execution_count": 2,
     "metadata": {},
     "output_type": "execute_result"
    }
   ],
   "source": [
    "np.random.rand(10,3)"
   ]
  },
  {
   "cell_type": "code",
   "execution_count": 3,
   "metadata": {},
   "outputs": [
    {
     "data": {
      "text/plain": [
       "array([[[0.53910766, 0.59319555, 0.99070451],\n",
       "        [0.00730984, 0.77048056, 0.71344637],\n",
       "        [0.73920206, 0.24072926, 0.6173715 ]],\n",
       "\n",
       "       [[0.12947168, 0.36992595, 0.80848003],\n",
       "        [0.8820941 , 0.23111324, 0.55296428],\n",
       "        [0.72432672, 0.35282782, 0.23698184]],\n",
       "\n",
       "       [[0.63177167, 0.31070258, 0.88738841],\n",
       "        [0.29882936, 0.25917419, 0.84471877],\n",
       "        [0.48315035, 0.20975568, 0.56057973]],\n",
       "\n",
       "       [[0.83069054, 0.03414275, 0.27749922],\n",
       "        [0.64088088, 0.77808   , 0.26887407],\n",
       "        [0.39860905, 0.32977643, 0.61736469]],\n",
       "\n",
       "       [[0.96722895, 0.53315496, 0.78050024],\n",
       "        [0.75807164, 0.00647741, 0.68488761],\n",
       "        [0.88783117, 0.78238826, 0.53181483]],\n",
       "\n",
       "       [[0.09693216, 0.14077686, 0.86820082],\n",
       "        [0.31815308, 0.06133055, 0.77599207],\n",
       "        [0.21101932, 0.20388619, 0.34293203]],\n",
       "\n",
       "       [[0.99589707, 0.20936936, 0.08011121],\n",
       "        [0.4981824 , 0.75335081, 0.6467583 ],\n",
       "        [0.94814678, 0.19211072, 0.97437535]],\n",
       "\n",
       "       [[0.46323654, 0.13516693, 0.71696224],\n",
       "        [0.23310962, 0.46665845, 0.18460202],\n",
       "        [0.37583447, 0.22977097, 0.5374044 ]],\n",
       "\n",
       "       [[0.46438385, 0.72875428, 0.63076923],\n",
       "        [0.38102921, 0.28121866, 0.71642602],\n",
       "        [0.89795878, 0.2095711 , 0.33214573]],\n",
       "\n",
       "       [[0.23676791, 0.73742581, 0.32717169],\n",
       "        [0.07041417, 0.67658121, 0.74784864],\n",
       "        [0.71986942, 0.09931418, 0.67553838]]])"
      ]
     },
     "execution_count": 3,
     "metadata": {},
     "output_type": "execute_result"
    }
   ],
   "source": [
    "np.random.rand(10,3,3) # number of 10 => number of row,3=>number of col,3=>number of shape"
   ]
  },
  {
   "cell_type": "code",
   "execution_count": 4,
   "metadata": {},
   "outputs": [],
   "source": [
    "lis = [23,25,26,27,27,28,28,29,30,30,31,32,32,32,32,33,33,35,35,35,36,36,37,39]\n"
   ]
  },
  {
   "cell_type": "code",
   "execution_count": 5,
   "metadata": {},
   "outputs": [
    {
     "data": {
      "text/plain": [
       "31.291666666666668"
      ]
     },
     "execution_count": 5,
     "metadata": {},
     "output_type": "execute_result"
    }
   ],
   "source": [
    "np.mean(lis)"
   ]
  },
  {
   "cell_type": "code",
   "execution_count": 6,
   "metadata": {},
   "outputs": [
    {
     "data": {
      "text/plain": [
       "751"
      ]
     },
     "execution_count": 6,
     "metadata": {},
     "output_type": "execute_result"
    }
   ],
   "source": [
    "np.sum(lis)"
   ]
  },
  {
   "cell_type": "code",
   "execution_count": 7,
   "metadata": {},
   "outputs": [
    {
     "data": {
      "text/plain": [
       "32.0"
      ]
     },
     "execution_count": 7,
     "metadata": {},
     "output_type": "execute_result"
    }
   ],
   "source": [
    "np.median(lis)"
   ]
  },
  {
   "cell_type": "code",
   "execution_count": 8,
   "metadata": {},
   "outputs": [
    {
     "data": {
      "text/plain": [
       "4.025741822598938"
      ]
     },
     "execution_count": 8,
     "metadata": {},
     "output_type": "execute_result"
    }
   ],
   "source": [
    "np.std(lis)"
   ]
  },
  {
   "cell_type": "code",
   "execution_count": 9,
   "metadata": {},
   "outputs": [],
   "source": [
    "import statistics"
   ]
  },
  {
   "cell_type": "code",
   "execution_count": 10,
   "metadata": {},
   "outputs": [
    {
     "data": {
      "text/plain": [
       "4.112326821163169"
      ]
     },
     "execution_count": 10,
     "metadata": {},
     "output_type": "execute_result"
    }
   ],
   "source": [
    "statistics.stdev(lis)"
   ]
  },
  {
   "cell_type": "code",
   "execution_count": null,
   "metadata": {},
   "outputs": [],
   "source": []
  }
 ],
 "metadata": {
  "kernelspec": {
   "display_name": "Python 3",
   "language": "python",
   "name": "python3"
  },
  "language_info": {
   "codemirror_mode": {
    "name": "ipython",
    "version": 3
   },
   "file_extension": ".py",
   "mimetype": "text/x-python",
   "name": "python",
   "nbconvert_exporter": "python",
   "pygments_lexer": "ipython3",
   "version": "3.9.1"
  }
 },
 "nbformat": 4,
 "nbformat_minor": 4
}
