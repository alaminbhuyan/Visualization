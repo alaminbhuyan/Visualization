{
 "cells": [
  {
   "cell_type": "markdown",
   "metadata": {
    "id": "k3aN-LVHXnkV"
   },
   "source": [
    "# **Cross-validation example: parameter tuning**"
   ]
  },
  {
   "cell_type": "code",
   "execution_count": 1,
   "metadata": {
    "executionInfo": {
     "elapsed": 1223,
     "status": "ok",
     "timestamp": 1605552922146,
     "user": {
      "displayName": "Al Amin",
      "photoUrl": "https://lh3.googleusercontent.com/a-/AOh14GiMB6CqgQqINGrgkLYU8ftIloMfHO5LgiFZgCAUSg=s64",
      "userId": "17120997331533597303"
     },
     "user_tz": -360
    },
    "id": "rKFfK4vJU46G"
   },
   "outputs": [],
   "source": [
    "import numpy as np\n",
    "import pandas as pd\n",
    "import matplotlib.pyplot as plt\n",
    "from sklearn import datasets\n",
    "from sklearn.model_selection import train_test_split,cross_val_score\n",
    "from sklearn.neighbors import KNeighborsClassifier\n",
    "from sklearn.metrics import accuracy_score"
   ]
  },
  {
   "cell_type": "code",
   "execution_count": 2,
   "metadata": {
    "colab": {
     "base_uri": "https://localhost:8080/",
     "height": 204
    },
    "executionInfo": {
     "elapsed": 1023,
     "status": "ok",
     "timestamp": 1605552501889,
     "user": {
      "displayName": "Al Amin",
      "photoUrl": "https://lh3.googleusercontent.com/a-/AOh14GiMB6CqgQqINGrgkLYU8ftIloMfHO5LgiFZgCAUSg=s64",
      "userId": "17120997331533597303"
     },
     "user_tz": -360
    },
    "id": "dNih8LtTYZLX",
    "outputId": "3d4d5004-fb39-4e60-8966-117db2dff1d0"
   },
   "outputs": [
    {
     "data": {
      "text/html": [
       "<div>\n",
       "<style scoped>\n",
       "    .dataframe tbody tr th:only-of-type {\n",
       "        vertical-align: middle;\n",
       "    }\n",
       "\n",
       "    .dataframe tbody tr th {\n",
       "        vertical-align: top;\n",
       "    }\n",
       "\n",
       "    .dataframe thead tr th {\n",
       "        text-align: left;\n",
       "    }\n",
       "</style>\n",
       "<table border=\"1\" class=\"dataframe\">\n",
       "  <thead>\n",
       "    <tr>\n",
       "      <th></th>\n",
       "      <th>sepal length (cm)</th>\n",
       "      <th>sepal width (cm)</th>\n",
       "      <th>petal length (cm)</th>\n",
       "      <th>petal width (cm)</th>\n",
       "      <th>target</th>\n",
       "    </tr>\n",
       "  </thead>\n",
       "  <tbody>\n",
       "    <tr>\n",
       "      <th>0</th>\n",
       "      <td>5.1</td>\n",
       "      <td>3.5</td>\n",
       "      <td>1.4</td>\n",
       "      <td>0.2</td>\n",
       "      <td>0.0</td>\n",
       "    </tr>\n",
       "    <tr>\n",
       "      <th>1</th>\n",
       "      <td>4.9</td>\n",
       "      <td>3.0</td>\n",
       "      <td>1.4</td>\n",
       "      <td>0.2</td>\n",
       "      <td>0.0</td>\n",
       "    </tr>\n",
       "    <tr>\n",
       "      <th>2</th>\n",
       "      <td>4.7</td>\n",
       "      <td>3.2</td>\n",
       "      <td>1.3</td>\n",
       "      <td>0.2</td>\n",
       "      <td>0.0</td>\n",
       "    </tr>\n",
       "    <tr>\n",
       "      <th>3</th>\n",
       "      <td>4.6</td>\n",
       "      <td>3.1</td>\n",
       "      <td>1.5</td>\n",
       "      <td>0.2</td>\n",
       "      <td>0.0</td>\n",
       "    </tr>\n",
       "    <tr>\n",
       "      <th>4</th>\n",
       "      <td>5.0</td>\n",
       "      <td>3.6</td>\n",
       "      <td>1.4</td>\n",
       "      <td>0.2</td>\n",
       "      <td>0.0</td>\n",
       "    </tr>\n",
       "  </tbody>\n",
       "</table>\n",
       "</div>"
      ],
      "text/plain": [
       "  sepal length (cm) sepal width (cm) petal length (cm) petal width (cm) target\n",
       "0               5.1              3.5               1.4              0.2    0.0\n",
       "1               4.9              3.0               1.4              0.2    0.0\n",
       "2               4.7              3.2               1.3              0.2    0.0\n",
       "3               4.6              3.1               1.5              0.2    0.0\n",
       "4               5.0              3.6               1.4              0.2    0.0"
      ]
     },
     "execution_count": 2,
     "metadata": {},
     "output_type": "execute_result"
    }
   ],
   "source": [
    "data = datasets.load_iris()\n",
    "df = pd.DataFrame(data=np.c_[data.data,data.target],columns=[list(data.feature_names)+[\"target\"]])\n",
    "df.head()"
   ]
  },
  {
   "cell_type": "code",
   "execution_count": 3,
   "metadata": {
    "executionInfo": {
     "elapsed": 949,
     "status": "ok",
     "timestamp": 1605552585410,
     "user": {
      "displayName": "Al Amin",
      "photoUrl": "https://lh3.googleusercontent.com/a-/AOh14GiMB6CqgQqINGrgkLYU8ftIloMfHO5LgiFZgCAUSg=s64",
      "userId": "17120997331533597303"
     },
     "user_tz": -360
    },
    "id": "BrNLTLHvYu4P"
   },
   "outputs": [],
   "source": [
    "df.columns = [\"sepal_length\",\"sepal_width\",\"petal_length\",\"petal_width\",\"target\"]"
   ]
  },
  {
   "cell_type": "code",
   "execution_count": 4,
   "metadata": {
    "colab": {
     "base_uri": "https://localhost:8080/",
     "height": 204
    },
    "executionInfo": {
     "elapsed": 908,
     "status": "ok",
     "timestamp": 1605552592882,
     "user": {
      "displayName": "Al Amin",
      "photoUrl": "https://lh3.googleusercontent.com/a-/AOh14GiMB6CqgQqINGrgkLYU8ftIloMfHO5LgiFZgCAUSg=s64",
      "userId": "17120997331533597303"
     },
     "user_tz": -360
    },
    "id": "sJ4YpsETZAXo",
    "outputId": "a626928d-1680-4537-8df0-b6d7ec53eacd"
   },
   "outputs": [
    {
     "data": {
      "text/html": [
       "<div>\n",
       "<style scoped>\n",
       "    .dataframe tbody tr th:only-of-type {\n",
       "        vertical-align: middle;\n",
       "    }\n",
       "\n",
       "    .dataframe tbody tr th {\n",
       "        vertical-align: top;\n",
       "    }\n",
       "\n",
       "    .dataframe thead th {\n",
       "        text-align: right;\n",
       "    }\n",
       "</style>\n",
       "<table border=\"1\" class=\"dataframe\">\n",
       "  <thead>\n",
       "    <tr style=\"text-align: right;\">\n",
       "      <th></th>\n",
       "      <th>sepal_length</th>\n",
       "      <th>sepal_width</th>\n",
       "      <th>petal_length</th>\n",
       "      <th>petal_width</th>\n",
       "      <th>target</th>\n",
       "    </tr>\n",
       "  </thead>\n",
       "  <tbody>\n",
       "    <tr>\n",
       "      <th>0</th>\n",
       "      <td>5.1</td>\n",
       "      <td>3.5</td>\n",
       "      <td>1.4</td>\n",
       "      <td>0.2</td>\n",
       "      <td>0.0</td>\n",
       "    </tr>\n",
       "    <tr>\n",
       "      <th>1</th>\n",
       "      <td>4.9</td>\n",
       "      <td>3.0</td>\n",
       "      <td>1.4</td>\n",
       "      <td>0.2</td>\n",
       "      <td>0.0</td>\n",
       "    </tr>\n",
       "    <tr>\n",
       "      <th>2</th>\n",
       "      <td>4.7</td>\n",
       "      <td>3.2</td>\n",
       "      <td>1.3</td>\n",
       "      <td>0.2</td>\n",
       "      <td>0.0</td>\n",
       "    </tr>\n",
       "    <tr>\n",
       "      <th>3</th>\n",
       "      <td>4.6</td>\n",
       "      <td>3.1</td>\n",
       "      <td>1.5</td>\n",
       "      <td>0.2</td>\n",
       "      <td>0.0</td>\n",
       "    </tr>\n",
       "    <tr>\n",
       "      <th>4</th>\n",
       "      <td>5.0</td>\n",
       "      <td>3.6</td>\n",
       "      <td>1.4</td>\n",
       "      <td>0.2</td>\n",
       "      <td>0.0</td>\n",
       "    </tr>\n",
       "  </tbody>\n",
       "</table>\n",
       "</div>"
      ],
      "text/plain": [
       "   sepal_length  sepal_width  petal_length  petal_width  target\n",
       "0           5.1          3.5           1.4          0.2     0.0\n",
       "1           4.9          3.0           1.4          0.2     0.0\n",
       "2           4.7          3.2           1.3          0.2     0.0\n",
       "3           4.6          3.1           1.5          0.2     0.0\n",
       "4           5.0          3.6           1.4          0.2     0.0"
      ]
     },
     "execution_count": 4,
     "metadata": {},
     "output_type": "execute_result"
    }
   ],
   "source": [
    "df.head()"
   ]
  },
  {
   "cell_type": "code",
   "execution_count": 5,
   "metadata": {
    "colab": {
     "base_uri": "https://localhost:8080/"
    },
    "executionInfo": {
     "elapsed": 960,
     "status": "ok",
     "timestamp": 1605552743025,
     "user": {
      "displayName": "Al Amin",
      "photoUrl": "https://lh3.googleusercontent.com/a-/AOh14GiMB6CqgQqINGrgkLYU8ftIloMfHO5LgiFZgCAUSg=s64",
      "userId": "17120997331533597303"
     },
     "user_tz": -360
    },
    "id": "qAEYN6ROZoNi",
    "outputId": "0cf6efe7-0d18-4dfe-f57e-1d5530fbd14e"
   },
   "outputs": [
    {
     "data": {
      "text/plain": [
       "(150, 5)"
      ]
     },
     "execution_count": 5,
     "metadata": {},
     "output_type": "execute_result"
    }
   ],
   "source": [
    "df.shape"
   ]
  },
  {
   "cell_type": "markdown",
   "metadata": {
    "id": "lLTuDHP2ZQWU"
   },
   "source": [
    "# Split the features and level"
   ]
  },
  {
   "cell_type": "code",
   "execution_count": 6,
   "metadata": {
    "executionInfo": {
     "elapsed": 795,
     "status": "ok",
     "timestamp": 1605552669913,
     "user": {
      "displayName": "Al Amin",
      "photoUrl": "https://lh3.googleusercontent.com/a-/AOh14GiMB6CqgQqINGrgkLYU8ftIloMfHO5LgiFZgCAUSg=s64",
      "userId": "17120997331533597303"
     },
     "user_tz": -360
    },
    "id": "dNJXUMdkZFE3"
   },
   "outputs": [],
   "source": [
    "features = df.iloc[:,0:-1]\n",
    "level = df.iloc[:,-1]"
   ]
  },
  {
   "cell_type": "markdown",
   "metadata": {
    "id": "QrNAASwiZZul"
   },
   "source": [
    "# Apply train_test_split"
   ]
  },
  {
   "cell_type": "code",
   "execution_count": 7,
   "metadata": {
    "executionInfo": {
     "elapsed": 1038,
     "status": "ok",
     "timestamp": 1605552761157,
     "user": {
      "displayName": "Al Amin",
      "photoUrl": "https://lh3.googleusercontent.com/a-/AOh14GiMB6CqgQqINGrgkLYU8ftIloMfHO5LgiFZgCAUSg=s64",
      "userId": "17120997331533597303"
     },
     "user_tz": -360
    },
    "id": "m4PTX9wSZYEw"
   },
   "outputs": [],
   "source": [
    "xtrain,xtest,ytrain,ytest = train_test_split(features,level,test_size=.2,random_state=20)"
   ]
  },
  {
   "cell_type": "code",
   "execution_count": 8,
   "metadata": {
    "colab": {
     "base_uri": "https://localhost:8080/"
    },
    "executionInfo": {
     "elapsed": 856,
     "status": "ok",
     "timestamp": 1605552811791,
     "user": {
      "displayName": "Al Amin",
      "photoUrl": "https://lh3.googleusercontent.com/a-/AOh14GiMB6CqgQqINGrgkLYU8ftIloMfHO5LgiFZgCAUSg=s64",
      "userId": "17120997331533597303"
     },
     "user_tz": -360
    },
    "id": "cWXx-KCSZuTG",
    "outputId": "cc79c2cd-98a9-4e57-ea3c-29c402144641"
   },
   "outputs": [
    {
     "data": {
      "text/plain": [
       "0.9666666666666667"
      ]
     },
     "execution_count": 8,
     "metadata": {},
     "output_type": "execute_result"
    }
   ],
   "source": [
    "knn = KNeighborsClassifier(n_neighbors=5)\n",
    "knn.fit(xtrain,ytrain)\n",
    "knn.score(xtest,ytest)"
   ]
  },
  {
   "cell_type": "code",
   "execution_count": 9,
   "metadata": {
    "colab": {
     "base_uri": "https://localhost:8080/"
    },
    "executionInfo": {
     "elapsed": 935,
     "status": "ok",
     "timestamp": 1605552840714,
     "user": {
      "displayName": "Al Amin",
      "photoUrl": "https://lh3.googleusercontent.com/a-/AOh14GiMB6CqgQqINGrgkLYU8ftIloMfHO5LgiFZgCAUSg=s64",
      "userId": "17120997331533597303"
     },
     "user_tz": -360
    },
    "id": "N9WZdSoWZ6sO",
    "outputId": "da18a927-5ba6-42cb-8a73-c996d1d482ae"
   },
   "outputs": [
    {
     "data": {
      "text/plain": [
       "array([0., 1., 1., 2., 1., 1., 2., 0., 2., 0., 2., 1., 2., 0., 0., 2., 0.,\n",
       "       1., 2., 1., 1., 2., 2., 0., 2., 1., 1., 0., 2., 2.])"
      ]
     },
     "execution_count": 9,
     "metadata": {},
     "output_type": "execute_result"
    }
   ],
   "source": [
    "y_pred = knn.predict(xtest)\n",
    "y_pred"
   ]
  },
  {
   "cell_type": "code",
   "execution_count": 10,
   "metadata": {
    "colab": {
     "base_uri": "https://localhost:8080/"
    },
    "executionInfo": {
     "elapsed": 964,
     "status": "ok",
     "timestamp": 1605552868532,
     "user": {
      "displayName": "Al Amin",
      "photoUrl": "https://lh3.googleusercontent.com/a-/AOh14GiMB6CqgQqINGrgkLYU8ftIloMfHO5LgiFZgCAUSg=s64",
      "userId": "17120997331533597303"
     },
     "user_tz": -360
    },
    "id": "AVN8oeCVaBtw",
    "outputId": "3016ddde-ee58-4ab8-f221-89f054d151fe"
   },
   "outputs": [
    {
     "data": {
      "text/plain": [
       "0.9666666666666667"
      ]
     },
     "execution_count": 10,
     "metadata": {},
     "output_type": "execute_result"
    }
   ],
   "source": [
    "accuracy = accuracy_score(ytest,y_pred)\n",
    "accuracy"
   ]
  },
  {
   "cell_type": "markdown",
   "metadata": {
    "id": "RdTFX5l8bBKe"
   },
   "source": [
    "# Now apply **cross_validtion**"
   ]
  },
  {
   "cell_type": "code",
   "execution_count": 11,
   "metadata": {
    "executionInfo": {
     "elapsed": 850,
     "status": "ok",
     "timestamp": 1605553161055,
     "user": {
      "displayName": "Al Amin",
      "photoUrl": "https://lh3.googleusercontent.com/a-/AOh14GiMB6CqgQqINGrgkLYU8ftIloMfHO5LgiFZgCAUSg=s64",
      "userId": "17120997331533597303"
     },
     "user_tz": -360
    },
    "id": "YJ1ZDOBcaIh1"
   },
   "outputs": [],
   "source": [
    "knn2 = KNeighborsClassifier(n_neighbors=5)"
   ]
  },
  {
   "cell_type": "code",
   "execution_count": 12,
   "metadata": {
    "executionInfo": {
     "elapsed": 1177,
     "status": "ok",
     "timestamp": 1605553221973,
     "user": {
      "displayName": "Al Amin",
      "photoUrl": "https://lh3.googleusercontent.com/a-/AOh14GiMB6CqgQqINGrgkLYU8ftIloMfHO5LgiFZgCAUSg=s64",
      "userId": "17120997331533597303"
     },
     "user_tz": -360
    },
    "id": "4XBcAVTZaSJd"
   },
   "outputs": [],
   "source": [
    "cvs = cross_val_score(estimator=knn2,X=features,y=level,scoring=\"accuracy\",cv=10)"
   ]
  },
  {
   "cell_type": "code",
   "execution_count": 13,
   "metadata": {
    "colab": {
     "base_uri": "https://localhost:8080/"
    },
    "executionInfo": {
     "elapsed": 1182,
     "status": "ok",
     "timestamp": 1605553241074,
     "user": {
      "displayName": "Al Amin",
      "photoUrl": "https://lh3.googleusercontent.com/a-/AOh14GiMB6CqgQqINGrgkLYU8ftIloMfHO5LgiFZgCAUSg=s64",
      "userId": "17120997331533597303"
     },
     "user_tz": -360
    },
    "id": "oo-LxLJQbev-",
    "outputId": "bc6c4a86-5ee1-40e6-e0f0-681cae379eb5"
   },
   "outputs": [
    {
     "data": {
      "text/plain": [
       "array([1.        , 0.93333333, 1.        , 1.        , 0.86666667,\n",
       "       0.93333333, 0.93333333, 1.        , 1.        , 1.        ])"
      ]
     },
     "execution_count": 13,
     "metadata": {},
     "output_type": "execute_result"
    }
   ],
   "source": [
    "cvs"
   ]
  },
  {
   "cell_type": "code",
   "execution_count": 14,
   "metadata": {
    "colab": {
     "base_uri": "https://localhost:8080/"
    },
    "executionInfo": {
     "elapsed": 969,
     "status": "ok",
     "timestamp": 1605553273693,
     "user": {
      "displayName": "Al Amin",
      "photoUrl": "https://lh3.googleusercontent.com/a-/AOh14GiMB6CqgQqINGrgkLYU8ftIloMfHO5LgiFZgCAUSg=s64",
      "userId": "17120997331533597303"
     },
     "user_tz": -360
    },
    "id": "YDWTMELvbjba",
    "outputId": "f22c6bcc-5710-44e9-a977-b363997601d0"
   },
   "outputs": [
    {
     "name": "stdout",
     "output_type": "stream",
     "text": [
      "0.9666666666666668\n"
     ]
    }
   ],
   "source": [
    "# Average accuracy\n",
    "print(cvs.mean())"
   ]
  },
  {
   "cell_type": "markdown",
   "metadata": {
    "id": "l3VkSdC3bwAq"
   },
   "source": [
    "# Our goal here is to find the optimal value of **K**"
   ]
  },
  {
   "cell_type": "code",
   "execution_count": 15,
   "metadata": {
    "executionInfo": {
     "elapsed": 1892,
     "status": "ok",
     "timestamp": 1605553563534,
     "user": {
      "displayName": "Al Amin",
      "photoUrl": "https://lh3.googleusercontent.com/a-/AOh14GiMB6CqgQqINGrgkLYU8ftIloMfHO5LgiFZgCAUSg=s64",
      "userId": "17120997331533597303"
     },
     "user_tz": -360
    },
    "id": "SW_UgkydbrcU"
   },
   "outputs": [],
   "source": [
    "# search for an optimal value of K for KNN\n",
    "k_range = range(1,31)\n",
    "k_scores = []\n",
    "# we will loop through reasonable values of k\n",
    "for k in k_range:\n",
    "  knn3 = KNeighborsClassifier(n_neighbors=k)\n",
    "  scores = cross_val_score(estimator=knn3,X=features,y=level,scoring=\"accuracy\",cv=10)\n",
    "  k_scores.append(scores.mean())"
   ]
  },
  {
   "cell_type": "code",
   "execution_count": 16,
   "metadata": {
    "colab": {
     "base_uri": "https://localhost:8080/"
    },
    "executionInfo": {
     "elapsed": 1007,
     "status": "ok",
     "timestamp": 1605553572066,
     "user": {
      "displayName": "Al Amin",
      "photoUrl": "https://lh3.googleusercontent.com/a-/AOh14GiMB6CqgQqINGrgkLYU8ftIloMfHO5LgiFZgCAUSg=s64",
      "userId": "17120997331533597303"
     },
     "user_tz": -360
    },
    "id": "M5zS9wBLcx7g",
    "outputId": "e9e222d1-1f9c-4355-f71f-2b1bbc068fba"
   },
   "outputs": [
    {
     "data": {
      "text/plain": [
       "[0.96,\n",
       " 0.9533333333333334,\n",
       " 0.9666666666666666,\n",
       " 0.9666666666666666,\n",
       " 0.9666666666666668,\n",
       " 0.9666666666666668,\n",
       " 0.9666666666666668,\n",
       " 0.9666666666666668,\n",
       " 0.9733333333333334,\n",
       " 0.9666666666666668,\n",
       " 0.9666666666666668,\n",
       " 0.9733333333333334,\n",
       " 0.9800000000000001,\n",
       " 0.9733333333333334,\n",
       " 0.9733333333333334,\n",
       " 0.9733333333333334,\n",
       " 0.9733333333333334,\n",
       " 0.9800000000000001,\n",
       " 0.9733333333333334,\n",
       " 0.9800000000000001,\n",
       " 0.9666666666666666,\n",
       " 0.9666666666666666,\n",
       " 0.9733333333333334,\n",
       " 0.96,\n",
       " 0.9666666666666666,\n",
       " 0.96,\n",
       " 0.9666666666666666,\n",
       " 0.9533333333333334,\n",
       " 0.9533333333333334,\n",
       " 0.9533333333333334]"
      ]
     },
     "execution_count": 16,
     "metadata": {},
     "output_type": "execute_result"
    }
   ],
   "source": [
    "k_scores"
   ]
  },
  {
   "cell_type": "code",
   "execution_count": 17,
   "metadata": {
    "colab": {
     "base_uri": "https://localhost:8080/"
    },
    "executionInfo": {
     "elapsed": 819,
     "status": "ok",
     "timestamp": 1605553602197,
     "user": {
      "displayName": "Al Amin",
      "photoUrl": "https://lh3.googleusercontent.com/a-/AOh14GiMB6CqgQqINGrgkLYU8ftIloMfHO5LgiFZgCAUSg=s64",
      "userId": "17120997331533597303"
     },
     "user_tz": -360
    },
    "id": "aMnLdIwRc0RH",
    "outputId": "a6da5625-ef85-4800-dad9-b76766d709f7"
   },
   "outputs": [
    {
     "name": "stdout",
     "output_type": "stream",
     "text": [
      "Length of list 30\n",
      "Max of list 0.9800000000000001\n"
     ]
    }
   ],
   "source": [
    "print('Length of list', len(k_scores))\n",
    "print('Max of list', max(k_scores))"
   ]
  },
  {
   "cell_type": "markdown",
   "metadata": {
    "id": "Rke-5l6HdCi3"
   },
   "source": [
    "# plot how accuracy changes as we vary **k**"
   ]
  },
  {
   "cell_type": "code",
   "execution_count": 18,
   "metadata": {
    "colab": {
     "base_uri": "https://localhost:8080/",
     "height": 514
    },
    "executionInfo": {
     "elapsed": 1260,
     "status": "ok",
     "timestamp": 1605553889467,
     "user": {
      "displayName": "Al Amin",
      "photoUrl": "https://lh3.googleusercontent.com/a-/AOh14GiMB6CqgQqINGrgkLYU8ftIloMfHO5LgiFZgCAUSg=s64",
      "userId": "17120997331533597303"
     },
     "user_tz": -360
    },
    "id": "Wm9SzCvNc7rY",
    "outputId": "b50f1af9-e6fa-4188-b76a-e1d07f4079f8"
   },
   "outputs": [
    {
     "data": {
      "text/plain": [
       "Text(0, 0.5, 'Cross-validated accuracy')"
      ]
     },
     "execution_count": 18,
     "metadata": {},
     "output_type": "execute_result"
    },
    {
     "data": {
      "image/png": "[encoded data removed]",
      "text/plain": [
       "<Figure size 720x576 with 1 Axes>"
      ]
     },
     "metadata": {
      "needs_background": "light"
     },
     "output_type": "display_data"
    }
   ],
   "source": [
    "# plot the value of K for KNN (x-axis) versus the cross-validated accuracy (y-axis)\n",
    "plt.figure(figsize=(10,8))\n",
    "plt.plot(k_range,k_scores)\n",
    "plt.scatter(k_range,k_scores)\n",
    "plt.xlabel('Value of K for KNN')\n",
    "plt.ylabel('Cross-validated accuracy')"
   ]
  },
  {
   "cell_type": "code",
   "execution_count": 19,
   "metadata": {
    "executionInfo": {
     "elapsed": 999,
     "status": "ok",
     "timestamp": 1605553939666,
     "user": {
      "displayName": "Al Amin",
      "photoUrl": "https://lh3.googleusercontent.com/a-/AOh14GiMB6CqgQqINGrgkLYU8ftIloMfHO5LgiFZgCAUSg=s64",
      "userId": "17120997331533597303"
     },
     "user_tz": -360
    },
    "id": "6iwfVaALddVz"
   },
   "outputs": [],
   "source": [
    "# The maximum cv accuracy occurs from k=13 to k=20\n",
    "\n",
    "# The general shape of the curve is an upside down yield\n",
    "\n",
    "# This is quite typical when examining the model complexity and accuracy\n",
    "# This is an example of bias-variance trade off\n",
    "# Low values of k (low bias, high variance)\n",
    "# The 1-Nearest Neighbor classifier is the most complex nearest neighbor model\n",
    "# It has the most jagged decision boundary, and is most likely to overfit\n",
    "# High values of k (high bias, low variance)\n",
    "# underfit\n",
    "# Best value is the middle of k (most likely to generalize out-of-sample data)\n",
    "# just right\n",
    "# The best value of k\n",
    "\n",
    "# Higher values of k produce less complex model\n",
    "# So we will choose 20 as our best KNN model"
   ]
  },
  {
   "cell_type": "code",
   "execution_count": 20,
   "metadata": {
    "colab": {
     "base_uri": "https://localhost:8080/"
    },
    "executionInfo": {
     "elapsed": 1029,
     "status": "ok",
     "timestamp": 1605554072342,
     "user": {
      "displayName": "Al Amin",
      "photoUrl": "https://lh3.googleusercontent.com/a-/AOh14GiMB6CqgQqINGrgkLYU8ftIloMfHO5LgiFZgCAUSg=s64",
      "userId": "17120997331533597303"
     },
     "user_tz": -360
    },
    "id": "T-dU-4TZeOBf",
    "outputId": "6e0ffcd2-0d75-4747-800a-de865f0d9706"
   },
   "outputs": [
    {
     "name": "stdout",
     "output_type": "stream",
     "text": [
      "0.9800000000000001\n"
     ]
    }
   ],
   "source": [
    "knn4 = KNeighborsClassifier(n_neighbors=20)\n",
    "print(cross_val_score(knn4, features, level, cv=10, scoring='accuracy').mean())"
   ]
  }
 ],
 "metadata": {
  "colab": {
   "authorship_tag": "ABX9TyPHiWOdpd6LjKP62g45icbl",
   "name": "ML_KNN_Iris_DataSets.ipynb",
   "provenance": []
  },
  "kernelspec": {
   "display_name": "Python 3",
   "language": "python",
   "name": "python3"
  },
  "language_info": {
   "codemirror_mode": {
    "name": "ipython",
    "version": 3
   },
   "file_extension": ".py",
   "mimetype": "text/x-python",
   "name": "python",
   "nbconvert_exporter": "python",
   "pygments_lexer": "ipython3",
   "version": "3.9.1"
  }
 },
 "nbformat": 4,
 "nbformat_minor": 1
}
