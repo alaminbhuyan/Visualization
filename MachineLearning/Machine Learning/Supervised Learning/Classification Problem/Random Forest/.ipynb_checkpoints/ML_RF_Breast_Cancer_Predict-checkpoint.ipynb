{
 "cells": [
  {
   "cell_type": "code",
   "execution_count": 2,
   "metadata": {
    "executionInfo": {
     "elapsed": 1000,
     "status": "ok",
     "timestamp": 1604685872138,
     "user": {
      "displayName": "Al Amin",
      "photoUrl": "https://lh3.googleusercontent.com/a-/AOh14GiMB6CqgQqINGrgkLYU8ftIloMfHO5LgiFZgCAUSg=s64",
      "userId": "17120997331533597303"
     },
     "user_tz": -360
    },
    "id": "DSimsQgNtwbn"
   },
   "outputs": [],
   "source": [
    "import pandas as pd\n",
    "import numpy as np\n",
    "from sklearn.datasets import load_breast_cancer\n",
    "from sklearn.model_selection import train_test_split\n",
    "from sklearn.ensemble import RandomForestClassifier"
   ]
  },
  {
   "cell_type": "code",
   "execution_count": 3,
   "metadata": {
    "colab": {
     "base_uri": "https://localhost:8080/",
     "height": 258
    },
    "executionInfo": {
     "elapsed": 1005,
     "status": "ok",
     "timestamp": 1604685962631,
     "user": {
      "displayName": "Al Amin",
      "photoUrl": "https://lh3.googleusercontent.com/a-/AOh14GiMB6CqgQqINGrgkLYU8ftIloMfHO5LgiFZgCAUSg=s64",
      "userId": "17120997331533597303"
     },
     "user_tz": -360
    },
    "id": "CoKuo6Lfutvz",
    "outputId": "7b77ec25-fda5-4c08-be20-feea14e9b89f"
   },
   "outputs": [
    {
     "data": {
      "text/html": [
       "<div>\n",
       "<style scoped>\n",
       "    .dataframe tbody tr th:only-of-type {\n",
       "        vertical-align: middle;\n",
       "    }\n",
       "\n",
       "    .dataframe tbody tr th {\n",
       "        vertical-align: top;\n",
       "    }\n",
       "\n",
       "    .dataframe thead tr th {\n",
       "        text-align: left;\n",
       "    }\n",
       "</style>\n",
       "<table border=\"1\" class=\"dataframe\">\n",
       "  <thead>\n",
       "    <tr>\n",
       "      <th></th>\n",
       "      <th>mean radius</th>\n",
       "      <th>mean texture</th>\n",
       "      <th>mean perimeter</th>\n",
       "      <th>mean area</th>\n",
       "      <th>mean smoothness</th>\n",
       "      <th>mean compactness</th>\n",
       "      <th>mean concavity</th>\n",
       "      <th>mean concave points</th>\n",
       "      <th>mean symmetry</th>\n",
       "      <th>mean fractal dimension</th>\n",
       "      <th>radius error</th>\n",
       "      <th>texture error</th>\n",
       "      <th>perimeter error</th>\n",
       "      <th>area error</th>\n",
       "      <th>smoothness error</th>\n",
       "      <th>compactness error</th>\n",
       "      <th>concavity error</th>\n",
       "      <th>concave points error</th>\n",
       "      <th>symmetry error</th>\n",
       "      <th>fractal dimension error</th>\n",
       "      <th>worst radius</th>\n",
       "      <th>worst texture</th>\n",
       "      <th>worst perimeter</th>\n",
       "      <th>worst area</th>\n",
       "      <th>worst smoothness</th>\n",
       "      <th>worst compactness</th>\n",
       "      <th>worst concavity</th>\n",
       "      <th>worst concave points</th>\n",
       "      <th>worst symmetry</th>\n",
       "      <th>worst fractal dimension</th>\n",
       "      <th>target</th>\n",
       "    </tr>\n",
       "  </thead>\n",
       "  <tbody>\n",
       "    <tr>\n",
       "      <th>0</th>\n",
       "      <td>17.99</td>\n",
       "      <td>10.38</td>\n",
       "      <td>122.80</td>\n",
       "      <td>1001.0</td>\n",
       "      <td>0.11840</td>\n",
       "      <td>0.27760</td>\n",
       "      <td>0.3001</td>\n",
       "      <td>0.14710</td>\n",
       "      <td>0.2419</td>\n",
       "      <td>0.07871</td>\n",
       "      <td>1.0950</td>\n",
       "      <td>0.9053</td>\n",
       "      <td>8.589</td>\n",
       "      <td>153.40</td>\n",
       "      <td>0.006399</td>\n",
       "      <td>0.04904</td>\n",
       "      <td>0.05373</td>\n",
       "      <td>0.01587</td>\n",
       "      <td>0.03003</td>\n",
       "      <td>0.006193</td>\n",
       "      <td>25.38</td>\n",
       "      <td>17.33</td>\n",
       "      <td>184.60</td>\n",
       "      <td>2019.0</td>\n",
       "      <td>0.1622</td>\n",
       "      <td>0.6656</td>\n",
       "      <td>0.7119</td>\n",
       "      <td>0.2654</td>\n",
       "      <td>0.4601</td>\n",
       "      <td>0.11890</td>\n",
       "      <td>0.0</td>\n",
       "    </tr>\n",
       "    <tr>\n",
       "      <th>1</th>\n",
       "      <td>20.57</td>\n",
       "      <td>17.77</td>\n",
       "      <td>132.90</td>\n",
       "      <td>1326.0</td>\n",
       "      <td>0.08474</td>\n",
       "      <td>0.07864</td>\n",
       "      <td>0.0869</td>\n",
       "      <td>0.07017</td>\n",
       "      <td>0.1812</td>\n",
       "      <td>0.05667</td>\n",
       "      <td>0.5435</td>\n",
       "      <td>0.7339</td>\n",
       "      <td>3.398</td>\n",
       "      <td>74.08</td>\n",
       "      <td>0.005225</td>\n",
       "      <td>0.01308</td>\n",
       "      <td>0.01860</td>\n",
       "      <td>0.01340</td>\n",
       "      <td>0.01389</td>\n",
       "      <td>0.003532</td>\n",
       "      <td>24.99</td>\n",
       "      <td>23.41</td>\n",
       "      <td>158.80</td>\n",
       "      <td>1956.0</td>\n",
       "      <td>0.1238</td>\n",
       "      <td>0.1866</td>\n",
       "      <td>0.2416</td>\n",
       "      <td>0.1860</td>\n",
       "      <td>0.2750</td>\n",
       "      <td>0.08902</td>\n",
       "      <td>0.0</td>\n",
       "    </tr>\n",
       "    <tr>\n",
       "      <th>2</th>\n",
       "      <td>19.69</td>\n",
       "      <td>21.25</td>\n",
       "      <td>130.00</td>\n",
       "      <td>1203.0</td>\n",
       "      <td>0.10960</td>\n",
       "      <td>0.15990</td>\n",
       "      <td>0.1974</td>\n",
       "      <td>0.12790</td>\n",
       "      <td>0.2069</td>\n",
       "      <td>0.05999</td>\n",
       "      <td>0.7456</td>\n",
       "      <td>0.7869</td>\n",
       "      <td>4.585</td>\n",
       "      <td>94.03</td>\n",
       "      <td>0.006150</td>\n",
       "      <td>0.04006</td>\n",
       "      <td>0.03832</td>\n",
       "      <td>0.02058</td>\n",
       "      <td>0.02250</td>\n",
       "      <td>0.004571</td>\n",
       "      <td>23.57</td>\n",
       "      <td>25.53</td>\n",
       "      <td>152.50</td>\n",
       "      <td>1709.0</td>\n",
       "      <td>0.1444</td>\n",
       "      <td>0.4245</td>\n",
       "      <td>0.4504</td>\n",
       "      <td>0.2430</td>\n",
       "      <td>0.3613</td>\n",
       "      <td>0.08758</td>\n",
       "      <td>0.0</td>\n",
       "    </tr>\n",
       "    <tr>\n",
       "      <th>3</th>\n",
       "      <td>11.42</td>\n",
       "      <td>20.38</td>\n",
       "      <td>77.58</td>\n",
       "      <td>386.1</td>\n",
       "      <td>0.14250</td>\n",
       "      <td>0.28390</td>\n",
       "      <td>0.2414</td>\n",
       "      <td>0.10520</td>\n",
       "      <td>0.2597</td>\n",
       "      <td>0.09744</td>\n",
       "      <td>0.4956</td>\n",
       "      <td>1.1560</td>\n",
       "      <td>3.445</td>\n",
       "      <td>27.23</td>\n",
       "      <td>0.009110</td>\n",
       "      <td>0.07458</td>\n",
       "      <td>0.05661</td>\n",
       "      <td>0.01867</td>\n",
       "      <td>0.05963</td>\n",
       "      <td>0.009208</td>\n",
       "      <td>14.91</td>\n",
       "      <td>26.50</td>\n",
       "      <td>98.87</td>\n",
       "      <td>567.7</td>\n",
       "      <td>0.2098</td>\n",
       "      <td>0.8663</td>\n",
       "      <td>0.6869</td>\n",
       "      <td>0.2575</td>\n",
       "      <td>0.6638</td>\n",
       "      <td>0.17300</td>\n",
       "      <td>0.0</td>\n",
       "    </tr>\n",
       "    <tr>\n",
       "      <th>4</th>\n",
       "      <td>20.29</td>\n",
       "      <td>14.34</td>\n",
       "      <td>135.10</td>\n",
       "      <td>1297.0</td>\n",
       "      <td>0.10030</td>\n",
       "      <td>0.13280</td>\n",
       "      <td>0.1980</td>\n",
       "      <td>0.10430</td>\n",
       "      <td>0.1809</td>\n",
       "      <td>0.05883</td>\n",
       "      <td>0.7572</td>\n",
       "      <td>0.7813</td>\n",
       "      <td>5.438</td>\n",
       "      <td>94.44</td>\n",
       "      <td>0.011490</td>\n",
       "      <td>0.02461</td>\n",
       "      <td>0.05688</td>\n",
       "      <td>0.01885</td>\n",
       "      <td>0.01756</td>\n",
       "      <td>0.005115</td>\n",
       "      <td>22.54</td>\n",
       "      <td>16.67</td>\n",
       "      <td>152.20</td>\n",
       "      <td>1575.0</td>\n",
       "      <td>0.1374</td>\n",
       "      <td>0.2050</td>\n",
       "      <td>0.4000</td>\n",
       "      <td>0.1625</td>\n",
       "      <td>0.2364</td>\n",
       "      <td>0.07678</td>\n",
       "      <td>0.0</td>\n",
       "    </tr>\n",
       "  </tbody>\n",
       "</table>\n",
       "</div>"
      ],
      "text/plain": [
       "  mean radius mean texture  ... worst fractal dimension target\n",
       "0       17.99        10.38  ...                 0.11890    0.0\n",
       "1       20.57        17.77  ...                 0.08902    0.0\n",
       "2       19.69        21.25  ...                 0.08758    0.0\n",
       "3       11.42        20.38  ...                 0.17300    0.0\n",
       "4       20.29        14.34  ...                 0.07678    0.0\n",
       "\n",
       "[5 rows x 31 columns]"
      ]
     },
     "execution_count": 3,
     "metadata": {
      "tags": []
     },
     "output_type": "execute_result"
    }
   ],
   "source": [
    "Data = load_breast_cancer()\n",
    "df = pd.DataFrame(data=np.c_[Data.data,Data.target],columns=[list(Data.feature_names)+[\"target\"]])\n",
    "df.head()"
   ]
  },
  {
   "cell_type": "code",
   "execution_count": 4,
   "metadata": {
    "colab": {
     "base_uri": "https://localhost:8080/"
    },
    "executionInfo": {
     "elapsed": 1027,
     "status": "ok",
     "timestamp": 1604685977615,
     "user": {
      "displayName": "Al Amin",
      "photoUrl": "https://lh3.googleusercontent.com/a-/AOh14GiMB6CqgQqINGrgkLYU8ftIloMfHO5LgiFZgCAUSg=s64",
      "userId": "17120997331533597303"
     },
     "user_tz": -360
    },
    "id": "UsfkTgIcvJhC",
    "outputId": "c10f6157-b44f-4a6c-8897-440c115fd7dc"
   },
   "outputs": [
    {
     "data": {
      "text/plain": [
       "(569, 31)"
      ]
     },
     "execution_count": 4,
     "metadata": {
      "tags": []
     },
     "output_type": "execute_result"
    }
   ],
   "source": [
    "df.shape"
   ]
  },
  {
   "cell_type": "markdown",
   "metadata": {
    "id": "maw-Ft3WvRg7"
   },
   "source": [
    "## Split the features and level"
   ]
  },
  {
   "cell_type": "code",
   "execution_count": 5,
   "metadata": {
    "executionInfo": {
     "elapsed": 848,
     "status": "ok",
     "timestamp": 1604686077129,
     "user": {
      "displayName": "Al Amin",
      "photoUrl": "https://lh3.googleusercontent.com/a-/AOh14GiMB6CqgQqINGrgkLYU8ftIloMfHO5LgiFZgCAUSg=s64",
      "userId": "17120997331533597303"
     },
     "user_tz": -360
    },
    "id": "LzjpMrC3vNHH"
   },
   "outputs": [],
   "source": [
    "features = df.iloc[:,0:-1]\n",
    "level = df.iloc[:,-1]"
   ]
  },
  {
   "cell_type": "code",
   "execution_count": 6,
   "metadata": {
    "executionInfo": {
     "elapsed": 806,
     "status": "ok",
     "timestamp": 1604686185458,
     "user": {
      "displayName": "Al Amin",
      "photoUrl": "https://lh3.googleusercontent.com/a-/AOh14GiMB6CqgQqINGrgkLYU8ftIloMfHO5LgiFZgCAUSg=s64",
      "userId": "17120997331533597303"
     },
     "user_tz": -360
    },
    "id": "70SYBAY_vljN"
   },
   "outputs": [],
   "source": [
    "xtrain,xtest,ytrain,ytest = train_test_split(features,level,test_size=0.2,random_state=2031)"
   ]
  },
  {
   "cell_type": "code",
   "execution_count": 7,
   "metadata": {
    "colab": {
     "base_uri": "https://localhost:8080/"
    },
    "executionInfo": {
     "elapsed": 963,
     "status": "ok",
     "timestamp": 1604686192384,
     "user": {
      "displayName": "Al Amin",
      "photoUrl": "https://lh3.googleusercontent.com/a-/AOh14GiMB6CqgQqINGrgkLYU8ftIloMfHO5LgiFZgCAUSg=s64",
      "userId": "17120997331533597303"
     },
     "user_tz": -360
    },
    "id": "8kfYIUuSv__-",
    "outputId": "f42ad8ab-5748-407b-d972-606b510f5168"
   },
   "outputs": [
    {
     "name": "stdout",
     "output_type": "stream",
     "text": [
      "Shape of xtrain:  (455, 30)\n",
      "Shape of ytrain:  (455,)\n",
      "Shape of xtest:  (114, 30)\n",
      "Shape of ytest:  (114,)\n"
     ]
    }
   ],
   "source": [
    "print(\"Shape of xtrain: \",xtrain.shape)\n",
    "print(\"Shape of ytrain: \",ytrain.shape)\n",
    "print(\"Shape of xtest: \",xtest.shape)\n",
    "print(\"Shape of ytest: \",ytest.shape)"
   ]
  },
  {
   "cell_type": "markdown",
   "metadata": {
    "id": "k_BpstIxwGuh"
   },
   "source": [
    "## Create Model"
   ]
  },
  {
   "cell_type": "code",
   "execution_count": 8,
   "metadata": {
    "executionInfo": {
     "elapsed": 819,
     "status": "ok",
     "timestamp": 1604686368090,
     "user": {
      "displayName": "Al Amin",
      "photoUrl": "https://lh3.googleusercontent.com/a-/AOh14GiMB6CqgQqINGrgkLYU8ftIloMfHO5LgiFZgCAUSg=s64",
      "userId": "17120997331533597303"
     },
     "user_tz": -360
    },
    "id": "Yd28cHcNwBqx"
   },
   "outputs": [],
   "source": [
    "# n_estimators means number of decision create by algorithm. you can change value if you want \n",
    "# to create more than 100 tree ex: n_estimators=200 as your wish\n",
    "rfc = RandomForestClassifier(n_estimators=100,criterion=\"gini\") "
   ]
  },
  {
   "cell_type": "code",
   "execution_count": 9,
   "metadata": {
    "colab": {
     "base_uri": "https://localhost:8080/"
    },
    "executionInfo": {
     "elapsed": 913,
     "status": "ok",
     "timestamp": 1604686390036,
     "user": {
      "displayName": "Al Amin",
      "photoUrl": "https://lh3.googleusercontent.com/a-/AOh14GiMB6CqgQqINGrgkLYU8ftIloMfHO5LgiFZgCAUSg=s64",
      "userId": "17120997331533597303"
     },
     "user_tz": -360
    },
    "id": "-XoN3oMuwsld",
    "outputId": "e55c5b74-9b12-4806-aebe-644b674619d7"
   },
   "outputs": [
    {
     "data": {
      "text/plain": [
       "RandomForestClassifier(bootstrap=True, ccp_alpha=0.0, class_weight=None,\n",
       "                       criterion='gini', max_depth=None, max_features='auto',\n",
       "                       max_leaf_nodes=None, max_samples=None,\n",
       "                       min_impurity_decrease=0.0, min_impurity_split=None,\n",
       "                       min_samples_leaf=1, min_samples_split=2,\n",
       "                       min_weight_fraction_leaf=0.0, n_estimators=100,\n",
       "                       n_jobs=None, oob_score=False, random_state=None,\n",
       "                       verbose=0, warm_start=False)"
      ]
     },
     "execution_count": 9,
     "metadata": {
      "tags": []
     },
     "output_type": "execute_result"
    }
   ],
   "source": [
    "rfc.fit(X=xtrain,y=ytrain)"
   ]
  },
  {
   "cell_type": "markdown",
   "metadata": {
    "id": "1aKDxa4jw5Le"
   },
   "source": [
    "## Accuracy"
   ]
  },
  {
   "cell_type": "code",
   "execution_count": 10,
   "metadata": {
    "colab": {
     "base_uri": "https://localhost:8080/"
    },
    "executionInfo": {
     "elapsed": 998,
     "status": "ok",
     "timestamp": 1604686409166,
     "user": {
      "displayName": "Al Amin",
      "photoUrl": "https://lh3.googleusercontent.com/a-/AOh14GiMB6CqgQqINGrgkLYU8ftIloMfHO5LgiFZgCAUSg=s64",
      "userId": "17120997331533597303"
     },
     "user_tz": -360
    },
    "id": "GEdrGtuCwx8M",
    "outputId": "c3c54c81-a7c3-4106-8299-c806849a6f04"
   },
   "outputs": [
    {
     "data": {
      "text/plain": [
       "0.9649122807017544"
      ]
     },
     "execution_count": 10,
     "metadata": {
      "tags": []
     },
     "output_type": "execute_result"
    }
   ],
   "source": [
    "rfc.score(X=xtest,y=ytest)"
   ]
  },
  {
   "cell_type": "code",
   "execution_count": 12,
   "metadata": {
    "colab": {
     "base_uri": "https://localhost:8080/"
    },
    "executionInfo": {
     "elapsed": 1128,
     "status": "ok",
     "timestamp": 1604686458380,
     "user": {
      "displayName": "Al Amin",
      "photoUrl": "https://lh3.googleusercontent.com/a-/AOh14GiMB6CqgQqINGrgkLYU8ftIloMfHO5LgiFZgCAUSg=s64",
      "userId": "17120997331533597303"
     },
     "user_tz": -360
    },
    "id": "aXRvD74Nw2jw",
    "outputId": "ca375fc8-ca0f-40de-9c7c-5e153b5e1823"
   },
   "outputs": [
    {
     "data": {
      "text/plain": [
       "array([0., 0., 1., 1., 0., 1., 0., 1., 0., 1., 0., 1., 0., 1., 0., 0., 1.,\n",
       "       0., 1., 1., 0., 0., 1., 0., 0., 1., 1., 0., 1., 0., 1., 1., 1., 1.,\n",
       "       1., 0., 1., 1., 0., 1., 1., 1., 1., 0., 1., 1., 1., 1., 1., 0., 1.,\n",
       "       1., 1., 0., 1., 1., 1., 1., 1., 1., 0., 0., 1., 1., 1., 0., 1., 1.,\n",
       "       1., 0., 0., 0., 0., 0., 1., 1., 1., 1., 1., 1., 1., 0., 0., 1., 1.,\n",
       "       1., 0., 0., 0., 1., 1., 1., 1., 0., 0., 0., 1., 0., 1., 0., 1., 1.,\n",
       "       0., 0., 1., 1., 1., 1., 1., 1., 1., 1., 0., 0.])"
      ]
     },
     "execution_count": 12,
     "metadata": {
      "tags": []
     },
     "output_type": "execute_result"
    }
   ],
   "source": [
    "pred = rfc.predict(xtest)\n",
    "pred"
   ]
  },
  {
   "cell_type": "code",
   "execution_count": 17,
   "metadata": {
    "colab": {
     "base_uri": "https://localhost:8080/"
    },
    "executionInfo": {
     "elapsed": 1035,
     "status": "ok",
     "timestamp": 1604686585794,
     "user": {
      "displayName": "Al Amin",
      "photoUrl": "https://lh3.googleusercontent.com/a-/AOh14GiMB6CqgQqINGrgkLYU8ftIloMfHO5LgiFZgCAUSg=s64",
      "userId": "17120997331533597303"
     },
     "user_tz": -360
    },
    "id": "lOZAium1xAwo",
    "outputId": "1e1db40c-d6c1-45b2-a2be-0556c1022fa8"
   },
   "outputs": [
    {
     "data": {
      "text/plain": [
       "array([9.742e+00, 1.567e+01, 6.150e+01, 2.899e+02, 9.037e-02, 4.689e-02,\n",
       "       1.103e-02, 1.407e-02, 2.081e-01, 6.312e-02, 2.684e-01, 1.409e+00,\n",
       "       1.750e+00, 1.639e+01, 1.380e-02, 1.067e-02, 8.347e-03, 9.472e-03,\n",
       "       1.798e-02, 4.261e-03, 1.075e+01, 2.088e+01, 6.809e+01, 3.552e+02,\n",
       "       1.467e-01, 9.370e-02, 4.043e-02, 5.159e-02, 2.841e-01, 8.175e-02])"
      ]
     },
     "execution_count": 17,
     "metadata": {
      "tags": []
     },
     "output_type": "execute_result"
    }
   ],
   "source": [
    "predict_one = xtest.iloc[75,:].values\n",
    "predict_one"
   ]
  },
  {
   "cell_type": "code",
   "execution_count": 18,
   "metadata": {
    "colab": {
     "base_uri": "https://localhost:8080/"
    },
    "executionInfo": {
     "elapsed": 841,
     "status": "ok",
     "timestamp": 1604686610971,
     "user": {
      "displayName": "Al Amin",
      "photoUrl": "https://lh3.googleusercontent.com/a-/AOh14GiMB6CqgQqINGrgkLYU8ftIloMfHO5LgiFZgCAUSg=s64",
      "userId": "17120997331533597303"
     },
     "user_tz": -360
    },
    "id": "UbKq_MSDxGf_",
    "outputId": "202c3613-8556-419e-bb41-10157dad9279"
   },
   "outputs": [
    {
     "data": {
      "text/plain": [
       "array([1.])"
      ]
     },
     "execution_count": 18,
     "metadata": {
      "tags": []
     },
     "output_type": "execute_result"
    }
   ],
   "source": [
    "rfc.predict([predict_one])"
   ]
  },
  {
   "cell_type": "code",
   "execution_count": 19,
   "metadata": {
    "colab": {
     "base_uri": "https://localhost:8080/"
    },
    "executionInfo": {
     "elapsed": 1002,
     "status": "ok",
     "timestamp": 1604686627743,
     "user": {
      "displayName": "Al Amin",
      "photoUrl": "https://lh3.googleusercontent.com/a-/AOh14GiMB6CqgQqINGrgkLYU8ftIloMfHO5LgiFZgCAUSg=s64",
      "userId": "17120997331533597303"
     },
     "user_tz": -360
    },
    "id": "zrLRNcgJxn4M",
    "outputId": "a4f89882-fc48-43d0-86ca-578d75010962"
   },
   "outputs": [
    {
     "data": {
      "text/plain": [
       "array(['malignant', 'benign'], dtype='<U9')"
      ]
     },
     "execution_count": 19,
     "metadata": {
      "tags": []
     },
     "output_type": "execute_result"
    }
   ],
   "source": [
    "Data.target_names"
   ]
  },
  {
   "cell_type": "code",
   "execution_count": null,
   "metadata": {
    "id": "PGJGYWF5xr9C"
   },
   "outputs": [],
   "source": []
  }
 ],
 "metadata": {
  "colab": {
   "authorship_tag": "ABX9TyNcCpCx816sIrImLvrk+T9d",
   "name": "ML_RF_Breast_Cancer_Predict.ipynb",
   "provenance": []
  },
  "kernelspec": {
   "display_name": "Python 3",
   "language": "python",
   "name": "python3"
  },
  "language_info": {
   "codemirror_mode": {
    "name": "ipython",
    "version": 3
   },
   "file_extension": ".py",
   "mimetype": "text/x-python",
   "name": "python",
   "nbconvert_exporter": "python",
   "pygments_lexer": "ipython3",
   "version": "3.9.1"
  }
 },
 "nbformat": 4,
 "nbformat_minor": 1
}
