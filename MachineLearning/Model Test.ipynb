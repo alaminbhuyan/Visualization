{
 "cells": [
  {
   "cell_type": "code",
   "execution_count": 3,
   "metadata": {},
   "outputs": [],
   "source": [
    "import joblib\n",
    "import numpy as np"
   ]
  },
  {
   "cell_type": "code",
   "execution_count": 2,
   "metadata": {},
   "outputs": [
    {
     "name": "stderr",
     "output_type": "stream",
     "text": [
      "c:\\users\\alami\\appdata\\local\\programs\\python\\python38\\lib\\site-packages\\sklearn\\base.py:329: UserWarning: Trying to unpickle estimator DecisionTreeClassifier from version 0.22.2.post1 when using version 0.23.2. This might lead to breaking code or invalid results. Use at your own risk.\n",
      "  warnings.warn(\n"
     ]
    }
   ],
   "source": [
    "model = joblib.load(\"DesicionTree_Model2\")"
   ]
  },
  {
   "cell_type": "code",
   "execution_count": 4,
   "metadata": {},
   "outputs": [
    {
     "data": {
      "text/plain": [
       "array([[2.321e+01, 2.697e+01, 1.535e+02, 1.670e+03, 9.509e-02, 1.682e-01,\n",
       "        1.950e-01, 1.237e-01, 1.909e-01, 6.309e-02, 1.058e+00, 9.635e-01,\n",
       "        7.247e+00, 1.558e+02, 6.428e-03, 2.863e-02, 4.497e-02, 1.716e-02,\n",
       "        1.590e-02, 3.053e-03, 3.101e+01, 3.451e+01, 2.060e+02, 2.944e+03,\n",
       "        1.481e-01, 4.126e-01, 5.820e-01, 2.593e-01, 3.103e-01, 8.677e-02]])"
      ]
     },
     "execution_count": 4,
     "metadata": {},
     "output_type": "execute_result"
    }
   ],
   "source": [
    "pred_one = np.array([2.321e+01, 2.697e+01, 1.535e+02, 1.670e+03, 9.509e-02, 1.682e-01,\n",
    "       1.950e-01, 1.237e-01, 1.909e-01, 6.309e-02, 1.058e+00, 9.635e-01,\n",
    "       7.247e+00, 1.558e+02, 6.428e-03, 2.863e-02, 4.497e-02, 1.716e-02,\n",
    "       1.590e-02, 3.053e-03, 3.101e+01, 3.451e+01, 2.060e+02, 2.944e+03,\n",
    "       1.481e-01, 4.126e-01, 5.820e-01, 2.593e-01, 3.103e-01, 8.677e-02],ndmin=2)\n",
    "pred_one"
   ]
  },
  {
   "cell_type": "code",
   "execution_count": 5,
   "metadata": {},
   "outputs": [
    {
     "data": {
      "text/plain": [
       "(1, 30)"
      ]
     },
     "execution_count": 5,
     "metadata": {},
     "output_type": "execute_result"
    }
   ],
   "source": [
    "pred_one.shape"
   ]
  },
  {
   "cell_type": "code",
   "execution_count": 6,
   "metadata": {},
   "outputs": [
    {
     "data": {
      "text/plain": [
       "2"
      ]
     },
     "execution_count": 6,
     "metadata": {},
     "output_type": "execute_result"
    }
   ],
   "source": [
    "pred_one.ndim"
   ]
  },
  {
   "cell_type": "code",
   "execution_count": 7,
   "metadata": {},
   "outputs": [
    {
     "data": {
      "text/plain": [
       "array([0.])"
      ]
     },
     "execution_count": 7,
     "metadata": {},
     "output_type": "execute_result"
    }
   ],
   "source": [
    "model.predict(pred_one)"
   ]
  },
  {
   "cell_type": "code",
   "execution_count": null,
   "metadata": {},
   "outputs": [],
   "source": []
  }
 ],
 "metadata": {
  "kernelspec": {
   "display_name": "Python 3",
   "language": "python",
   "name": "python3"
  },
  "language_info": {
   "codemirror_mode": {
    "name": "ipython",
    "version": 3
   },
   "file_extension": ".py",
   "mimetype": "text/x-python",
   "name": "python",
   "nbconvert_exporter": "python",
   "pygments_lexer": "ipython3",
   "version": "3.8.5"
  }
 },
 "nbformat": 4,
 "nbformat_minor": 4
}
