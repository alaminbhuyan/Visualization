{
 "cells": [
  {
   "cell_type": "code",
   "execution_count": 1,
   "id": "64551bb5",
   "metadata": {},
   "outputs": [],
   "source": [
    "import numpy as np\n",
    "import pandas as pd"
   ]
  },
  {
   "cell_type": "markdown",
   "id": "67aac737",
   "metadata": {},
   "source": [
    "## 1) Count the number of product with respect to sub category from dataframe"
   ]
  },
  {
   "cell_type": "code",
   "execution_count": 2,
   "id": "87ffebbd",
   "metadata": {},
   "outputs": [],
   "source": [
    "subCategory = [\"clothing\",\n",
    "               \"clothing\",\n",
    "               \"clothing\",\n",
    "               \"car\",\n",
    "               \"car\",\n",
    "               \"bath & skin care\",\n",
    "               \"bath & skin care\"]\n",
    "\n",
    "product = [\"frocks\",\n",
    "           \"shirt\",\n",
    "           \"jeans pant\", \n",
    "           \"ride on car\",\n",
    "           \"toy car\", \n",
    "           \"shampoos\", \n",
    "           \"soaps\"]\n"
   ]
  },
  {
   "cell_type": "code",
   "execution_count": 3,
   "id": "e3ed9694",
   "metadata": {},
   "outputs": [
    {
     "data": {
      "text/html": [
       "<div>\n",
       "<style scoped>\n",
       "    .dataframe tbody tr th:only-of-type {\n",
       "        vertical-align: middle;\n",
       "    }\n",
       "\n",
       "    .dataframe tbody tr th {\n",
       "        vertical-align: top;\n",
       "    }\n",
       "\n",
       "    .dataframe thead th {\n",
       "        text-align: right;\n",
       "    }\n",
       "</style>\n",
       "<table border=\"1\" class=\"dataframe\">\n",
       "  <thead>\n",
       "    <tr style=\"text-align: right;\">\n",
       "      <th></th>\n",
       "      <th>SubCategory</th>\n",
       "      <th>Product</th>\n",
       "    </tr>\n",
       "  </thead>\n",
       "  <tbody>\n",
       "    <tr>\n",
       "      <th>0</th>\n",
       "      <td>clothing</td>\n",
       "      <td>frocks</td>\n",
       "    </tr>\n",
       "    <tr>\n",
       "      <th>1</th>\n",
       "      <td>clothing</td>\n",
       "      <td>shirt</td>\n",
       "    </tr>\n",
       "    <tr>\n",
       "      <th>2</th>\n",
       "      <td>clothing</td>\n",
       "      <td>jeans pant</td>\n",
       "    </tr>\n",
       "    <tr>\n",
       "      <th>3</th>\n",
       "      <td>car</td>\n",
       "      <td>ride on car</td>\n",
       "    </tr>\n",
       "    <tr>\n",
       "      <th>4</th>\n",
       "      <td>car</td>\n",
       "      <td>toy car</td>\n",
       "    </tr>\n",
       "    <tr>\n",
       "      <th>5</th>\n",
       "      <td>bath &amp; skin care</td>\n",
       "      <td>shampoos</td>\n",
       "    </tr>\n",
       "    <tr>\n",
       "      <th>6</th>\n",
       "      <td>bath &amp; skin care</td>\n",
       "      <td>soaps</td>\n",
       "    </tr>\n",
       "  </tbody>\n",
       "</table>\n",
       "</div>"
      ],
      "text/plain": [
       "        SubCategory      Product\n",
       "0          clothing       frocks\n",
       "1          clothing        shirt\n",
       "2          clothing   jeans pant\n",
       "3               car  ride on car\n",
       "4               car      toy car\n",
       "5  bath & skin care     shampoos\n",
       "6  bath & skin care        soaps"
      ]
     },
     "execution_count": 3,
     "metadata": {},
     "output_type": "execute_result"
    }
   ],
   "source": [
    "df = pd.DataFrame(np.c_[subCategory, product], columns=['SubCategory', 'Product'])\n",
    "\n",
    "df"
   ]
  },
  {
   "cell_type": "code",
   "execution_count": 4,
   "id": "f37889bc",
   "metadata": {},
   "outputs": [
    {
     "data": {
      "text/plain": [
       "SubCategory       SubCategory     \n",
       "bath & skin care  bath & skin care    2\n",
       "car               car                 2\n",
       "clothing          clothing            3\n",
       "Name: SubCategory, dtype: int64"
      ]
     },
     "execution_count": 4,
     "metadata": {},
     "output_type": "execute_result"
    }
   ],
   "source": [
    "df.groupby(by=\"SubCategory\").SubCategory.value_counts()"
   ]
  },
  {
   "cell_type": "code",
   "execution_count": 5,
   "id": "7789ffa9",
   "metadata": {},
   "outputs": [
    {
     "data": {
      "text/plain": [
       "SubCategory       SubCategory     \n",
       "bath & skin care  bath & skin care    2\n",
       "car               car                 2\n",
       "clothing          clothing            3\n",
       "Name: SubCategory, dtype: int64"
      ]
     },
     "execution_count": 5,
     "metadata": {},
     "output_type": "execute_result"
    }
   ],
   "source": [
    "df.groupby(by=\"SubCategory\")[\"SubCategory\"].value_counts()"
   ]
  },
  {
   "cell_type": "markdown",
   "id": "fea8106d",
   "metadata": {},
   "source": [
    "## 2) Create DataFrame with two columns Name, Age. Create age_cat column from age.\n",
    "\n",
    "age > 35 = senior\n",
    "\n",
    "age <= 35 = junior"
   ]
  },
  {
   "cell_type": "code",
   "execution_count": 6,
   "id": "3bfff3ac",
   "metadata": {
    "scrolled": true
   },
   "outputs": [
    {
     "data": {
      "text/html": [
       "<div>\n",
       "<style scoped>\n",
       "    .dataframe tbody tr th:only-of-type {\n",
       "        vertical-align: middle;\n",
       "    }\n",
       "\n",
       "    .dataframe tbody tr th {\n",
       "        vertical-align: top;\n",
       "    }\n",
       "\n",
       "    .dataframe thead th {\n",
       "        text-align: right;\n",
       "    }\n",
       "</style>\n",
       "<table border=\"1\" class=\"dataframe\">\n",
       "  <thead>\n",
       "    <tr style=\"text-align: right;\">\n",
       "      <th></th>\n",
       "      <th>Name</th>\n",
       "      <th>Age</th>\n",
       "    </tr>\n",
       "  </thead>\n",
       "  <tbody>\n",
       "    <tr>\n",
       "      <th>0</th>\n",
       "      <td>Alamin</td>\n",
       "      <td>32</td>\n",
       "    </tr>\n",
       "    <tr>\n",
       "      <th>1</th>\n",
       "      <td>Nusrat Rita</td>\n",
       "      <td>50</td>\n",
       "    </tr>\n",
       "    <tr>\n",
       "      <th>2</th>\n",
       "      <td>Taneem</td>\n",
       "      <td>43</td>\n",
       "    </tr>\n",
       "    <tr>\n",
       "      <th>3</th>\n",
       "      <td>Tajnin Sultana</td>\n",
       "      <td>20</td>\n",
       "    </tr>\n",
       "    <tr>\n",
       "      <th>4</th>\n",
       "      <td>Joty</td>\n",
       "      <td>33</td>\n",
       "    </tr>\n",
       "  </tbody>\n",
       "</table>\n",
       "</div>"
      ],
      "text/plain": [
       "             Name Age\n",
       "0          Alamin  32\n",
       "1     Nusrat Rita  50\n",
       "2          Taneem  43\n",
       "3  Tajnin Sultana  20\n",
       "4            Joty  33"
      ]
     },
     "execution_count": 6,
     "metadata": {},
     "output_type": "execute_result"
    }
   ],
   "source": [
    "name = [\"Alamin\", \"Nusrat Rita\", \"Taneem\", \"Tajnin Sultana\", \"Joty\"]\n",
    "\n",
    "age = [32,50,43,20,33]\n",
    "\n",
    "df = pd.DataFrame(np.c_[name, age], columns=['Name', 'Age'])\n",
    "\n",
    "df"
   ]
  },
  {
   "cell_type": "code",
   "execution_count": 7,
   "id": "5c92bbdb",
   "metadata": {
    "scrolled": true
   },
   "outputs": [
    {
     "name": "stdout",
     "output_type": "stream",
     "text": [
      "<class 'pandas.core.frame.DataFrame'>\n",
      "RangeIndex: 5 entries, 0 to 4\n",
      "Data columns (total 2 columns):\n",
      " #   Column  Non-Null Count  Dtype \n",
      "---  ------  --------------  ----- \n",
      " 0   Name    5 non-null      object\n",
      " 1   Age     5 non-null      object\n",
      "dtypes: object(2)\n",
      "memory usage: 208.0+ bytes\n"
     ]
    }
   ],
   "source": [
    "df.info()"
   ]
  },
  {
   "cell_type": "code",
   "execution_count": 8,
   "id": "12752b5d",
   "metadata": {},
   "outputs": [],
   "source": [
    "df['Age'] = df['Age'].astype('int')"
   ]
  },
  {
   "cell_type": "code",
   "execution_count": 9,
   "id": "25fa5547",
   "metadata": {},
   "outputs": [
    {
     "name": "stdout",
     "output_type": "stream",
     "text": [
      "<class 'pandas.core.frame.DataFrame'>\n",
      "RangeIndex: 5 entries, 0 to 4\n",
      "Data columns (total 2 columns):\n",
      " #   Column  Non-Null Count  Dtype \n",
      "---  ------  --------------  ----- \n",
      " 0   Name    5 non-null      object\n",
      " 1   Age     5 non-null      int32 \n",
      "dtypes: int32(1), object(1)\n",
      "memory usage: 188.0+ bytes\n"
     ]
    }
   ],
   "source": [
    "df.info()"
   ]
  },
  {
   "cell_type": "code",
   "execution_count": 10,
   "id": "29f663b4",
   "metadata": {},
   "outputs": [
    {
     "data": {
      "text/plain": [
       "0    Junior\n",
       "1    Senior\n",
       "2    Senior\n",
       "3    Junior\n",
       "4    Junior\n",
       "Name: Age, dtype: object"
      ]
     },
     "execution_count": 10,
     "metadata": {},
     "output_type": "execute_result"
    }
   ],
   "source": [
    "df['Age'].apply(lambda a : 'Junior' if a<=35 else 'Senior')"
   ]
  },
  {
   "cell_type": "code",
   "execution_count": 11,
   "id": "013384cb",
   "metadata": {},
   "outputs": [
    {
     "data": {
      "text/html": [
       "<div>\n",
       "<style scoped>\n",
       "    .dataframe tbody tr th:only-of-type {\n",
       "        vertical-align: middle;\n",
       "    }\n",
       "\n",
       "    .dataframe tbody tr th {\n",
       "        vertical-align: top;\n",
       "    }\n",
       "\n",
       "    .dataframe thead th {\n",
       "        text-align: right;\n",
       "    }\n",
       "</style>\n",
       "<table border=\"1\" class=\"dataframe\">\n",
       "  <thead>\n",
       "    <tr style=\"text-align: right;\">\n",
       "      <th></th>\n",
       "      <th>Name</th>\n",
       "      <th>Age</th>\n",
       "      <th>Age_cat</th>\n",
       "    </tr>\n",
       "  </thead>\n",
       "  <tbody>\n",
       "    <tr>\n",
       "      <th>0</th>\n",
       "      <td>Alamin</td>\n",
       "      <td>32</td>\n",
       "      <td>Junior</td>\n",
       "    </tr>\n",
       "    <tr>\n",
       "      <th>1</th>\n",
       "      <td>Nusrat Rita</td>\n",
       "      <td>50</td>\n",
       "      <td>Senior</td>\n",
       "    </tr>\n",
       "    <tr>\n",
       "      <th>2</th>\n",
       "      <td>Taneem</td>\n",
       "      <td>43</td>\n",
       "      <td>Senior</td>\n",
       "    </tr>\n",
       "    <tr>\n",
       "      <th>3</th>\n",
       "      <td>Tajnin Sultana</td>\n",
       "      <td>20</td>\n",
       "      <td>Junior</td>\n",
       "    </tr>\n",
       "    <tr>\n",
       "      <th>4</th>\n",
       "      <td>Joty</td>\n",
       "      <td>33</td>\n",
       "      <td>Junior</td>\n",
       "    </tr>\n",
       "  </tbody>\n",
       "</table>\n",
       "</div>"
      ],
      "text/plain": [
       "             Name  Age Age_cat\n",
       "0          Alamin   32  Junior\n",
       "1     Nusrat Rita   50  Senior\n",
       "2          Taneem   43  Senior\n",
       "3  Tajnin Sultana   20  Junior\n",
       "4            Joty   33  Junior"
      ]
     },
     "execution_count": 11,
     "metadata": {},
     "output_type": "execute_result"
    }
   ],
   "source": [
    "df['Age_cat'] = df['Age'].apply(lambda a : 'Junior' if a<=35 else 'Senior')\n",
    "\n",
    "df"
   ]
  },
  {
   "cell_type": "code",
   "execution_count": null,
   "id": "760f3b53",
   "metadata": {},
   "outputs": [],
   "source": []
  }
 ],
 "metadata": {
  "kernelspec": {
   "display_name": "Python 3 (ipykernel)",
   "language": "python",
   "name": "python3"
  },
  "language_info": {
   "codemirror_mode": {
    "name": "ipython",
    "version": 3
   },
   "file_extension": ".py",
   "mimetype": "text/x-python",
   "name": "python",
   "nbconvert_exporter": "python",
   "pygments_lexer": "ipython3",
   "version": "3.10.2"
  }
 },
 "nbformat": 4,
 "nbformat_minor": 5
}
