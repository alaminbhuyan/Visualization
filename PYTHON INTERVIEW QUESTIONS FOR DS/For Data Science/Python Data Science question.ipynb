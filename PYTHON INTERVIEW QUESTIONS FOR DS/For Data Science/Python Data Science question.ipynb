{
 "cells": [
  {
   "cell_type": "code",
   "execution_count": 1,
   "id": "64551bb5",
   "metadata": {},
   "outputs": [],
   "source": [
    "import numpy as np\n",
    "import pandas as pd"
   ]
  },
  {
   "cell_type": "markdown",
   "id": "67aac737",
   "metadata": {},
   "source": [
    "## 1) Count the number of product with respect to sub category from dataframe"
   ]
  },
  {
   "cell_type": "code",
   "execution_count": 2,
   "id": "87ffebbd",
   "metadata": {},
   "outputs": [],
   "source": [
    "subCategory = [\"clothing\",\n",
    "               \"clothing\",\n",
    "               \"clothing\",\n",
    "               \"car\",\n",
    "               \"car\",\n",
    "               \"bath & skin care\",\n",
    "               \"bath & skin care\"]\n",
    "\n",
    "product = [\"frocks\",\n",
    "           \"shirt\",\n",
    "           \"jeans pant\", \n",
    "           \"ride on car\",\n",
    "           \"toy car\", \n",
    "           \"shampoos\", \n",
    "           \"soaps\"]\n"
   ]
  },
  {
   "cell_type": "code",
   "execution_count": 3,
   "id": "e3ed9694",
   "metadata": {},
   "outputs": [
    {
     "data": {
      "text/html": [
       "<div>\n",
       "<style scoped>\n",
       "    .dataframe tbody tr th:only-of-type {\n",
       "        vertical-align: middle;\n",
       "    }\n",
       "\n",
       "    .dataframe tbody tr th {\n",
       "        vertical-align: top;\n",
       "    }\n",
       "\n",
       "    .dataframe thead th {\n",
       "        text-align: right;\n",
       "    }\n",
       "</style>\n",
       "<table border=\"1\" class=\"dataframe\">\n",
       "  <thead>\n",
       "    <tr style=\"text-align: right;\">\n",
       "      <th></th>\n",
       "      <th>SubCategory</th>\n",
       "      <th>Product</th>\n",
       "    </tr>\n",
       "  </thead>\n",
       "  <tbody>\n",
       "    <tr>\n",
       "      <th>0</th>\n",
       "      <td>clothing</td>\n",
       "      <td>frocks</td>\n",
       "    </tr>\n",
       "    <tr>\n",
       "      <th>1</th>\n",
       "      <td>clothing</td>\n",
       "      <td>shirt</td>\n",
       "    </tr>\n",
       "    <tr>\n",
       "      <th>2</th>\n",
       "      <td>clothing</td>\n",
       "      <td>jeans pant</td>\n",
       "    </tr>\n",
       "    <tr>\n",
       "      <th>3</th>\n",
       "      <td>car</td>\n",
       "      <td>ride on car</td>\n",
       "    </tr>\n",
       "    <tr>\n",
       "      <th>4</th>\n",
       "      <td>car</td>\n",
       "      <td>toy car</td>\n",
       "    </tr>\n",
       "    <tr>\n",
       "      <th>5</th>\n",
       "      <td>bath &amp; skin care</td>\n",
       "      <td>shampoos</td>\n",
       "    </tr>\n",
       "    <tr>\n",
       "      <th>6</th>\n",
       "      <td>bath &amp; skin care</td>\n",
       "      <td>soaps</td>\n",
       "    </tr>\n",
       "  </tbody>\n",
       "</table>\n",
       "</div>"
      ],
      "text/plain": [
       "        SubCategory      Product\n",
       "0          clothing       frocks\n",
       "1          clothing        shirt\n",
       "2          clothing   jeans pant\n",
       "3               car  ride on car\n",
       "4               car      toy car\n",
       "5  bath & skin care     shampoos\n",
       "6  bath & skin care        soaps"
      ]
     },
     "execution_count": 3,
     "metadata": {},
     "output_type": "execute_result"
    }
   ],
   "source": [
    "df = pd.DataFrame(np.c_[subCategory, product], columns=['SubCategory', 'Product'])\n",
    "\n",
    "df"
   ]
  },
  {
   "cell_type": "code",
   "execution_count": 4,
   "id": "f37889bc",
   "metadata": {},
   "outputs": [
    {
     "data": {
      "text/plain": [
       "SubCategory       SubCategory     \n",
       "bath & skin care  bath & skin care    2\n",
       "car               car                 2\n",
       "clothing          clothing            3\n",
       "Name: SubCategory, dtype: int64"
      ]
     },
     "execution_count": 4,
     "metadata": {},
     "output_type": "execute_result"
    }
   ],
   "source": [
    "df.groupby(by=\"SubCategory\").SubCategory.value_counts()"
   ]
  },
  {
   "cell_type": "code",
   "execution_count": 5,
   "id": "7789ffa9",
   "metadata": {},
   "outputs": [
    {
     "data": {
      "text/plain": [
       "SubCategory       SubCategory     \n",
       "bath & skin care  bath & skin care    2\n",
       "car               car                 2\n",
       "clothing          clothing            3\n",
       "Name: SubCategory, dtype: int64"
      ]
     },
     "execution_count": 5,
     "metadata": {},
     "output_type": "execute_result"
    }
   ],
   "source": [
    "df.groupby(by=\"SubCategory\")[\"SubCategory\"].value_counts()"
   ]
  },
  {
   "cell_type": "markdown",
   "id": "fea8106d",
   "metadata": {},
   "source": [
    "## 2) Create DataFrame with two columns Name, Age. Create age_cat column from age.\n",
    "\n",
    "age > 35 = senior\n",
    "\n",
    "age <= 35 = junior"
   ]
  },
  {
   "cell_type": "code",
   "execution_count": 6,
   "id": "3bfff3ac",
   "metadata": {
    "scrolled": true
   },
   "outputs": [
    {
     "data": {
      "text/html": [
       "<div>\n",
       "<style scoped>\n",
       "    .dataframe tbody tr th:only-of-type {\n",
       "        vertical-align: middle;\n",
       "    }\n",
       "\n",
       "    .dataframe tbody tr th {\n",
       "        vertical-align: top;\n",
       "    }\n",
       "\n",
       "    .dataframe thead th {\n",
       "        text-align: right;\n",
       "    }\n",
       "</style>\n",
       "<table border=\"1\" class=\"dataframe\">\n",
       "  <thead>\n",
       "    <tr style=\"text-align: right;\">\n",
       "      <th></th>\n",
       "      <th>Name</th>\n",
       "      <th>Age</th>\n",
       "    </tr>\n",
       "  </thead>\n",
       "  <tbody>\n",
       "    <tr>\n",
       "      <th>0</th>\n",
       "      <td>Alamin</td>\n",
       "      <td>32</td>\n",
       "    </tr>\n",
       "    <tr>\n",
       "      <th>1</th>\n",
       "      <td>Nusrat Rita</td>\n",
       "      <td>50</td>\n",
       "    </tr>\n",
       "    <tr>\n",
       "      <th>2</th>\n",
       "      <td>Taneem</td>\n",
       "      <td>43</td>\n",
       "    </tr>\n",
       "    <tr>\n",
       "      <th>3</th>\n",
       "      <td>Tajnin Sultana</td>\n",
       "      <td>20</td>\n",
       "    </tr>\n",
       "    <tr>\n",
       "      <th>4</th>\n",
       "      <td>Joty</td>\n",
       "      <td>33</td>\n",
       "    </tr>\n",
       "  </tbody>\n",
       "</table>\n",
       "</div>"
      ],
      "text/plain": [
       "             Name Age\n",
       "0          Alamin  32\n",
       "1     Nusrat Rita  50\n",
       "2          Taneem  43\n",
       "3  Tajnin Sultana  20\n",
       "4            Joty  33"
      ]
     },
     "execution_count": 6,
     "metadata": {},
     "output_type": "execute_result"
    }
   ],
   "source": [
    "name = [\"Alamin\", \"Nusrat Rita\", \"Taneem\", \"Tajnin Sultana\", \"Joty\"]\n",
    "\n",
    "age = [32,50,43,20,33]\n",
    "\n",
    "df = pd.DataFrame(np.c_[name, age], columns=['Name', 'Age'])\n",
    "\n",
    "df"
   ]
  },
  {
   "cell_type": "code",
   "execution_count": 7,
   "id": "5c92bbdb",
   "metadata": {
    "scrolled": true
   },
   "outputs": [
    {
     "name": "stdout",
     "output_type": "stream",
     "text": [
      "<class 'pandas.core.frame.DataFrame'>\n",
      "RangeIndex: 5 entries, 0 to 4\n",
      "Data columns (total 2 columns):\n",
      " #   Column  Non-Null Count  Dtype \n",
      "---  ------  --------------  ----- \n",
      " 0   Name    5 non-null      object\n",
      " 1   Age     5 non-null      object\n",
      "dtypes: object(2)\n",
      "memory usage: 208.0+ bytes\n"
     ]
    }
   ],
   "source": [
    "df.info()"
   ]
  },
  {
   "cell_type": "code",
   "execution_count": 8,
   "id": "12752b5d",
   "metadata": {},
   "outputs": [],
   "source": [
    "df['Age'] = df['Age'].astype(dtype='int')"
   ]
  },
  {
   "cell_type": "code",
   "execution_count": 9,
   "id": "25fa5547",
   "metadata": {},
   "outputs": [
    {
     "name": "stdout",
     "output_type": "stream",
     "text": [
      "<class 'pandas.core.frame.DataFrame'>\n",
      "RangeIndex: 5 entries, 0 to 4\n",
      "Data columns (total 2 columns):\n",
      " #   Column  Non-Null Count  Dtype \n",
      "---  ------  --------------  ----- \n",
      " 0   Name    5 non-null      object\n",
      " 1   Age     5 non-null      int32 \n",
      "dtypes: int32(1), object(1)\n",
      "memory usage: 188.0+ bytes\n"
     ]
    }
   ],
   "source": [
    "df.info()"
   ]
  },
  {
   "cell_type": "code",
   "execution_count": 10,
   "id": "29f663b4",
   "metadata": {},
   "outputs": [
    {
     "data": {
      "text/plain": [
       "0    Junior\n",
       "1    Senior\n",
       "2    Senior\n",
       "3    Junior\n",
       "4    Junior\n",
       "Name: Age, dtype: object"
      ]
     },
     "execution_count": 10,
     "metadata": {},
     "output_type": "execute_result"
    }
   ],
   "source": [
    "df['Age'].apply(lambda a : 'Junior' if a<=35 else 'Senior')"
   ]
  },
  {
   "cell_type": "code",
   "execution_count": 11,
   "id": "013384cb",
   "metadata": {},
   "outputs": [
    {
     "data": {
      "text/html": [
       "<div>\n",
       "<style scoped>\n",
       "    .dataframe tbody tr th:only-of-type {\n",
       "        vertical-align: middle;\n",
       "    }\n",
       "\n",
       "    .dataframe tbody tr th {\n",
       "        vertical-align: top;\n",
       "    }\n",
       "\n",
       "    .dataframe thead th {\n",
       "        text-align: right;\n",
       "    }\n",
       "</style>\n",
       "<table border=\"1\" class=\"dataframe\">\n",
       "  <thead>\n",
       "    <tr style=\"text-align: right;\">\n",
       "      <th></th>\n",
       "      <th>Name</th>\n",
       "      <th>Age</th>\n",
       "      <th>Age_cat</th>\n",
       "    </tr>\n",
       "  </thead>\n",
       "  <tbody>\n",
       "    <tr>\n",
       "      <th>0</th>\n",
       "      <td>Alamin</td>\n",
       "      <td>32</td>\n",
       "      <td>Junior</td>\n",
       "    </tr>\n",
       "    <tr>\n",
       "      <th>1</th>\n",
       "      <td>Nusrat Rita</td>\n",
       "      <td>50</td>\n",
       "      <td>Senior</td>\n",
       "    </tr>\n",
       "    <tr>\n",
       "      <th>2</th>\n",
       "      <td>Taneem</td>\n",
       "      <td>43</td>\n",
       "      <td>Senior</td>\n",
       "    </tr>\n",
       "    <tr>\n",
       "      <th>3</th>\n",
       "      <td>Tajnin Sultana</td>\n",
       "      <td>20</td>\n",
       "      <td>Junior</td>\n",
       "    </tr>\n",
       "    <tr>\n",
       "      <th>4</th>\n",
       "      <td>Joty</td>\n",
       "      <td>33</td>\n",
       "      <td>Junior</td>\n",
       "    </tr>\n",
       "  </tbody>\n",
       "</table>\n",
       "</div>"
      ],
      "text/plain": [
       "             Name  Age Age_cat\n",
       "0          Alamin   32  Junior\n",
       "1     Nusrat Rita   50  Senior\n",
       "2          Taneem   43  Senior\n",
       "3  Tajnin Sultana   20  Junior\n",
       "4            Joty   33  Junior"
      ]
     },
     "execution_count": 11,
     "metadata": {},
     "output_type": "execute_result"
    }
   ],
   "source": [
    "df['Age_cat'] = df['Age'].apply(lambda a : 'Junior' if a<=35 else 'Senior')\n",
    "\n",
    "df"
   ]
  },
  {
   "cell_type": "markdown",
   "id": "731225af-17ca-4eb9-871c-b623772be0fd",
   "metadata": {},
   "source": [
    "## print the surname from the full name"
   ]
  },
  {
   "cell_type": "code",
   "execution_count": 12,
   "id": "b68c42cd-53cc-4897-bc5f-a86cf3f23321",
   "metadata": {},
   "outputs": [
    {
     "data": {
      "text/plain": [
       "['Narendra_Modi', 'Rahul_Gandhi ', 'Arvind_Kejrival']"
      ]
     },
     "execution_count": 12,
     "metadata": {},
     "output_type": "execute_result"
    }
   ],
   "source": [
    "lis = [\"Narendra_Modi\", \"Rahul_Gandhi \", \"Arvind_Kejrival\"]\n",
    "\n",
    "lis"
   ]
  },
  {
   "cell_type": "code",
   "execution_count": 13,
   "id": "c523bd7b-7cce-4d68-bb08-e4fad14b1e99",
   "metadata": {},
   "outputs": [
    {
     "name": "stdout",
     "output_type": "stream",
     "text": [
      "['Modi', 'Gandhi', 'Kejrival']\n"
     ]
    }
   ],
   "source": [
    "result = []\n",
    "\n",
    "for surname in lis:\n",
    "    result.append(surname.split(\"_\")[-1].strip())\n",
    "\n",
    "print(result)"
   ]
  },
  {
   "cell_type": "code",
   "execution_count": 14,
   "id": "893a2ee3-9653-4ea2-83d4-d47253aab1f1",
   "metadata": {},
   "outputs": [
    {
     "data": {
      "text/plain": [
       "['Modi', 'Gandhi', 'Kejrival']"
      ]
     },
     "execution_count": 14,
     "metadata": {},
     "output_type": "execute_result"
    }
   ],
   "source": [
    "# Using list comprehension\n",
    "\n",
    "result2 = [surname.split(\"_\")[-1].strip() for surname in lis]\n",
    "\n",
    "result2"
   ]
  },
  {
   "cell_type": "markdown",
   "id": "5e513ff4-768d-4afe-aeaf-92cdabc17a78",
   "metadata": {},
   "source": [
    "## Create Image & Flip It Without special Function"
   ]
  },
  {
   "cell_type": "code",
   "execution_count": 15,
   "id": "1b9dddb7-03b6-4c1a-b6f8-eb40bbe69d4d",
   "metadata": {},
   "outputs": [],
   "source": [
    "from torch_snippets import show"
   ]
  },
  {
   "cell_type": "code",
   "execution_count": 16,
   "id": "ab16373b-2bda-412d-98a2-39b5918556dc",
   "metadata": {},
   "outputs": [
    {
     "data": {
      "text/plain": [
       "array([[[ 65,   1, 122],\n",
       "        [233,  54, 155],\n",
       "        [ 24, 122,  95],\n",
       "        [166, 195,  77],\n",
       "        [ 78, 105, 113]],\n",
       "\n",
       "       [[183,  74,  63],\n",
       "        [175, 162, 188],\n",
       "        [225, 143,  77],\n",
       "        [238, 226,   4],\n",
       "        [ 33,  21, 202]],\n",
       "\n",
       "       [[ 77,  33, 120],\n",
       "        [ 31, 158, 110],\n",
       "        [229,   4, 141],\n",
       "        [202, 151,  97],\n",
       "        [ 68,  20, 167]],\n",
       "\n",
       "       [[235,  86, 162],\n",
       "        [254,  25, 205],\n",
       "        [193,  91,  62],\n",
       "        [ 88, 221, 252],\n",
       "        [ 57, 104, 205]],\n",
       "\n",
       "       [[ 95, 109,  77],\n",
       "        [ 80,  63,  10],\n",
       "        [194, 155, 233],\n",
       "        [ 11, 135, 127],\n",
       "        [ 75, 144, 119]]], dtype=uint8)"
      ]
     },
     "execution_count": 16,
     "metadata": {},
     "output_type": "execute_result"
    }
   ],
   "source": [
    "img = np.random.randint(low=0, high=255, size=(5,5,3), dtype=np.uint8)\n",
    "\n",
    "img"
   ]
  },
  {
   "cell_type": "code",
   "execution_count": 17,
   "id": "05cb6594-6a94-4750-abc6-3420f9b381cf",
   "metadata": {},
   "outputs": [
    {
     "data": {
      "text/plain": [
       "(5, 5, 3)"
      ]
     },
     "execution_count": 17,
     "metadata": {},
     "output_type": "execute_result"
    }
   ],
   "source": [
    "img.shape"
   ]
  },
  {
   "cell_type": "code",
   "execution_count": 18,
   "id": "30063d9b-b8fd-4168-b2b8-3007fd8b3a23",
   "metadata": {},
   "outputs": [
    {
     "data": {
      "text/plain": [
       "dtype('uint8')"
      ]
     },
     "execution_count": 18,
     "metadata": {},
     "output_type": "execute_result"
    }
   ],
   "source": [
    "img.dtype"
   ]
  },
  {
   "cell_type": "code",
   "execution_count": 19,
   "id": "b0aa95b3-b0f2-4708-be8c-9d05d621ecb6",
   "metadata": {},
   "outputs": [
    {
     "name": "stdout",
     "output_type": "stream",
     "text": [
      "name 'torch' is not defined\n"
     ]
    },
    {
     "data": {
      "image/png": "[encoded data removed]",
      "text/plain": [
       "<Figure size 360x360 with 1 Axes>"
      ]
     },
     "metadata": {
      "needs_background": "light"
     },
     "output_type": "display_data"
    }
   ],
   "source": [
    "show(img=img, title=\"RGB image\", sz=5)"
   ]
  },
  {
   "cell_type": "code",
   "execution_count": 20,
   "id": "576110fe-8e03-4302-8af0-d5548d92e315",
   "metadata": {},
   "outputs": [
    {
     "name": "stdout",
     "output_type": "stream",
     "text": [
      "name 'torch' is not defined\n"
     ]
    },
    {
     "data": {
      "image/png": "[encoded data removed]",
      "text/plain": [
       "<Figure size 360x360 with 1 Axes>"
      ]
     },
     "metadata": {
      "needs_background": "light"
     },
     "output_type": "display_data"
    }
   ],
   "source": [
    "# filp the image\n",
    "\n",
    "filp_img = np.array(list(reversed(img)))\n",
    "\n",
    "show(img=filp_img, title=\"RGB image\", sz=5)"
   ]
  },
  {
   "cell_type": "markdown",
   "id": "9c92c6a7-4410-4e5f-a8f3-c33c50659544",
   "metadata": {},
   "source": [
    "## Convert Categorical Data Into Numerical Format without special function"
   ]
  },
  {
   "cell_type": "code",
   "execution_count": 21,
   "id": "6b0d25da-1358-40ae-afbd-9796f9449e67",
   "metadata": {},
   "outputs": [],
   "source": [
    "# data \n",
    "students = ['alamin', 'nahid', 'mim', 'fatema']\n",
    "city = ['Dhaka', 'Comilla', 'Sylet', 'Khulna']\n",
    "marks = [\"78\", \"98\", \"80\", \"86\"]"
   ]
  },
  {
   "cell_type": "code",
   "execution_count": 22,
   "id": "85e1d21c-7e02-4e79-8a6a-defed62cada0",
   "metadata": {},
   "outputs": [
    {
     "data": {
      "text/html": [
       "<div>\n",
       "<style scoped>\n",
       "    .dataframe tbody tr th:only-of-type {\n",
       "        vertical-align: middle;\n",
       "    }\n",
       "\n",
       "    .dataframe tbody tr th {\n",
       "        vertical-align: top;\n",
       "    }\n",
       "\n",
       "    .dataframe thead th {\n",
       "        text-align: right;\n",
       "    }\n",
       "</style>\n",
       "<table border=\"1\" class=\"dataframe\">\n",
       "  <thead>\n",
       "    <tr style=\"text-align: right;\">\n",
       "      <th></th>\n",
       "      <th>students</th>\n",
       "      <th>city</th>\n",
       "      <th>marks</th>\n",
       "    </tr>\n",
       "  </thead>\n",
       "  <tbody>\n",
       "    <tr>\n",
       "      <th>0</th>\n",
       "      <td>alamin</td>\n",
       "      <td>Dhaka</td>\n",
       "      <td>78</td>\n",
       "    </tr>\n",
       "    <tr>\n",
       "      <th>1</th>\n",
       "      <td>nahid</td>\n",
       "      <td>Comilla</td>\n",
       "      <td>98</td>\n",
       "    </tr>\n",
       "    <tr>\n",
       "      <th>2</th>\n",
       "      <td>mim</td>\n",
       "      <td>Sylet</td>\n",
       "      <td>80</td>\n",
       "    </tr>\n",
       "    <tr>\n",
       "      <th>3</th>\n",
       "      <td>fatema</td>\n",
       "      <td>Khulna</td>\n",
       "      <td>86</td>\n",
       "    </tr>\n",
       "  </tbody>\n",
       "</table>\n",
       "</div>"
      ],
      "text/plain": [
       "  students     city marks\n",
       "0   alamin    Dhaka    78\n",
       "1    nahid  Comilla    98\n",
       "2      mim    Sylet    80\n",
       "3   fatema   Khulna    86"
      ]
     },
     "execution_count": 22,
     "metadata": {},
     "output_type": "execute_result"
    }
   ],
   "source": [
    "df = pd.DataFrame(data=np.c_[students, city, marks], columns=[\"students\", \"city\", \"marks\"])\n",
    "df"
   ]
  },
  {
   "cell_type": "code",
   "execution_count": 23,
   "id": "8ac0f7c2-c80f-40fd-bb3e-55ab591e6a53",
   "metadata": {},
   "outputs": [
    {
     "data": {
      "text/plain": [
       "(4, 3)"
      ]
     },
     "execution_count": 23,
     "metadata": {},
     "output_type": "execute_result"
    }
   ],
   "source": [
    "df.shape"
   ]
  },
  {
   "cell_type": "code",
   "execution_count": 24,
   "id": "1abd6b5f-e0ee-4ba8-b2c7-72311197d7a8",
   "metadata": {},
   "outputs": [
    {
     "data": {
      "text/html": [
       "<div>\n",
       "<style scoped>\n",
       "    .dataframe tbody tr th:only-of-type {\n",
       "        vertical-align: middle;\n",
       "    }\n",
       "\n",
       "    .dataframe tbody tr th {\n",
       "        vertical-align: top;\n",
       "    }\n",
       "\n",
       "    .dataframe thead th {\n",
       "        text-align: right;\n",
       "    }\n",
       "</style>\n",
       "<table border=\"1\" class=\"dataframe\">\n",
       "  <thead>\n",
       "    <tr style=\"text-align: right;\">\n",
       "      <th></th>\n",
       "      <th>students</th>\n",
       "      <th>city</th>\n",
       "      <th>marks</th>\n",
       "    </tr>\n",
       "  </thead>\n",
       "  <tbody>\n",
       "    <tr>\n",
       "      <th>0</th>\n",
       "      <td>alamin</td>\n",
       "      <td>Dhaka</td>\n",
       "      <td>78</td>\n",
       "    </tr>\n",
       "    <tr>\n",
       "      <th>1</th>\n",
       "      <td>nahid</td>\n",
       "      <td>Comilla</td>\n",
       "      <td>98</td>\n",
       "    </tr>\n",
       "    <tr>\n",
       "      <th>2</th>\n",
       "      <td>mim</td>\n",
       "      <td>Sylet</td>\n",
       "      <td>80</td>\n",
       "    </tr>\n",
       "    <tr>\n",
       "      <th>3</th>\n",
       "      <td>fatema</td>\n",
       "      <td>Khulna</td>\n",
       "      <td>86</td>\n",
       "    </tr>\n",
       "  </tbody>\n",
       "</table>\n",
       "</div>"
      ],
      "text/plain": [
       "  students     city marks\n",
       "0   alamin    Dhaka    78\n",
       "1    nahid  Comilla    98\n",
       "2      mim    Sylet    80\n",
       "3   fatema   Khulna    86"
      ]
     },
     "execution_count": 24,
     "metadata": {},
     "output_type": "execute_result"
    }
   ],
   "source": [
    "df2 = df.copy()\n",
    "\n",
    "df2"
   ]
  },
  {
   "cell_type": "code",
   "execution_count": 25,
   "id": "062cf1c0-57ce-4e0a-899d-c51ece0e5f56",
   "metadata": {},
   "outputs": [],
   "source": [
    "# Create a function\n",
    "\n",
    "def oneHotencoder(dataFrame, column_name):\n",
    "    columns = dataFrame[column_name].unique().tolist()\n",
    "    for column in columns:\n",
    "        dataFrame[column] = np.nan\n",
    "    \n",
    "    for column in columns:\n",
    "        for i in range(dataFrame.shape[0]):\n",
    "            cat_val = dataFrame.loc[i, column_name]\n",
    "            if cat_val == column:\n",
    "                dataFrame.loc[i, column] = 1\n",
    "            else:\n",
    "                dataFrame.loc[i, column] = 0\n",
    "    return dataFrame"
   ]
  },
  {
   "cell_type": "code",
   "execution_count": 26,
   "id": "6baffb0b-3980-482d-a3d4-26014fe2c875",
   "metadata": {},
   "outputs": [
    {
     "data": {
      "text/html": [
       "<div>\n",
       "<style scoped>\n",
       "    .dataframe tbody tr th:only-of-type {\n",
       "        vertical-align: middle;\n",
       "    }\n",
       "\n",
       "    .dataframe tbody tr th {\n",
       "        vertical-align: top;\n",
       "    }\n",
       "\n",
       "    .dataframe thead th {\n",
       "        text-align: right;\n",
       "    }\n",
       "</style>\n",
       "<table border=\"1\" class=\"dataframe\">\n",
       "  <thead>\n",
       "    <tr style=\"text-align: right;\">\n",
       "      <th></th>\n",
       "      <th>students</th>\n",
       "      <th>city</th>\n",
       "      <th>marks</th>\n",
       "      <th>Dhaka</th>\n",
       "      <th>Comilla</th>\n",
       "      <th>Sylet</th>\n",
       "      <th>Khulna</th>\n",
       "    </tr>\n",
       "  </thead>\n",
       "  <tbody>\n",
       "    <tr>\n",
       "      <th>0</th>\n",
       "      <td>alamin</td>\n",
       "      <td>Dhaka</td>\n",
       "      <td>78</td>\n",
       "      <td>1.0</td>\n",
       "      <td>0.0</td>\n",
       "      <td>0.0</td>\n",
       "      <td>0.0</td>\n",
       "    </tr>\n",
       "    <tr>\n",
       "      <th>1</th>\n",
       "      <td>nahid</td>\n",
       "      <td>Comilla</td>\n",
       "      <td>98</td>\n",
       "      <td>0.0</td>\n",
       "      <td>1.0</td>\n",
       "      <td>0.0</td>\n",
       "      <td>0.0</td>\n",
       "    </tr>\n",
       "    <tr>\n",
       "      <th>2</th>\n",
       "      <td>mim</td>\n",
       "      <td>Sylet</td>\n",
       "      <td>80</td>\n",
       "      <td>0.0</td>\n",
       "      <td>0.0</td>\n",
       "      <td>1.0</td>\n",
       "      <td>0.0</td>\n",
       "    </tr>\n",
       "    <tr>\n",
       "      <th>3</th>\n",
       "      <td>fatema</td>\n",
       "      <td>Khulna</td>\n",
       "      <td>86</td>\n",
       "      <td>0.0</td>\n",
       "      <td>0.0</td>\n",
       "      <td>0.0</td>\n",
       "      <td>1.0</td>\n",
       "    </tr>\n",
       "  </tbody>\n",
       "</table>\n",
       "</div>"
      ],
      "text/plain": [
       "  students     city marks  Dhaka  Comilla  Sylet  Khulna\n",
       "0   alamin    Dhaka    78    1.0      0.0    0.0     0.0\n",
       "1    nahid  Comilla    98    0.0      1.0    0.0     0.0\n",
       "2      mim    Sylet    80    0.0      0.0    1.0     0.0\n",
       "3   fatema   Khulna    86    0.0      0.0    0.0     1.0"
      ]
     },
     "execution_count": 26,
     "metadata": {},
     "output_type": "execute_result"
    }
   ],
   "source": [
    "encoded_df = oneHotencoder(df, 'city')\n",
    "\n",
    "encoded_df"
   ]
  },
  {
   "cell_type": "code",
   "execution_count": 27,
   "id": "e95c7df8-1c5f-4c88-acaf-90cc4b6c70b7",
   "metadata": {},
   "outputs": [],
   "source": [
    "# Another way\n",
    "\n",
    "for city_name in df2['city'].unique().tolist():\n",
    "    df2[city_name] = np.where(df2['city'] == city_name, 1, 0)"
   ]
  },
  {
   "cell_type": "code",
   "execution_count": 28,
   "id": "0df988e6-392b-4ee9-bb94-5786faf39962",
   "metadata": {},
   "outputs": [
    {
     "data": {
      "text/html": [
       "<div>\n",
       "<style scoped>\n",
       "    .dataframe tbody tr th:only-of-type {\n",
       "        vertical-align: middle;\n",
       "    }\n",
       "\n",
       "    .dataframe tbody tr th {\n",
       "        vertical-align: top;\n",
       "    }\n",
       "\n",
       "    .dataframe thead th {\n",
       "        text-align: right;\n",
       "    }\n",
       "</style>\n",
       "<table border=\"1\" class=\"dataframe\">\n",
       "  <thead>\n",
       "    <tr style=\"text-align: right;\">\n",
       "      <th></th>\n",
       "      <th>students</th>\n",
       "      <th>city</th>\n",
       "      <th>marks</th>\n",
       "      <th>Dhaka</th>\n",
       "      <th>Comilla</th>\n",
       "      <th>Sylet</th>\n",
       "      <th>Khulna</th>\n",
       "    </tr>\n",
       "  </thead>\n",
       "  <tbody>\n",
       "    <tr>\n",
       "      <th>0</th>\n",
       "      <td>alamin</td>\n",
       "      <td>Dhaka</td>\n",
       "      <td>78</td>\n",
       "      <td>1</td>\n",
       "      <td>0</td>\n",
       "      <td>0</td>\n",
       "      <td>0</td>\n",
       "    </tr>\n",
       "    <tr>\n",
       "      <th>1</th>\n",
       "      <td>nahid</td>\n",
       "      <td>Comilla</td>\n",
       "      <td>98</td>\n",
       "      <td>0</td>\n",
       "      <td>1</td>\n",
       "      <td>0</td>\n",
       "      <td>0</td>\n",
       "    </tr>\n",
       "    <tr>\n",
       "      <th>2</th>\n",
       "      <td>mim</td>\n",
       "      <td>Sylet</td>\n",
       "      <td>80</td>\n",
       "      <td>0</td>\n",
       "      <td>0</td>\n",
       "      <td>1</td>\n",
       "      <td>0</td>\n",
       "    </tr>\n",
       "    <tr>\n",
       "      <th>3</th>\n",
       "      <td>fatema</td>\n",
       "      <td>Khulna</td>\n",
       "      <td>86</td>\n",
       "      <td>0</td>\n",
       "      <td>0</td>\n",
       "      <td>0</td>\n",
       "      <td>1</td>\n",
       "    </tr>\n",
       "  </tbody>\n",
       "</table>\n",
       "</div>"
      ],
      "text/plain": [
       "  students     city marks  Dhaka  Comilla  Sylet  Khulna\n",
       "0   alamin    Dhaka    78      1        0      0       0\n",
       "1    nahid  Comilla    98      0        1      0       0\n",
       "2      mim    Sylet    80      0        0      1       0\n",
       "3   fatema   Khulna    86      0        0      0       1"
      ]
     },
     "execution_count": 28,
     "metadata": {},
     "output_type": "execute_result"
    }
   ],
   "source": [
    "df2"
   ]
  },
  {
   "cell_type": "markdown",
   "id": "cbe980e0-64fb-4ec4-9d5e-781cb7f4fb38",
   "metadata": {},
   "source": [
    "## Find a Given List is Duplicate or not"
   ]
  },
  {
   "cell_type": "code",
   "execution_count": 29,
   "id": "9eefa3b7-b48e-4450-b7e3-927e90d0b5b3",
   "metadata": {},
   "outputs": [],
   "source": [
    "# here list_data:list means we pass a list as a parameter and -> bool means this function will return a bool object\n",
    "\n",
    "\n",
    "def list_duplicate_or_not(list_data:list) -> bool:\n",
    "    if len(list_data) == len(set(list_data)):\n",
    "        print(\"List is not duplicated\")\n",
    "        return True\n",
    "    else:\n",
    "        print(\"List is duplicated\")\n",
    "        return False"
   ]
  },
  {
   "cell_type": "code",
   "execution_count": 30,
   "id": "b6696b33-7fca-42b3-bfc6-87fb8c32e9a0",
   "metadata": {},
   "outputs": [
    {
     "name": "stdout",
     "output_type": "stream",
     "text": [
      "List is not duplicated\n"
     ]
    },
    {
     "data": {
      "text/plain": [
       "True"
      ]
     },
     "execution_count": 30,
     "metadata": {},
     "output_type": "execute_result"
    }
   ],
   "source": [
    "list_duplicate_or_not([1,2,3])"
   ]
  },
  {
   "cell_type": "code",
   "execution_count": 31,
   "id": "d2633c8d-a296-4584-b4c4-88553366f896",
   "metadata": {},
   "outputs": [
    {
     "name": "stdout",
     "output_type": "stream",
     "text": [
      "List is duplicated\n"
     ]
    },
    {
     "data": {
      "text/plain": [
       "False"
      ]
     },
     "execution_count": 31,
     "metadata": {},
     "output_type": "execute_result"
    }
   ],
   "source": [
    "list_duplicate_or_not([1,2,3,3,2])"
   ]
  },
  {
   "cell_type": "code",
   "execution_count": 32,
   "id": "420f7663-f5ca-425d-91b6-0e9a561ed002",
   "metadata": {},
   "outputs": [
    {
     "name": "stdout",
     "output_type": "stream",
     "text": [
      "List is not duplicated\n"
     ]
    },
    {
     "data": {
      "text/plain": [
       "True"
      ]
     },
     "execution_count": 32,
     "metadata": {},
     "output_type": "execute_result"
    }
   ],
   "source": [
    "list_duplicate_or_not([1,2,'a','b','B','c'])"
   ]
  },
  {
   "cell_type": "code",
   "execution_count": 33,
   "id": "8b309748-2e68-49d0-b1d0-0d352ee2d5b5",
   "metadata": {},
   "outputs": [
    {
     "name": "stdout",
     "output_type": "stream",
     "text": [
      "List is duplicated\n"
     ]
    },
    {
     "data": {
      "text/plain": [
       "False"
      ]
     },
     "execution_count": 33,
     "metadata": {},
     "output_type": "execute_result"
    }
   ],
   "source": [
    "list_duplicate_or_not([1,2,'a','b','B','B'])"
   ]
  },
  {
   "cell_type": "code",
   "execution_count": 34,
   "id": "5c57374b-e942-4a8f-a0fb-64f228dbf097",
   "metadata": {},
   "outputs": [
    {
     "name": "stdout",
     "output_type": "stream",
     "text": [
      "List is duplicated\n"
     ]
    },
    {
     "data": {
      "text/plain": [
       "False"
      ]
     },
     "execution_count": 34,
     "metadata": {},
     "output_type": "execute_result"
    }
   ],
   "source": [
    "list_duplicate_or_not([' ', '',' '])"
   ]
  },
  {
   "cell_type": "code",
   "execution_count": 35,
   "id": "880fc85d-9d1b-449a-b9cc-60a8906c132b",
   "metadata": {},
   "outputs": [
    {
     "name": "stdout",
     "output_type": "stream",
     "text": [
      "List is not duplicated\n"
     ]
    },
    {
     "data": {
      "text/plain": [
       "True"
      ]
     },
     "execution_count": 35,
     "metadata": {},
     "output_type": "execute_result"
    }
   ],
   "source": [
    "list_duplicate_or_not([' ', '',])"
   ]
  },
  {
   "cell_type": "code",
   "execution_count": null,
   "id": "c4219f3d-502e-4b4c-b462-4371815fca4b",
   "metadata": {},
   "outputs": [],
   "source": []
  }
 ],
 "metadata": {
  "kernelspec": {
   "display_name": "Python 3 (ipykernel)",
   "language": "python",
   "name": "python3"
  },
  "language_info": {
   "codemirror_mode": {
    "name": "ipython",
    "version": 3
   },
   "file_extension": ".py",
   "mimetype": "text/x-python",
   "name": "python",
   "nbconvert_exporter": "python",
   "pygments_lexer": "ipython3",
   "version": "3.10.4"
  }
 },
 "nbformat": 4,
 "nbformat_minor": 5
}
