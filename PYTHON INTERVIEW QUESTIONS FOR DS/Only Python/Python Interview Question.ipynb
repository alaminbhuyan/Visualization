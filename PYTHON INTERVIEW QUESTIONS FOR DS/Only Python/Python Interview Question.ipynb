{
 "cells": [
  {
   "cell_type": "markdown",
   "id": "322bdb39",
   "metadata": {},
   "source": [
    "## print the surname from the full name"
   ]
  },
  {
   "cell_type": "code",
   "execution_count": 2,
   "id": "15e2e167",
   "metadata": {},
   "outputs": [
    {
     "data": {
      "text/plain": [
       "['Narendra_Modi', 'Rahul_Gandhi ', 'Arvind_Kejrival']"
      ]
     },
     "execution_count": 2,
     "metadata": {},
     "output_type": "execute_result"
    }
   ],
   "source": [
    "lis = [\"Narendra_Modi\", \"Rahul_Gandhi \", \"Arvind_Kejrival\"]\n",
    "\n",
    "lis"
   ]
  },
  {
   "cell_type": "code",
   "execution_count": 3,
   "id": "be88313f",
   "metadata": {},
   "outputs": [],
   "source": [
    "results = []\n",
    "\n",
    "for surname in lis:\n",
    "    results.append(surname.split(\"_\")[-1].strip())\n",
    "    "
   ]
  },
  {
   "cell_type": "code",
   "execution_count": 4,
   "id": "20286f80",
   "metadata": {},
   "outputs": [
    {
     "data": {
      "text/plain": [
       "['Modi', 'Gandhi', 'Kejrival']"
      ]
     },
     "execution_count": 4,
     "metadata": {},
     "output_type": "execute_result"
    }
   ],
   "source": [
    "results"
   ]
  },
  {
   "cell_type": "code",
   "execution_count": 5,
   "id": "3866a3db",
   "metadata": {},
   "outputs": [
    {
     "data": {
      "text/plain": [
       "['Modi', 'Gandhi', 'Kejrival']"
      ]
     },
     "execution_count": 5,
     "metadata": {},
     "output_type": "execute_result"
    }
   ],
   "source": [
    "# Using list comprehension\n",
    "\n",
    "results2 = [surname.split(\"_\")[-1].strip() for surname in lis]\n",
    "\n",
    "results2"
   ]
  },
  {
   "cell_type": "code",
   "execution_count": null,
   "id": "ef463162",
   "metadata": {},
   "outputs": [],
   "source": []
  }
 ],
 "metadata": {
  "kernelspec": {
   "display_name": "Python 3 (ipykernel)",
   "language": "python",
   "name": "python3"
  },
  "language_info": {
   "codemirror_mode": {
    "name": "ipython",
    "version": 3
   },
   "file_extension": ".py",
   "mimetype": "text/x-python",
   "name": "python",
   "nbconvert_exporter": "python",
   "pygments_lexer": "ipython3",
   "version": "3.10.4"
  }
 },
 "nbformat": 4,
 "nbformat_minor": 5
}
