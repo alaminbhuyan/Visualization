{
 "cells": [
  {
   "cell_type": "markdown",
   "id": "765e44cd-233e-4f25-ac7b-84d4a78f5186",
   "metadata": {},
   "source": [
    "# Compare Multiple Frequency Distributions to Extract Valuable Information from a Dataset"
   ]
  },
  {
   "cell_type": "code",
   "execution_count": 1,
   "id": "1ef7d835-0227-42bd-9592-21ff94e89633",
   "metadata": {},
   "outputs": [],
   "source": [
    "# Import the necessary libraries\n",
    "import numpy as np\n",
    "import pandas as pd\n",
    "import seaborn as sns\n",
    "import matplotlib.pyplot as plt"
   ]
  },
  {
   "cell_type": "markdown",
   "id": "48848b86-0132-4eaa-99e8-9ef5f4254078",
   "metadata": {},
   "source": [
    "## Load the datasets"
   ]
  },
  {
   "cell_type": "code",
   "execution_count": 2,
   "id": "6ab241b2-f636-4590-a166-52e27ddb3b11",
   "metadata": {},
   "outputs": [],
   "source": [
    "# Women’s National Basketball Association (WNBA)\n",
    "df = pd.read_csv(\"DataSet/wnba.csv\")"
   ]
  },
  {
   "cell_type": "code",
   "execution_count": 3,
   "id": "0e2837e0-7ae8-415c-b3fc-5e389161151e",
   "metadata": {},
   "outputs": [
    {
     "data": {
      "text/html": [
       "<div>\n",
       "<style scoped>\n",
       "    .dataframe tbody tr th:only-of-type {\n",
       "        vertical-align: middle;\n",
       "    }\n",
       "\n",
       "    .dataframe tbody tr th {\n",
       "        vertical-align: top;\n",
       "    }\n",
       "\n",
       "    .dataframe thead th {\n",
       "        text-align: right;\n",
       "    }\n",
       "</style>\n",
       "<table border=\"1\" class=\"dataframe\">\n",
       "  <thead>\n",
       "    <tr style=\"text-align: right;\">\n",
       "      <th></th>\n",
       "      <th>Name</th>\n",
       "      <th>Team</th>\n",
       "      <th>Pos</th>\n",
       "      <th>Height</th>\n",
       "      <th>Weight</th>\n",
       "      <th>BMI</th>\n",
       "      <th>Birth_Place</th>\n",
       "      <th>Birthdate</th>\n",
       "      <th>Age</th>\n",
       "      <th>College</th>\n",
       "      <th>...</th>\n",
       "      <th>OREB</th>\n",
       "      <th>DREB</th>\n",
       "      <th>REB</th>\n",
       "      <th>AST</th>\n",
       "      <th>STL</th>\n",
       "      <th>BLK</th>\n",
       "      <th>TO</th>\n",
       "      <th>PTS</th>\n",
       "      <th>DD2</th>\n",
       "      <th>TD3</th>\n",
       "    </tr>\n",
       "  </thead>\n",
       "  <tbody>\n",
       "    <tr>\n",
       "      <th>0</th>\n",
       "      <td>Aerial Powers</td>\n",
       "      <td>DAL</td>\n",
       "      <td>F</td>\n",
       "      <td>183</td>\n",
       "      <td>71.0</td>\n",
       "      <td>21.200991</td>\n",
       "      <td>US</td>\n",
       "      <td>17-Jan-94</td>\n",
       "      <td>23</td>\n",
       "      <td>Michigan State</td>\n",
       "      <td>...</td>\n",
       "      <td>6</td>\n",
       "      <td>22</td>\n",
       "      <td>28</td>\n",
       "      <td>12</td>\n",
       "      <td>3</td>\n",
       "      <td>6</td>\n",
       "      <td>12</td>\n",
       "      <td>93</td>\n",
       "      <td>0</td>\n",
       "      <td>0</td>\n",
       "    </tr>\n",
       "    <tr>\n",
       "      <th>1</th>\n",
       "      <td>Alana Beard</td>\n",
       "      <td>LA</td>\n",
       "      <td>G/F</td>\n",
       "      <td>185</td>\n",
       "      <td>73.0</td>\n",
       "      <td>21.329438</td>\n",
       "      <td>US</td>\n",
       "      <td>14-May-82</td>\n",
       "      <td>35</td>\n",
       "      <td>Duke</td>\n",
       "      <td>...</td>\n",
       "      <td>19</td>\n",
       "      <td>82</td>\n",
       "      <td>101</td>\n",
       "      <td>72</td>\n",
       "      <td>63</td>\n",
       "      <td>13</td>\n",
       "      <td>40</td>\n",
       "      <td>217</td>\n",
       "      <td>0</td>\n",
       "      <td>0</td>\n",
       "    </tr>\n",
       "    <tr>\n",
       "      <th>2</th>\n",
       "      <td>Alex Bentley</td>\n",
       "      <td>CON</td>\n",
       "      <td>G</td>\n",
       "      <td>170</td>\n",
       "      <td>69.0</td>\n",
       "      <td>23.875433</td>\n",
       "      <td>US</td>\n",
       "      <td>27-Oct-90</td>\n",
       "      <td>26</td>\n",
       "      <td>Penn State</td>\n",
       "      <td>...</td>\n",
       "      <td>4</td>\n",
       "      <td>36</td>\n",
       "      <td>40</td>\n",
       "      <td>78</td>\n",
       "      <td>22</td>\n",
       "      <td>3</td>\n",
       "      <td>24</td>\n",
       "      <td>218</td>\n",
       "      <td>0</td>\n",
       "      <td>0</td>\n",
       "    </tr>\n",
       "    <tr>\n",
       "      <th>3</th>\n",
       "      <td>Alex Montgomery</td>\n",
       "      <td>SAN</td>\n",
       "      <td>G/F</td>\n",
       "      <td>185</td>\n",
       "      <td>84.0</td>\n",
       "      <td>24.543462</td>\n",
       "      <td>US</td>\n",
       "      <td>11-Dec-88</td>\n",
       "      <td>28</td>\n",
       "      <td>Georgia Tech</td>\n",
       "      <td>...</td>\n",
       "      <td>35</td>\n",
       "      <td>134</td>\n",
       "      <td>169</td>\n",
       "      <td>65</td>\n",
       "      <td>20</td>\n",
       "      <td>10</td>\n",
       "      <td>38</td>\n",
       "      <td>188</td>\n",
       "      <td>2</td>\n",
       "      <td>0</td>\n",
       "    </tr>\n",
       "    <tr>\n",
       "      <th>4</th>\n",
       "      <td>Alexis Jones</td>\n",
       "      <td>MIN</td>\n",
       "      <td>G</td>\n",
       "      <td>175</td>\n",
       "      <td>78.0</td>\n",
       "      <td>25.469388</td>\n",
       "      <td>US</td>\n",
       "      <td>5-Aug-94</td>\n",
       "      <td>23</td>\n",
       "      <td>Baylor</td>\n",
       "      <td>...</td>\n",
       "      <td>3</td>\n",
       "      <td>9</td>\n",
       "      <td>12</td>\n",
       "      <td>12</td>\n",
       "      <td>7</td>\n",
       "      <td>0</td>\n",
       "      <td>14</td>\n",
       "      <td>50</td>\n",
       "      <td>0</td>\n",
       "      <td>0</td>\n",
       "    </tr>\n",
       "  </tbody>\n",
       "</table>\n",
       "<p>5 rows × 32 columns</p>\n",
       "</div>"
      ],
      "text/plain": [
       "              Name Team  Pos  Height  Weight        BMI Birth_Place  \\\n",
       "0    Aerial Powers  DAL    F     183    71.0  21.200991          US   \n",
       "1      Alana Beard   LA  G/F     185    73.0  21.329438          US   \n",
       "2     Alex Bentley  CON    G     170    69.0  23.875433          US   \n",
       "3  Alex Montgomery  SAN  G/F     185    84.0  24.543462          US   \n",
       "4     Alexis Jones  MIN    G     175    78.0  25.469388          US   \n",
       "\n",
       "   Birthdate  Age         College  ... OREB  DREB  REB  AST  STL  BLK  TO  \\\n",
       "0  17-Jan-94   23  Michigan State  ...    6    22   28   12    3    6  12   \n",
       "1  14-May-82   35            Duke  ...   19    82  101   72   63   13  40   \n",
       "2  27-Oct-90   26      Penn State  ...    4    36   40   78   22    3  24   \n",
       "3  11-Dec-88   28    Georgia Tech  ...   35   134  169   65   20   10  38   \n",
       "4   5-Aug-94   23          Baylor  ...    3     9   12   12    7    0  14   \n",
       "\n",
       "   PTS  DD2  TD3  \n",
       "0   93    0    0  \n",
       "1  217    0    0  \n",
       "2  218    0    0  \n",
       "3  188    2    0  \n",
       "4   50    0    0  \n",
       "\n",
       "[5 rows x 32 columns]"
      ]
     },
     "execution_count": 3,
     "metadata": {},
     "output_type": "execute_result"
    }
   ],
   "source": [
    "df.head()"
   ]
  },
  {
   "cell_type": "code",
   "execution_count": 4,
   "id": "ac693be6-9781-4940-82b0-1ed3b05209c9",
   "metadata": {},
   "outputs": [
    {
     "data": {
      "text/plain": [
       "(143, 32)"
      ]
     },
     "execution_count": 4,
     "metadata": {},
     "output_type": "execute_result"
    }
   ],
   "source": [
    "# Check the shape\n",
    "df.shape"
   ]
  },
  {
   "cell_type": "code",
   "execution_count": 5,
   "id": "2f2d6cfb-6839-4bdb-8ff4-905c12a5e22a",
   "metadata": {},
   "outputs": [
    {
     "name": "stdout",
     "output_type": "stream",
     "text": [
      "<class 'pandas.core.frame.DataFrame'>\n",
      "RangeIndex: 143 entries, 0 to 142\n",
      "Data columns (total 32 columns):\n",
      " #   Column        Non-Null Count  Dtype  \n",
      "---  ------        --------------  -----  \n",
      " 0   Name          143 non-null    object \n",
      " 1   Team          143 non-null    object \n",
      " 2   Pos           143 non-null    object \n",
      " 3   Height        143 non-null    int64  \n",
      " 4   Weight        142 non-null    float64\n",
      " 5   BMI           142 non-null    float64\n",
      " 6   Birth_Place   143 non-null    object \n",
      " 7   Birthdate     143 non-null    object \n",
      " 8   Age           143 non-null    int64  \n",
      " 9   College       143 non-null    object \n",
      " 10  Experience    143 non-null    object \n",
      " 11  Games Played  143 non-null    int64  \n",
      " 12  MIN           143 non-null    int64  \n",
      " 13  FGM           143 non-null    int64  \n",
      " 14  FGA           143 non-null    int64  \n",
      " 15  FG%           143 non-null    float64\n",
      " 16  15:00         143 non-null    int64  \n",
      " 17  3PA           143 non-null    int64  \n",
      " 18  3P%           143 non-null    float64\n",
      " 19  FTM           143 non-null    int64  \n",
      " 20  FTA           143 non-null    int64  \n",
      " 21  FT%           143 non-null    float64\n",
      " 22  OREB          143 non-null    int64  \n",
      " 23  DREB          143 non-null    int64  \n",
      " 24  REB           143 non-null    int64  \n",
      " 25  AST           143 non-null    int64  \n",
      " 26  STL           143 non-null    int64  \n",
      " 27  BLK           143 non-null    int64  \n",
      " 28  TO            143 non-null    int64  \n",
      " 29  PTS           143 non-null    int64  \n",
      " 30  DD2           143 non-null    int64  \n",
      " 31  TD3           143 non-null    int64  \n",
      "dtypes: float64(5), int64(20), object(7)\n",
      "memory usage: 35.9+ KB\n"
     ]
    }
   ],
   "source": [
    "df.info()"
   ]
  },
  {
   "cell_type": "code",
   "execution_count": 6,
   "id": "ba9e6a8f-d60c-458c-92f4-3c5e1da3b498",
   "metadata": {},
   "outputs": [
    {
     "data": {
      "text/html": [
       "<div>\n",
       "<style scoped>\n",
       "    .dataframe tbody tr th:only-of-type {\n",
       "        vertical-align: middle;\n",
       "    }\n",
       "\n",
       "    .dataframe tbody tr th {\n",
       "        vertical-align: top;\n",
       "    }\n",
       "\n",
       "    .dataframe thead th {\n",
       "        text-align: right;\n",
       "    }\n",
       "</style>\n",
       "<table border=\"1\" class=\"dataframe\">\n",
       "  <thead>\n",
       "    <tr style=\"text-align: right;\">\n",
       "      <th></th>\n",
       "      <th>Height</th>\n",
       "      <th>Weight</th>\n",
       "      <th>BMI</th>\n",
       "      <th>Age</th>\n",
       "      <th>Games Played</th>\n",
       "      <th>MIN</th>\n",
       "      <th>FGM</th>\n",
       "      <th>FGA</th>\n",
       "      <th>FG%</th>\n",
       "      <th>15:00</th>\n",
       "      <th>...</th>\n",
       "      <th>OREB</th>\n",
       "      <th>DREB</th>\n",
       "      <th>REB</th>\n",
       "      <th>AST</th>\n",
       "      <th>STL</th>\n",
       "      <th>BLK</th>\n",
       "      <th>TO</th>\n",
       "      <th>PTS</th>\n",
       "      <th>DD2</th>\n",
       "      <th>TD3</th>\n",
       "    </tr>\n",
       "  </thead>\n",
       "  <tbody>\n",
       "    <tr>\n",
       "      <th>count</th>\n",
       "      <td>143.000000</td>\n",
       "      <td>142.000000</td>\n",
       "      <td>142.000000</td>\n",
       "      <td>143.000000</td>\n",
       "      <td>143.000000</td>\n",
       "      <td>143.000000</td>\n",
       "      <td>143.000000</td>\n",
       "      <td>143.000000</td>\n",
       "      <td>143.000000</td>\n",
       "      <td>143.000000</td>\n",
       "      <td>...</td>\n",
       "      <td>143.000000</td>\n",
       "      <td>143.000000</td>\n",
       "      <td>143.000000</td>\n",
       "      <td>143.000000</td>\n",
       "      <td>143.000000</td>\n",
       "      <td>143.000000</td>\n",
       "      <td>143.000000</td>\n",
       "      <td>143.000000</td>\n",
       "      <td>143.000000</td>\n",
       "      <td>143.000000</td>\n",
       "    </tr>\n",
       "    <tr>\n",
       "      <th>mean</th>\n",
       "      <td>184.566434</td>\n",
       "      <td>78.978873</td>\n",
       "      <td>23.091214</td>\n",
       "      <td>27.076923</td>\n",
       "      <td>24.356643</td>\n",
       "      <td>496.972028</td>\n",
       "      <td>73.895105</td>\n",
       "      <td>167.622378</td>\n",
       "      <td>42.901399</td>\n",
       "      <td>14.727273</td>\n",
       "      <td>...</td>\n",
       "      <td>21.923077</td>\n",
       "      <td>61.160839</td>\n",
       "      <td>83.083916</td>\n",
       "      <td>44.230769</td>\n",
       "      <td>17.608392</td>\n",
       "      <td>9.713287</td>\n",
       "      <td>32.090909</td>\n",
       "      <td>201.790210</td>\n",
       "      <td>1.132867</td>\n",
       "      <td>0.006993</td>\n",
       "    </tr>\n",
       "    <tr>\n",
       "      <th>std</th>\n",
       "      <td>8.685068</td>\n",
       "      <td>10.996110</td>\n",
       "      <td>2.073691</td>\n",
       "      <td>3.679170</td>\n",
       "      <td>7.104259</td>\n",
       "      <td>290.777320</td>\n",
       "      <td>56.110895</td>\n",
       "      <td>117.467095</td>\n",
       "      <td>10.111498</td>\n",
       "      <td>17.355919</td>\n",
       "      <td>...</td>\n",
       "      <td>21.509276</td>\n",
       "      <td>49.761919</td>\n",
       "      <td>68.302197</td>\n",
       "      <td>41.483017</td>\n",
       "      <td>13.438978</td>\n",
       "      <td>12.520193</td>\n",
       "      <td>21.502017</td>\n",
       "      <td>153.381548</td>\n",
       "      <td>2.900310</td>\n",
       "      <td>0.083624</td>\n",
       "    </tr>\n",
       "    <tr>\n",
       "      <th>min</th>\n",
       "      <td>165.000000</td>\n",
       "      <td>55.000000</td>\n",
       "      <td>18.390675</td>\n",
       "      <td>21.000000</td>\n",
       "      <td>2.000000</td>\n",
       "      <td>12.000000</td>\n",
       "      <td>1.000000</td>\n",
       "      <td>3.000000</td>\n",
       "      <td>14.300000</td>\n",
       "      <td>0.000000</td>\n",
       "      <td>...</td>\n",
       "      <td>0.000000</td>\n",
       "      <td>0.000000</td>\n",
       "      <td>2.000000</td>\n",
       "      <td>0.000000</td>\n",
       "      <td>0.000000</td>\n",
       "      <td>0.000000</td>\n",
       "      <td>2.000000</td>\n",
       "      <td>2.000000</td>\n",
       "      <td>0.000000</td>\n",
       "      <td>0.000000</td>\n",
       "    </tr>\n",
       "    <tr>\n",
       "      <th>25%</th>\n",
       "      <td>176.500000</td>\n",
       "      <td>71.500000</td>\n",
       "      <td>21.785876</td>\n",
       "      <td>24.000000</td>\n",
       "      <td>22.000000</td>\n",
       "      <td>240.000000</td>\n",
       "      <td>26.000000</td>\n",
       "      <td>66.000000</td>\n",
       "      <td>36.950000</td>\n",
       "      <td>0.000000</td>\n",
       "      <td>...</td>\n",
       "      <td>7.000000</td>\n",
       "      <td>25.500000</td>\n",
       "      <td>34.000000</td>\n",
       "      <td>11.000000</td>\n",
       "      <td>7.000000</td>\n",
       "      <td>2.000000</td>\n",
       "      <td>13.500000</td>\n",
       "      <td>75.000000</td>\n",
       "      <td>0.000000</td>\n",
       "      <td>0.000000</td>\n",
       "    </tr>\n",
       "    <tr>\n",
       "      <th>50%</th>\n",
       "      <td>185.000000</td>\n",
       "      <td>79.000000</td>\n",
       "      <td>22.873314</td>\n",
       "      <td>27.000000</td>\n",
       "      <td>27.000000</td>\n",
       "      <td>504.000000</td>\n",
       "      <td>69.000000</td>\n",
       "      <td>152.000000</td>\n",
       "      <td>42.000000</td>\n",
       "      <td>10.000000</td>\n",
       "      <td>...</td>\n",
       "      <td>13.000000</td>\n",
       "      <td>50.000000</td>\n",
       "      <td>62.000000</td>\n",
       "      <td>33.000000</td>\n",
       "      <td>15.000000</td>\n",
       "      <td>5.000000</td>\n",
       "      <td>28.000000</td>\n",
       "      <td>177.000000</td>\n",
       "      <td>0.000000</td>\n",
       "      <td>0.000000</td>\n",
       "    </tr>\n",
       "    <tr>\n",
       "      <th>75%</th>\n",
       "      <td>191.000000</td>\n",
       "      <td>86.000000</td>\n",
       "      <td>24.180715</td>\n",
       "      <td>30.000000</td>\n",
       "      <td>29.000000</td>\n",
       "      <td>750.000000</td>\n",
       "      <td>105.000000</td>\n",
       "      <td>244.500000</td>\n",
       "      <td>48.550000</td>\n",
       "      <td>22.000000</td>\n",
       "      <td>...</td>\n",
       "      <td>31.000000</td>\n",
       "      <td>84.000000</td>\n",
       "      <td>116.000000</td>\n",
       "      <td>66.500000</td>\n",
       "      <td>27.000000</td>\n",
       "      <td>12.000000</td>\n",
       "      <td>48.000000</td>\n",
       "      <td>277.500000</td>\n",
       "      <td>1.000000</td>\n",
       "      <td>0.000000</td>\n",
       "    </tr>\n",
       "    <tr>\n",
       "      <th>max</th>\n",
       "      <td>206.000000</td>\n",
       "      <td>113.000000</td>\n",
       "      <td>31.555880</td>\n",
       "      <td>36.000000</td>\n",
       "      <td>32.000000</td>\n",
       "      <td>1018.000000</td>\n",
       "      <td>227.000000</td>\n",
       "      <td>509.000000</td>\n",
       "      <td>100.000000</td>\n",
       "      <td>88.000000</td>\n",
       "      <td>...</td>\n",
       "      <td>113.000000</td>\n",
       "      <td>226.000000</td>\n",
       "      <td>334.000000</td>\n",
       "      <td>206.000000</td>\n",
       "      <td>63.000000</td>\n",
       "      <td>64.000000</td>\n",
       "      <td>87.000000</td>\n",
       "      <td>584.000000</td>\n",
       "      <td>17.000000</td>\n",
       "      <td>1.000000</td>\n",
       "    </tr>\n",
       "  </tbody>\n",
       "</table>\n",
       "<p>8 rows × 25 columns</p>\n",
       "</div>"
      ],
      "text/plain": [
       "           Height      Weight         BMI         Age  Games Played  \\\n",
       "count  143.000000  142.000000  142.000000  143.000000    143.000000   \n",
       "mean   184.566434   78.978873   23.091214   27.076923     24.356643   \n",
       "std      8.685068   10.996110    2.073691    3.679170      7.104259   \n",
       "min    165.000000   55.000000   18.390675   21.000000      2.000000   \n",
       "25%    176.500000   71.500000   21.785876   24.000000     22.000000   \n",
       "50%    185.000000   79.000000   22.873314   27.000000     27.000000   \n",
       "75%    191.000000   86.000000   24.180715   30.000000     29.000000   \n",
       "max    206.000000  113.000000   31.555880   36.000000     32.000000   \n",
       "\n",
       "               MIN         FGM         FGA         FG%       15:00  ...  \\\n",
       "count   143.000000  143.000000  143.000000  143.000000  143.000000  ...   \n",
       "mean    496.972028   73.895105  167.622378   42.901399   14.727273  ...   \n",
       "std     290.777320   56.110895  117.467095   10.111498   17.355919  ...   \n",
       "min      12.000000    1.000000    3.000000   14.300000    0.000000  ...   \n",
       "25%     240.000000   26.000000   66.000000   36.950000    0.000000  ...   \n",
       "50%     504.000000   69.000000  152.000000   42.000000   10.000000  ...   \n",
       "75%     750.000000  105.000000  244.500000   48.550000   22.000000  ...   \n",
       "max    1018.000000  227.000000  509.000000  100.000000   88.000000  ...   \n",
       "\n",
       "             OREB        DREB         REB         AST         STL         BLK  \\\n",
       "count  143.000000  143.000000  143.000000  143.000000  143.000000  143.000000   \n",
       "mean    21.923077   61.160839   83.083916   44.230769   17.608392    9.713287   \n",
       "std     21.509276   49.761919   68.302197   41.483017   13.438978   12.520193   \n",
       "min      0.000000    0.000000    2.000000    0.000000    0.000000    0.000000   \n",
       "25%      7.000000   25.500000   34.000000   11.000000    7.000000    2.000000   \n",
       "50%     13.000000   50.000000   62.000000   33.000000   15.000000    5.000000   \n",
       "75%     31.000000   84.000000  116.000000   66.500000   27.000000   12.000000   \n",
       "max    113.000000  226.000000  334.000000  206.000000   63.000000   64.000000   \n",
       "\n",
       "               TO         PTS         DD2         TD3  \n",
       "count  143.000000  143.000000  143.000000  143.000000  \n",
       "mean    32.090909  201.790210    1.132867    0.006993  \n",
       "std     21.502017  153.381548    2.900310    0.083624  \n",
       "min      2.000000    2.000000    0.000000    0.000000  \n",
       "25%     13.500000   75.000000    0.000000    0.000000  \n",
       "50%     28.000000  177.000000    0.000000    0.000000  \n",
       "75%     48.000000  277.500000    1.000000    0.000000  \n",
       "max     87.000000  584.000000   17.000000    1.000000  \n",
       "\n",
       "[8 rows x 25 columns]"
      ]
     },
     "execution_count": 6,
     "metadata": {},
     "output_type": "execute_result"
    }
   ],
   "source": [
    "df.describe()"
   ]
  },
  {
   "cell_type": "code",
   "execution_count": 7,
   "id": "01b59999-2141-4321-a85a-895c6efc739b",
   "metadata": {},
   "outputs": [
    {
     "data": {
      "text/plain": [
       "Name            0\n",
       "Team            0\n",
       "Pos             0\n",
       "Height          0\n",
       "Weight          1\n",
       "BMI             1\n",
       "Birth_Place     0\n",
       "Birthdate       0\n",
       "Age             0\n",
       "College         0\n",
       "Experience      0\n",
       "Games Played    0\n",
       "MIN             0\n",
       "FGM             0\n",
       "FGA             0\n",
       "FG%             0\n",
       "15:00           0\n",
       "3PA             0\n",
       "3P%             0\n",
       "FTM             0\n",
       "FTA             0\n",
       "FT%             0\n",
       "OREB            0\n",
       "DREB            0\n",
       "REB             0\n",
       "AST             0\n",
       "STL             0\n",
       "BLK             0\n",
       "TO              0\n",
       "PTS             0\n",
       "DD2             0\n",
       "TD3             0\n",
       "dtype: int64"
      ]
     },
     "execution_count": 7,
     "metadata": {},
     "output_type": "execute_result"
    }
   ],
   "source": [
    "df.isnull().sum()"
   ]
  },
  {
   "cell_type": "code",
   "execution_count": 8,
   "id": "9a233bc5-761d-47a1-9008-3d9ade7c0aa9",
   "metadata": {},
   "outputs": [
    {
     "data": {
      "text/plain": [
       "True"
      ]
     },
     "execution_count": 8,
     "metadata": {},
     "output_type": "execute_result"
    }
   ],
   "source": [
    "df.isnull().sum().any()"
   ]
  },
  {
   "cell_type": "markdown",
   "id": "7bed1927-e36c-483a-adf4-4e2e7bf8b211",
   "metadata": {},
   "source": [
    "#### At first, we try to represent the experience column into Exper_ordianl column which variable measured in ordinal scale. In the below table, we try to describe the level of experience of players according to the following labeling convention:"
   ]
  },
  {
   "cell_type": "code",
   "execution_count": 9,
   "id": "32c51d1c-d57d-4d61-a4eb-48d30dfb0aa7",
   "metadata": {},
   "outputs": [
    {
     "data": {
      "text/plain": [
       "Index(['Name', 'Team', 'Pos', 'Height', 'Weight', 'BMI', 'Birth_Place',\n",
       "       'Birthdate', 'Age', 'College', 'Experience', 'Games Played', 'MIN',\n",
       "       'FGM', 'FGA', 'FG%', '15:00', '3PA', '3P%', 'FTM', 'FTA', 'FT%', 'OREB',\n",
       "       'DREB', 'REB', 'AST', 'STL', 'BLK', 'TO', 'PTS', 'DD2', 'TD3'],\n",
       "      dtype='object')"
      ]
     },
     "execution_count": 9,
     "metadata": {},
     "output_type": "execute_result"
    }
   ],
   "source": [
    "df.columns"
   ]
  },
  {
   "cell_type": "code",
   "execution_count": 10,
   "id": "c68ea74c-6dfe-4580-9a98-67aac4c82a21",
   "metadata": {},
   "outputs": [
    {
     "data": {
      "text/plain": [
       "R     23\n",
       "3     19\n",
       "6     14\n",
       "5     14\n",
       "1     12\n",
       "2     11\n",
       "4     11\n",
       "9     11\n",
       "10     5\n",
       "12     4\n",
       "11     4\n",
       "7      4\n",
       "8      3\n",
       "13     3\n",
       "14     3\n",
       "15     2\n",
       "Name: Experience, dtype: int64"
      ]
     },
     "execution_count": 10,
     "metadata": {},
     "output_type": "execute_result"
    }
   ],
   "source": [
    "df.Experience.value_counts()"
   ]
  },
  {
   "cell_type": "code",
   "execution_count": 11,
   "id": "c814611f-0cfe-45e6-a683-ee20e2a7bce4",
   "metadata": {},
   "outputs": [
    {
     "data": {
      "text/html": [
       "<div>\n",
       "<style scoped>\n",
       "    .dataframe tbody tr th:only-of-type {\n",
       "        vertical-align: middle;\n",
       "    }\n",
       "\n",
       "    .dataframe tbody tr th {\n",
       "        vertical-align: top;\n",
       "    }\n",
       "\n",
       "    .dataframe thead th {\n",
       "        text-align: right;\n",
       "    }\n",
       "</style>\n",
       "<table border=\"1\" class=\"dataframe\">\n",
       "  <thead>\n",
       "    <tr style=\"text-align: right;\">\n",
       "      <th></th>\n",
       "      <th>Experience</th>\n",
       "    </tr>\n",
       "  </thead>\n",
       "  <tbody>\n",
       "    <tr>\n",
       "      <th>0</th>\n",
       "      <td>2</td>\n",
       "    </tr>\n",
       "    <tr>\n",
       "      <th>1</th>\n",
       "      <td>12</td>\n",
       "    </tr>\n",
       "    <tr>\n",
       "      <th>2</th>\n",
       "      <td>4</td>\n",
       "    </tr>\n",
       "    <tr>\n",
       "      <th>3</th>\n",
       "      <td>6</td>\n",
       "    </tr>\n",
       "    <tr>\n",
       "      <th>4</th>\n",
       "      <td>R</td>\n",
       "    </tr>\n",
       "    <tr>\n",
       "      <th>...</th>\n",
       "      <td>...</td>\n",
       "    </tr>\n",
       "    <tr>\n",
       "      <th>138</th>\n",
       "      <td>6</td>\n",
       "    </tr>\n",
       "    <tr>\n",
       "      <th>139</th>\n",
       "      <td>9</td>\n",
       "    </tr>\n",
       "    <tr>\n",
       "      <th>140</th>\n",
       "      <td>2</td>\n",
       "    </tr>\n",
       "    <tr>\n",
       "      <th>141</th>\n",
       "      <td>8</td>\n",
       "    </tr>\n",
       "    <tr>\n",
       "      <th>142</th>\n",
       "      <td>2</td>\n",
       "    </tr>\n",
       "  </tbody>\n",
       "</table>\n",
       "<p>143 rows × 1 columns</p>\n",
       "</div>"
      ],
      "text/plain": [
       "    Experience\n",
       "0            2\n",
       "1           12\n",
       "2            4\n",
       "3            6\n",
       "4            R\n",
       "..         ...\n",
       "138          6\n",
       "139          9\n",
       "140          2\n",
       "141          8\n",
       "142          2\n",
       "\n",
       "[143 rows x 1 columns]"
      ]
     },
     "execution_count": 11,
     "metadata": {},
     "output_type": "execute_result"
    }
   ],
   "source": [
    "df[[\"Experience\"]]"
   ]
  },
  {
   "cell_type": "code",
   "execution_count": 12,
   "id": "66fda50d-bc26-43a2-884e-c023e0bb150d",
   "metadata": {},
   "outputs": [],
   "source": [
    "#Replace ‘R’ value into zero \n",
    "\n",
    "df.Experience = df.Experience.replace(['R'], 0)"
   ]
  },
  {
   "cell_type": "code",
   "execution_count": 13,
   "id": "612408be-bb2c-4518-8303-76b194020c71",
   "metadata": {},
   "outputs": [
    {
     "data": {
      "text/plain": [
       "0     23\n",
       "3     19\n",
       "6     14\n",
       "5     14\n",
       "1     12\n",
       "2     11\n",
       "4     11\n",
       "9     11\n",
       "10     5\n",
       "12     4\n",
       "11     4\n",
       "7      4\n",
       "8      3\n",
       "13     3\n",
       "14     3\n",
       "15     2\n",
       "Name: Experience, dtype: int64"
      ]
     },
     "execution_count": 13,
     "metadata": {},
     "output_type": "execute_result"
    }
   ],
   "source": [
    "df.Experience.value_counts()"
   ]
  },
  {
   "cell_type": "code",
   "execution_count": 14,
   "id": "d0ab5d3f-8ea3-4d91-a528-845c794c55b5",
   "metadata": {},
   "outputs": [
    {
     "data": {
      "text/plain": [
       "dtype('O')"
      ]
     },
     "execution_count": 14,
     "metadata": {},
     "output_type": "execute_result"
    }
   ],
   "source": [
    "df.Experience.dtype"
   ]
  },
  {
   "cell_type": "code",
   "execution_count": 15,
   "id": "43f64502-a1bb-42fd-a096-135404e02954",
   "metadata": {},
   "outputs": [],
   "source": [
    "#convertion of object data to numeric\n",
    "df.Experience = pd.to_numeric(df[\"Experience\"])"
   ]
  },
  {
   "cell_type": "code",
   "execution_count": 16,
   "id": "f7851cb4-009d-4280-a704-edfe2e2cc6f7",
   "metadata": {},
   "outputs": [
    {
     "data": {
      "text/plain": [
       "dtype('int64')"
      ]
     },
     "execution_count": 16,
     "metadata": {},
     "output_type": "execute_result"
    }
   ],
   "source": [
    "df.Experience.dtypes"
   ]
  },
  {
   "attachments": {
    "Screenshot_1.jpg": {
     "image/jpeg": "[encoded data removed]"
    }
   },
   "cell_type": "markdown",
   "id": "090d28d7",
   "metadata": {},
   "source": [
    "![Screenshot_1.jpg](attachment:Screenshot_1.jpg)"
   ]
  },
  {
   "cell_type": "code",
   "execution_count": 17,
   "id": "e04e4e0c",
   "metadata": {},
   "outputs": [],
   "source": [
    "# Create conditions\n",
    "\n",
    "conditions = [\n",
    "    (df['Experience'] == 0),\n",
    "    (df['Experience'] >= 1) & (df['Experience'] <= 3),\n",
    "    (df['Experience'] >= 4) & (df['Experience'] <= 5),\n",
    "    (df['Experience'] > 5) & (df['Experience'] <= 10),\n",
    "    (df['Experience'] > 10)\n",
    "    ]"
   ]
  },
  {
   "cell_type": "code",
   "execution_count": 18,
   "id": "71738c65",
   "metadata": {},
   "outputs": [],
   "source": [
    "#cpmparing values\n",
    "values = ['Rookie', 'Little experience', 'Experienced', 'Very experienced','Veteran']\n",
    "\n",
    "#create new column with those condition\n",
    "df[\"Exper_ordianl\"] = np.select(conditions, values)"
   ]
  },
  {
   "cell_type": "code",
   "execution_count": 19,
   "id": "a33d582d",
   "metadata": {},
   "outputs": [
    {
     "data": {
      "text/plain": [
       "0    Little experience\n",
       "1              Veteran\n",
       "2          Experienced\n",
       "3     Very experienced\n",
       "4               Rookie\n",
       "5               Rookie\n",
       "6               Rookie\n",
       "7     Very experienced\n",
       "8    Little experience\n",
       "9          Experienced\n",
       "Name: Exper_ordianl, dtype: object"
      ]
     },
     "execution_count": 19,
     "metadata": {},
     "output_type": "execute_result"
    }
   ],
   "source": [
    "df.Exper_ordianl[:10]"
   ]
  },
  {
   "cell_type": "code",
   "execution_count": 20,
   "id": "f665a84c",
   "metadata": {},
   "outputs": [
    {
     "data": {
      "text/html": [
       "<div>\n",
       "<style scoped>\n",
       "    .dataframe tbody tr th:only-of-type {\n",
       "        vertical-align: middle;\n",
       "    }\n",
       "\n",
       "    .dataframe tbody tr th {\n",
       "        vertical-align: top;\n",
       "    }\n",
       "\n",
       "    .dataframe thead th {\n",
       "        text-align: right;\n",
       "    }\n",
       "</style>\n",
       "<table border=\"1\" class=\"dataframe\">\n",
       "  <thead>\n",
       "    <tr style=\"text-align: right;\">\n",
       "      <th></th>\n",
       "      <th>Name</th>\n",
       "      <th>Team</th>\n",
       "      <th>Pos</th>\n",
       "      <th>Height</th>\n",
       "      <th>Weight</th>\n",
       "      <th>BMI</th>\n",
       "      <th>Birth_Place</th>\n",
       "      <th>Birthdate</th>\n",
       "      <th>Age</th>\n",
       "      <th>College</th>\n",
       "      <th>...</th>\n",
       "      <th>DREB</th>\n",
       "      <th>REB</th>\n",
       "      <th>AST</th>\n",
       "      <th>STL</th>\n",
       "      <th>BLK</th>\n",
       "      <th>TO</th>\n",
       "      <th>PTS</th>\n",
       "      <th>DD2</th>\n",
       "      <th>TD3</th>\n",
       "      <th>Exper_ordianl</th>\n",
       "    </tr>\n",
       "  </thead>\n",
       "  <tbody>\n",
       "    <tr>\n",
       "      <th>0</th>\n",
       "      <td>Aerial Powers</td>\n",
       "      <td>DAL</td>\n",
       "      <td>F</td>\n",
       "      <td>183</td>\n",
       "      <td>71.0</td>\n",
       "      <td>21.200991</td>\n",
       "      <td>US</td>\n",
       "      <td>17-Jan-94</td>\n",
       "      <td>23</td>\n",
       "      <td>Michigan State</td>\n",
       "      <td>...</td>\n",
       "      <td>22</td>\n",
       "      <td>28</td>\n",
       "      <td>12</td>\n",
       "      <td>3</td>\n",
       "      <td>6</td>\n",
       "      <td>12</td>\n",
       "      <td>93</td>\n",
       "      <td>0</td>\n",
       "      <td>0</td>\n",
       "      <td>Little experience</td>\n",
       "    </tr>\n",
       "    <tr>\n",
       "      <th>1</th>\n",
       "      <td>Alana Beard</td>\n",
       "      <td>LA</td>\n",
       "      <td>G/F</td>\n",
       "      <td>185</td>\n",
       "      <td>73.0</td>\n",
       "      <td>21.329438</td>\n",
       "      <td>US</td>\n",
       "      <td>14-May-82</td>\n",
       "      <td>35</td>\n",
       "      <td>Duke</td>\n",
       "      <td>...</td>\n",
       "      <td>82</td>\n",
       "      <td>101</td>\n",
       "      <td>72</td>\n",
       "      <td>63</td>\n",
       "      <td>13</td>\n",
       "      <td>40</td>\n",
       "      <td>217</td>\n",
       "      <td>0</td>\n",
       "      <td>0</td>\n",
       "      <td>Veteran</td>\n",
       "    </tr>\n",
       "    <tr>\n",
       "      <th>2</th>\n",
       "      <td>Alex Bentley</td>\n",
       "      <td>CON</td>\n",
       "      <td>G</td>\n",
       "      <td>170</td>\n",
       "      <td>69.0</td>\n",
       "      <td>23.875433</td>\n",
       "      <td>US</td>\n",
       "      <td>27-Oct-90</td>\n",
       "      <td>26</td>\n",
       "      <td>Penn State</td>\n",
       "      <td>...</td>\n",
       "      <td>36</td>\n",
       "      <td>40</td>\n",
       "      <td>78</td>\n",
       "      <td>22</td>\n",
       "      <td>3</td>\n",
       "      <td>24</td>\n",
       "      <td>218</td>\n",
       "      <td>0</td>\n",
       "      <td>0</td>\n",
       "      <td>Experienced</td>\n",
       "    </tr>\n",
       "    <tr>\n",
       "      <th>3</th>\n",
       "      <td>Alex Montgomery</td>\n",
       "      <td>SAN</td>\n",
       "      <td>G/F</td>\n",
       "      <td>185</td>\n",
       "      <td>84.0</td>\n",
       "      <td>24.543462</td>\n",
       "      <td>US</td>\n",
       "      <td>11-Dec-88</td>\n",
       "      <td>28</td>\n",
       "      <td>Georgia Tech</td>\n",
       "      <td>...</td>\n",
       "      <td>134</td>\n",
       "      <td>169</td>\n",
       "      <td>65</td>\n",
       "      <td>20</td>\n",
       "      <td>10</td>\n",
       "      <td>38</td>\n",
       "      <td>188</td>\n",
       "      <td>2</td>\n",
       "      <td>0</td>\n",
       "      <td>Very experienced</td>\n",
       "    </tr>\n",
       "    <tr>\n",
       "      <th>4</th>\n",
       "      <td>Alexis Jones</td>\n",
       "      <td>MIN</td>\n",
       "      <td>G</td>\n",
       "      <td>175</td>\n",
       "      <td>78.0</td>\n",
       "      <td>25.469388</td>\n",
       "      <td>US</td>\n",
       "      <td>5-Aug-94</td>\n",
       "      <td>23</td>\n",
       "      <td>Baylor</td>\n",
       "      <td>...</td>\n",
       "      <td>9</td>\n",
       "      <td>12</td>\n",
       "      <td>12</td>\n",
       "      <td>7</td>\n",
       "      <td>0</td>\n",
       "      <td>14</td>\n",
       "      <td>50</td>\n",
       "      <td>0</td>\n",
       "      <td>0</td>\n",
       "      <td>Rookie</td>\n",
       "    </tr>\n",
       "  </tbody>\n",
       "</table>\n",
       "<p>5 rows × 33 columns</p>\n",
       "</div>"
      ],
      "text/plain": [
       "              Name Team  Pos  Height  Weight        BMI Birth_Place  \\\n",
       "0    Aerial Powers  DAL    F     183    71.0  21.200991          US   \n",
       "1      Alana Beard   LA  G/F     185    73.0  21.329438          US   \n",
       "2     Alex Bentley  CON    G     170    69.0  23.875433          US   \n",
       "3  Alex Montgomery  SAN  G/F     185    84.0  24.543462          US   \n",
       "4     Alexis Jones  MIN    G     175    78.0  25.469388          US   \n",
       "\n",
       "   Birthdate  Age         College  ...  DREB  REB  AST  STL  BLK  TO  PTS  \\\n",
       "0  17-Jan-94   23  Michigan State  ...    22   28   12    3    6  12   93   \n",
       "1  14-May-82   35            Duke  ...    82  101   72   63   13  40  217   \n",
       "2  27-Oct-90   26      Penn State  ...    36   40   78   22    3  24  218   \n",
       "3  11-Dec-88   28    Georgia Tech  ...   134  169   65   20   10  38  188   \n",
       "4   5-Aug-94   23          Baylor  ...     9   12   12    7    0  14   50   \n",
       "\n",
       "   DD2  TD3      Exper_ordianl  \n",
       "0    0    0  Little experience  \n",
       "1    0    0            Veteran  \n",
       "2    0    0        Experienced  \n",
       "3    2    0   Very experienced  \n",
       "4    0    0             Rookie  \n",
       "\n",
       "[5 rows x 33 columns]"
      ]
     },
     "execution_count": 20,
     "metadata": {},
     "output_type": "execute_result"
    }
   ],
   "source": [
    "df.head()"
   ]
  },
  {
   "cell_type": "code",
   "execution_count": 21,
   "id": "a530937a",
   "metadata": {},
   "outputs": [
    {
     "data": {
      "text/plain": [
       "Little experience    42\n",
       "Very experienced     37\n",
       "Experienced          25\n",
       "Rookie               23\n",
       "Veteran              16\n",
       "Name: Exper_ordianl, dtype: int64"
      ]
     },
     "execution_count": 21,
     "metadata": {},
     "output_type": "execute_result"
    }
   ],
   "source": [
    "df.Exper_ordianl.value_counts()"
   ]
  },
  {
   "cell_type": "code",
   "execution_count": 22,
   "id": "6a500a0c",
   "metadata": {},
   "outputs": [
    {
     "data": {
      "text/plain": [
       "G      60\n",
       "F      33\n",
       "C      25\n",
       "G/F    13\n",
       "F/C    12\n",
       "Name: Pos, dtype: int64"
      ]
     },
     "execution_count": 22,
     "metadata": {},
     "output_type": "execute_result"
    }
   ],
   "source": [
    "df.Pos.value_counts()"
   ]
  },
  {
   "cell_type": "code",
   "execution_count": 23,
   "id": "bbaa4fcb",
   "metadata": {},
   "outputs": [
    {
     "data": {
      "text/plain": [
       "Exper_ordianl      Pos\n",
       "Experienced        G       9\n",
       "                   C       6\n",
       "                   F       6\n",
       "                   F/C     2\n",
       "                   G/F     2\n",
       "Little experience  G      14\n",
       "                   F      13\n",
       "                   C       8\n",
       "                   F/C     4\n",
       "                   G/F     3\n",
       "Rookie             G      14\n",
       "                   C       4\n",
       "                   F       4\n",
       "                   F/C     1\n",
       "Very experienced   G      16\n",
       "                   C       6\n",
       "                   F       6\n",
       "                   G/F     5\n",
       "                   F/C     4\n",
       "Veteran            G       7\n",
       "                   F       4\n",
       "                   G/F     3\n",
       "                   C       1\n",
       "                   F/C     1\n",
       "Name: Pos, dtype: int64"
      ]
     },
     "execution_count": 23,
     "metadata": {},
     "output_type": "execute_result"
    }
   ],
   "source": [
    "df.groupby(\"Exper_ordianl\")[\"Pos\"].value_counts()"
   ]
  },
  {
   "cell_type": "markdown",
   "id": "e2cb68ea",
   "metadata": {},
   "source": [
    "#### Now we try to segment the dataset according to the level of experience. Then we generate frequency distribution for each segment of the dataset. Finally, we try to have a comparative analysis of the frequency distribution."
   ]
  },
  {
   "cell_type": "code",
   "execution_count": 24,
   "id": "dc009988",
   "metadata": {},
   "outputs": [
    {
     "name": "stdout",
     "output_type": "stream",
     "text": [
      "G      14\n",
      "C       4\n",
      "F       4\n",
      "F/C     1\n",
      "Name: Pos, dtype: int64 \n",
      "\n",
      " G      14\n",
      "F      13\n",
      "C       8\n",
      "F/C     4\n",
      "G/F     3\n",
      "Name: Pos, dtype: int64 \n",
      "\n",
      " G      9\n",
      "C      6\n",
      "F      6\n",
      "F/C    2\n",
      "G/F    2\n",
      "Name: Pos, dtype: int64 \n",
      "\n",
      " G      16\n",
      "F       6\n",
      "C       6\n",
      "G/F     5\n",
      "F/C     4\n",
      "Name: Pos, dtype: int64 \n",
      "\n",
      " G      7\n",
      "F      4\n",
      "G/F    3\n",
      "C      1\n",
      "F/C    1\n",
      "Name: Pos, dtype: int64\n"
     ]
    }
   ],
   "source": [
    "# making segment of datset\n",
    "rookies_segment = df[df['Exper_ordianl'] == 'Rookie']\n",
    "\n",
    "little_xp_segment = df[df['Exper_ordianl'] == 'Little experience']\n",
    "\n",
    "experienced_segment = df[df['Exper_ordianl'] == 'Experienced']\n",
    "\n",
    "very_xp_segment = df[df['Exper_ordianl'] == 'Very experienced']\n",
    "\n",
    "veterans_segment =  df[df['Exper_ordianl'] == 'Veteran']\n",
    "\n",
    "# counts the value of the position for each segment\n",
    "\n",
    "rookies_segment_distro = rookies_segment['Pos'].value_counts()\n",
    "\n",
    "little_xp_segment_distro = little_xp_segment['Pos'].value_counts()\n",
    "\n",
    "experienced_segment_distro = experienced_segment['Pos'].value_counts()\n",
    "\n",
    "very_xp_segment_distro = very_xp_segment['Pos'].value_counts()\n",
    "\n",
    "veterans_segmen_distro = veterans_segment['Pos'].value_counts()\n",
    " \n",
    "print(rookies_segment_distro, '\\n\\n', little_xp_segment_distro, '\\n\\n', experienced_segment_distro, '\\n\\n',\n",
    "     very_xp_segment_distro, '\\n\\n', veterans_segmen_distro)"
   ]
  },
  {
   "cell_type": "code",
   "execution_count": 25,
   "id": "70d0ef85",
   "metadata": {},
   "outputs": [
    {
     "data": {
      "image/png": "[encoded data removed]",
      "text/plain": [
       "<Figure size 432x288 with 1 Axes>"
      ]
     },
     "metadata": {
      "needs_background": "light"
     },
     "output_type": "display_data"
    }
   ],
   "source": [
    "# show it by barchar\n",
    "sns.countplot(x=\"Exper_ordianl\", hue=\"Pos\", data=df)\n",
    "plt.show()"
   ]
  },
  {
   "cell_type": "code",
   "execution_count": 26,
   "id": "26626ba1",
   "metadata": {},
   "outputs": [
    {
     "data": {
      "image/png": "[encoded data removed]",
      "text/plain": [
       "<Figure size 432x288 with 1 Axes>"
      ]
     },
     "metadata": {
      "needs_background": "light"
     },
     "output_type": "display_data"
    }
   ],
   "source": [
    "# Customize the barchart\n",
    "sns.countplot(x=\"Exper_ordianl\", hue=\"Pos\", data=df, \n",
    "              order=['Rookie', 'Little experience', 'Experienced', 'Very experienced', 'Veteran'],\n",
    "              hue_order=['C', 'F', 'F/C', 'G', 'G/F'])\n",
    "plt.show()"
   ]
  },
  {
   "cell_type": "markdown",
   "id": "f2d01342",
   "metadata": {},
   "source": [
    "### Kernel Density Estimate Plots\n",
    "A kernel density estimate (KDE) plot is a method for visualizing the distribution of observations in a dataset, analogous to a histogram. KDE represents the data using a continuous probability density curve in one or more dimensions."
   ]
  },
  {
   "cell_type": "markdown",
   "id": "5740da0c",
   "metadata": {},
   "source": [
    "### Why Kernel Density Estimate Plots are used?\n",
    "The Kernel Density Estimate Plots(KDE plots) are mainly used to comparing the histogram. Now we try to understand the need for KDE plots.\n",
    "The easiest way to compare two histograms is to superimpose one on top of the other. We can do that by using the pandas visualization methods mission."
   ]
  },
  {
   "cell_type": "code",
   "execution_count": 27,
   "id": "0835c0b9",
   "metadata": {},
   "outputs": [
    {
     "data": {
      "text/plain": [
       "<AxesSubplot:ylabel='Frequency'>"
      ]
     },
     "execution_count": 27,
     "metadata": {},
     "output_type": "execute_result"
    },
    {
     "data": {
      "image/png": "[encoded data removed]",
      "text/plain": [
       "<Figure size 432x288 with 1 Axes>"
      ]
     },
     "metadata": {
      "needs_background": "light"
     },
     "output_type": "display_data"
    }
   ],
   "source": [
    "df[df.Age >= 27]['MIN'].plot.hist(histtype = 'step', label = 'Old', legend = True)\n",
    "df[df.Age < 27]['MIN'].plot.hist(histtype = 'step', label = 'Young', legend = True)"
   ]
  },
  {
   "cell_type": "markdown",
   "id": "1535dc4a",
   "metadata": {},
   "source": [
    "#### In the above, We want to compare two different scenarios. One for the players who have aged above 27 and others for the players who have aged below 27. We draw two histograms one over another so that we can compare them easily. We can easily compare between two histograms. What if for the number of histograms more than two. Is it easy to compare between those histograms? The necessity of KDE plot comes in for such kinds of scenarios."
   ]
  },
  {
   "cell_type": "code",
   "execution_count": 28,
   "id": "feff46f8",
   "metadata": {},
   "outputs": [
    {
     "data": {
      "text/plain": [
       "36     1\n",
       "21     2\n",
       "33     3\n",
       "35     4\n",
       "34     5\n",
       "31     8\n",
       "29     8\n",
       "32     8\n",
       "30     9\n",
       "22    10\n",
       "26    12\n",
       "27    13\n",
       "28    14\n",
       "23    15\n",
       "25    15\n",
       "24    16\n",
       "Name: Age, dtype: int64"
      ]
     },
     "execution_count": 28,
     "metadata": {},
     "output_type": "execute_result"
    }
   ],
   "source": [
    "df.Age.value_counts(ascending=True)"
   ]
  },
  {
   "cell_type": "markdown",
   "id": "faf90319",
   "metadata": {},
   "source": [
    "### How to generate KDE plots?\n",
    "The Series.plot.kde() method are used to generate kde plots."
   ]
  },
  {
   "cell_type": "code",
   "execution_count": 29,
   "id": "d070fb66",
   "metadata": {},
   "outputs": [
    {
     "data": {
      "text/plain": [
       "<AxesSubplot:ylabel='Density'>"
      ]
     },
     "execution_count": 29,
     "metadata": {},
     "output_type": "execute_result"
    },
    {
     "data": {
      "image/png": "[encoded data removed]",
      "text/plain": [
       "<Figure size 432x288 with 1 Axes>"
      ]
     },
     "metadata": {
      "needs_background": "light"
     },
     "output_type": "display_data"
    }
   ],
   "source": [
    "df[df.Age >= 27]['MIN'].plot.kde(label = 'Old', legend = True)\n",
    "df[df.Age < 27]['MIN'].plot.kde(label = 'Young', legend = True)"
   ]
  },
  {
   "cell_type": "raw",
   "id": "99df7397",
   "metadata": {},
   "source": [
    "A strip plot is a graphical data analysis technique for summarizing a univariate data set. The strip plot consists of:\n",
    "Horizontal axis = the value of the response variable;\n",
    "Vertical axis = all values are set to 1.\n",
    "In fact, strip plots are actually scatter plots."
   ]
  },
  {
   "cell_type": "markdown",
   "id": "5791eb96",
   "metadata": {},
   "source": [
    "### How to generate Strips plots\n",
    "The sns.stripplot() function are used to generate strips plots."
   ]
  },
  {
   "cell_type": "code",
   "execution_count": 30,
   "id": "7d5cde2e",
   "metadata": {},
   "outputs": [
    {
     "data": {
      "text/plain": [
       "<AxesSubplot:xlabel='Pos', ylabel='Height'>"
      ]
     },
     "execution_count": 30,
     "metadata": {},
     "output_type": "execute_result"
    },
    {
     "data": {
      "image/png": "[encoded data removed]",
      "text/plain": [
       "<Figure size 432x288 with 1 Axes>"
      ]
     },
     "metadata": {
      "needs_background": "light"
     },
     "output_type": "display_data"
    }
   ],
   "source": [
    "sns.stripplot(x = 'Pos', y = 'Height', data =df)"
   ]
  },
  {
   "cell_type": "markdown",
   "id": "343fbb8b",
   "metadata": {},
   "source": [
    "#### We place Pos variable on the x-axis and the Height variable on the y-axis.The pattern we can see in the graphs that most of the short players played for the Goalkeeper position and most of the tall players played for the Center Back position. You can also try it for the weight variable. The number of narrow strips is the same as the number of unique values in the nominal or ordinal variable."
   ]
  },
  {
   "attachments": {
    "Screenshot_2.jpg": {
     "image/jpeg": "[encoded data removed]"
    }
   },
   "cell_type": "markdown",
   "id": "c3cd4f69",
   "metadata": {},
   "source": [
    "![Screenshot_2.jpg](attachment:Screenshot_2.jpg)"
   ]
  },
  {
   "cell_type": "markdown",
   "id": "78095e2b",
   "metadata": {},
   "source": [
    "#### median (Q2 or 50th Percentile): It represents the middle value of the dataset.\n",
    "first quartile (Q1or 25th Percentile): It represents the middle value between the smallest and median value dataset.\n",
    "third quartile (Q3 or 75th Percentile): It represents the middle value between the highest and median value of the dataset.\n",
    "interquartile range (IQR): It represents the value between 25th and 75th percentiles\n",
    "whiskers: The whiskers are the two lines outside the box that extend to the highest and lowest observations. In the above graph, one line in the left and others in the right represent the whiskers.\n",
    "outliers: A data point that is located outside the whiskers of the box plot. In the above graph, green points represent the outliers."
   ]
  },
  {
   "cell_type": "code",
   "execution_count": 31,
   "id": "920f686c",
   "metadata": {},
   "outputs": [
    {
     "data": {
      "text/plain": [
       "<AxesSubplot:xlabel='Pos', ylabel='Height'>"
      ]
     },
     "execution_count": 31,
     "metadata": {},
     "output_type": "execute_result"
    },
    {
     "data": {
      "image/png": "[encoded data removed]",
      "text/plain": [
       "<Figure size 432x288 with 1 Axes>"
      ]
     },
     "metadata": {
      "needs_background": "light"
     },
     "output_type": "display_data"
    }
   ],
   "source": [
    "sns.boxplot(x = 'Pos', y = 'Height', data = df)"
   ]
  },
  {
   "cell_type": "markdown",
   "id": "10f85b38",
   "metadata": {},
   "source": [
    "#### Outlier point denotes — -\n",
    "If the points are larger than the upper quartile by 1.5 times the difference between the upper quartile and the lower quartile (the difference is also called the interquartile range).\n",
    "If the points are lower than the lower quartile by 1.5 times the difference between the upper quartile and the lower quartile (the difference is also called the interquartile range).\n",
    "We can also change the factor from 1.5 to custom value using whis parameter."
   ]
  },
  {
   "cell_type": "code",
   "execution_count": 32,
   "id": "49fac021",
   "metadata": {},
   "outputs": [
    {
     "data": {
      "text/plain": [
       "<AxesSubplot:xlabel='Pos', ylabel='Height'>"
      ]
     },
     "execution_count": 32,
     "metadata": {},
     "output_type": "execute_result"
    },
    {
     "data": {
      "image/png": "[encoded data removed]",
      "text/plain": [
       "<Figure size 432x288 with 1 Axes>"
      ]
     },
     "metadata": {
      "needs_background": "light"
     },
     "output_type": "display_data"
    }
   ],
   "source": [
    "sns.boxplot(x = 'Pos', y = 'Height', data = df, whis=4)"
   ]
  },
  {
   "cell_type": "code",
   "execution_count": null,
   "id": "b9e46108",
   "metadata": {},
   "outputs": [],
   "source": []
  }
 ],
 "metadata": {
  "kernelspec": {
   "display_name": "Python 3",
   "language": "python",
   "name": "python3"
  },
  "language_info": {
   "codemirror_mode": {
    "name": "ipython",
    "version": 3
   },
   "file_extension": ".py",
   "mimetype": "text/x-python",
   "name": "python",
   "nbconvert_exporter": "python",
   "pygments_lexer": "ipython3",
   "version": "3.9.6"
  }
 },
 "nbformat": 4,
 "nbformat_minor": 5
}
