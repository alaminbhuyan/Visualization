{
 "cells": [
  {
   "cell_type": "code",
   "execution_count": 1,
   "id": "a987a14b",
   "metadata": {},
   "outputs": [],
   "source": [
    "import pandas as pd"
   ]
  },
  {
   "cell_type": "code",
   "execution_count": 2,
   "id": "c666cf1d",
   "metadata": {},
   "outputs": [],
   "source": [
    "df = pd.read_csv(\"DataSet/dataset.csv\")"
   ]
  },
  {
   "cell_type": "code",
   "execution_count": 3,
   "id": "97af0a9d",
   "metadata": {},
   "outputs": [
    {
     "data": {
      "text/html": [
       "<div>\n",
       "<style scoped>\n",
       "    .dataframe tbody tr th:only-of-type {\n",
       "        vertical-align: middle;\n",
       "    }\n",
       "\n",
       "    .dataframe tbody tr th {\n",
       "        vertical-align: top;\n",
       "    }\n",
       "\n",
       "    .dataframe thead th {\n",
       "        text-align: right;\n",
       "    }\n",
       "</style>\n",
       "<table border=\"1\" class=\"dataframe\">\n",
       "  <thead>\n",
       "    <tr style=\"text-align: right;\">\n",
       "      <th></th>\n",
       "      <th>ID</th>\n",
       "      <th>Name</th>\n",
       "      <th>Team</th>\n",
       "      <th>Pos</th>\n",
       "      <th>Height</th>\n",
       "      <th>Weight</th>\n",
       "      <th>BMI</th>\n",
       "      <th>Birth_Place</th>\n",
       "      <th>Birthdate</th>\n",
       "      <th>Age</th>\n",
       "      <th>...</th>\n",
       "      <th>OREB</th>\n",
       "      <th>DREB</th>\n",
       "      <th>REB</th>\n",
       "      <th>AST</th>\n",
       "      <th>STL</th>\n",
       "      <th>BLK</th>\n",
       "      <th>TO</th>\n",
       "      <th>PTS</th>\n",
       "      <th>DD2</th>\n",
       "      <th>TD3</th>\n",
       "    </tr>\n",
       "  </thead>\n",
       "  <tbody>\n",
       "    <tr>\n",
       "      <th>0</th>\n",
       "      <td>1</td>\n",
       "      <td>Aerial Powers</td>\n",
       "      <td>DAL</td>\n",
       "      <td>F</td>\n",
       "      <td>183</td>\n",
       "      <td>\"\\\"71\\\"\"</td>\n",
       "      <td>21.20</td>\n",
       "      <td>US</td>\n",
       "      <td>January 17, 1994</td>\n",
       "      <td>23</td>\n",
       "      <td>...</td>\n",
       "      <td>6</td>\n",
       "      <td>22</td>\n",
       "      <td>28</td>\n",
       "      <td>12</td>\n",
       "      <td>3</td>\n",
       "      <td>6</td>\n",
       "      <td>12</td>\n",
       "      <td>93</td>\n",
       "      <td>0</td>\n",
       "      <td>0</td>\n",
       "    </tr>\n",
       "    <tr>\n",
       "      <th>1</th>\n",
       "      <td>2</td>\n",
       "      <td>Alana Beard</td>\n",
       "      <td>LA</td>\n",
       "      <td>G/F</td>\n",
       "      <td>185</td>\n",
       "      <td>\"\\\"73\\\"\"</td>\n",
       "      <td>21.33</td>\n",
       "      <td>US</td>\n",
       "      <td>May 14, 1982</td>\n",
       "      <td>35</td>\n",
       "      <td>...</td>\n",
       "      <td>19</td>\n",
       "      <td>82</td>\n",
       "      <td>101</td>\n",
       "      <td>72</td>\n",
       "      <td>63</td>\n",
       "      <td>13</td>\n",
       "      <td>40</td>\n",
       "      <td>217</td>\n",
       "      <td>0</td>\n",
       "      <td>0</td>\n",
       "    </tr>\n",
       "    <tr>\n",
       "      <th>2</th>\n",
       "      <td>3</td>\n",
       "      <td>Alex Bentley</td>\n",
       "      <td>CON</td>\n",
       "      <td>G</td>\n",
       "      <td>170</td>\n",
       "      <td>\"\\\"69\\\"\"</td>\n",
       "      <td>23.88</td>\n",
       "      <td>US</td>\n",
       "      <td>October 27, 1990</td>\n",
       "      <td>26</td>\n",
       "      <td>...</td>\n",
       "      <td>4</td>\n",
       "      <td>36</td>\n",
       "      <td>40</td>\n",
       "      <td>78</td>\n",
       "      <td>22</td>\n",
       "      <td>3</td>\n",
       "      <td>24</td>\n",
       "      <td>218</td>\n",
       "      <td>0</td>\n",
       "      <td>0</td>\n",
       "    </tr>\n",
       "    <tr>\n",
       "      <th>3</th>\n",
       "      <td>4</td>\n",
       "      <td>Alex Montgomery</td>\n",
       "      <td>SAN</td>\n",
       "      <td>G/F</td>\n",
       "      <td>185</td>\n",
       "      <td>\"\\\"84\\\"\"</td>\n",
       "      <td>24.54</td>\n",
       "      <td>US</td>\n",
       "      <td>December 11, 1988</td>\n",
       "      <td>28</td>\n",
       "      <td>...</td>\n",
       "      <td>35</td>\n",
       "      <td>134</td>\n",
       "      <td>169</td>\n",
       "      <td>65</td>\n",
       "      <td>20</td>\n",
       "      <td>10</td>\n",
       "      <td>38</td>\n",
       "      <td>188</td>\n",
       "      <td>2</td>\n",
       "      <td>0</td>\n",
       "    </tr>\n",
       "    <tr>\n",
       "      <th>4</th>\n",
       "      <td>5</td>\n",
       "      <td>Alexis Jones</td>\n",
       "      <td>MIN</td>\n",
       "      <td>G</td>\n",
       "      <td>175</td>\n",
       "      <td>\"\\\"78\\\"\"</td>\n",
       "      <td>25.47</td>\n",
       "      <td>US</td>\n",
       "      <td>August 5, 1994</td>\n",
       "      <td>23</td>\n",
       "      <td>...</td>\n",
       "      <td>3</td>\n",
       "      <td>9</td>\n",
       "      <td>12</td>\n",
       "      <td>12</td>\n",
       "      <td>7</td>\n",
       "      <td>0</td>\n",
       "      <td>14</td>\n",
       "      <td>50</td>\n",
       "      <td>0</td>\n",
       "      <td>0</td>\n",
       "    </tr>\n",
       "  </tbody>\n",
       "</table>\n",
       "<p>5 rows × 33 columns</p>\n",
       "</div>"
      ],
      "text/plain": [
       "   ID             Name Team  Pos  Height    Weight    BMI Birth_Place  \\\n",
       "0   1    Aerial Powers  DAL    F     183  \"\\\"71\\\"\"  21.20          US   \n",
       "1   2      Alana Beard   LA  G/F     185  \"\\\"73\\\"\"  21.33          US   \n",
       "2   3     Alex Bentley  CON    G     170  \"\\\"69\\\"\"  23.88          US   \n",
       "3   4  Alex Montgomery  SAN  G/F     185  \"\\\"84\\\"\"  24.54          US   \n",
       "4   5     Alexis Jones  MIN    G     175  \"\\\"78\\\"\"  25.47          US   \n",
       "\n",
       "           Birthdate  Age  ... OREB DREB  REB  AST  STL  BLK  TO  PTS  DD2  \\\n",
       "0   January 17, 1994   23  ...    6   22   28   12    3    6  12   93    0   \n",
       "1       May 14, 1982   35  ...   19   82  101   72   63   13  40  217    0   \n",
       "2   October 27, 1990   26  ...    4   36   40   78   22    3  24  218    0   \n",
       "3  December 11, 1988   28  ...   35  134  169   65   20   10  38  188    2   \n",
       "4     August 5, 1994   23  ...    3    9   12   12    7    0  14   50    0   \n",
       "\n",
       "   TD3  \n",
       "0    0  \n",
       "1    0  \n",
       "2    0  \n",
       "3    0  \n",
       "4    0  \n",
       "\n",
       "[5 rows x 33 columns]"
      ]
     },
     "execution_count": 3,
     "metadata": {},
     "output_type": "execute_result"
    }
   ],
   "source": [
    "df.head()"
   ]
  },
  {
   "cell_type": "code",
   "execution_count": 4,
   "id": "f6b6705f",
   "metadata": {},
   "outputs": [
    {
     "data": {
      "text/plain": [
       "(143, 33)"
      ]
     },
     "execution_count": 4,
     "metadata": {},
     "output_type": "execute_result"
    }
   ],
   "source": [
    "df.shape"
   ]
  },
  {
   "cell_type": "code",
   "execution_count": 6,
   "id": "e8b9dc39",
   "metadata": {},
   "outputs": [
    {
     "name": "stdout",
     "output_type": "stream",
     "text": [
      "<class 'pandas.core.frame.DataFrame'>\n",
      "RangeIndex: 143 entries, 0 to 142\n",
      "Data columns (total 33 columns):\n",
      " #   Column        Non-Null Count  Dtype  \n",
      "---  ------        --------------  -----  \n",
      " 0   ID            143 non-null    int64  \n",
      " 1   Name          143 non-null    object \n",
      " 2   Team          143 non-null    object \n",
      " 3   Pos           143 non-null    object \n",
      " 4   Height        143 non-null    int64  \n",
      " 5   Weight        142 non-null    object \n",
      " 6   BMI           142 non-null    float64\n",
      " 7   Birth_Place   143 non-null    object \n",
      " 8   Birthdate     143 non-null    object \n",
      " 9   Age           143 non-null    int64  \n",
      " 10  College       143 non-null    object \n",
      " 11  Experience    143 non-null    object \n",
      " 12  Games Played  143 non-null    int64  \n",
      " 13  MIN           143 non-null    int64  \n",
      " 14  FGM           143 non-null    int64  \n",
      " 15  FGA           143 non-null    int64  \n",
      " 16  FG%           143 non-null    float64\n",
      " 17  15:00         143 non-null    int64  \n",
      " 18  3PA           143 non-null    int64  \n",
      " 19  3P%           143 non-null    float64\n",
      " 20  FTM           143 non-null    int64  \n",
      " 21  FTA           143 non-null    int64  \n",
      " 22  FT%           143 non-null    float64\n",
      " 23  OREB          143 non-null    int64  \n",
      " 24  DREB          143 non-null    int64  \n",
      " 25  REB           143 non-null    int64  \n",
      " 26  AST           143 non-null    int64  \n",
      " 27  STL           143 non-null    int64  \n",
      " 28  BLK           143 non-null    int64  \n",
      " 29  TO            143 non-null    int64  \n",
      " 30  PTS           143 non-null    int64  \n",
      " 31  DD2           143 non-null    int64  \n",
      " 32  TD3           143 non-null    int64  \n",
      "dtypes: float64(4), int64(21), object(8)\n",
      "memory usage: 37.0+ KB\n"
     ]
    }
   ],
   "source": [
    "df.info()"
   ]
  },
  {
   "cell_type": "code",
   "execution_count": 7,
   "id": "9cb84f08",
   "metadata": {},
   "outputs": [
    {
     "data": {
      "text/plain": [
       "Index(['ID', 'Name', 'Team', 'Pos', 'Height', 'Weight', 'BMI', 'Birth_Place',\n",
       "       'Birthdate', 'Age', 'College', 'Experience', 'Games Played', 'MIN',\n",
       "       'FGM', 'FGA', 'FG%', '15:00', '3PA', '3P%', 'FTM', 'FTA', 'FT%', 'OREB',\n",
       "       'DREB', 'REB', 'AST', 'STL', 'BLK', 'TO', 'PTS', 'DD2', 'TD3'],\n",
       "      dtype='object')"
      ]
     },
     "execution_count": 7,
     "metadata": {},
     "output_type": "execute_result"
    }
   ],
   "source": [
    "df.columns"
   ]
  },
  {
   "cell_type": "code",
   "execution_count": 8,
   "id": "da6646bc",
   "metadata": {},
   "outputs": [
    {
     "data": {
      "text/plain": [
       "G      60\n",
       "F      33\n",
       "C      25\n",
       "G/F    13\n",
       "F/C    12\n",
       "Name: Pos, dtype: int64"
      ]
     },
     "execution_count": 8,
     "metadata": {},
     "output_type": "execute_result"
    }
   ],
   "source": [
    "freq_dis_pos = df.Pos.value_counts()\n",
    "freq_dis_pos"
   ]
  },
  {
   "cell_type": "code",
   "execution_count": 9,
   "id": "bbf09edb",
   "metadata": {},
   "outputs": [],
   "source": [
    "# Now we try to find the frequency table of height column.\n",
    "freq_dis_height = df['Height'].value_counts()"
   ]
  },
  {
   "cell_type": "code",
   "execution_count": 10,
   "id": "ae43c0a6",
   "metadata": {},
   "outputs": [
    {
     "data": {
      "text/plain": [
       "188    20\n",
       "193    18\n",
       "175    16\n",
       "185    15\n",
       "183    11\n",
       "173    11\n",
       "191    11\n",
       "196     9\n",
       "178     8\n",
       "180     7\n",
       "170     6\n",
       "198     5\n",
       "201     2\n",
       "168     2\n",
       "206     1\n",
       "165     1\n",
       "Name: Height, dtype: int64"
      ]
     },
     "execution_count": 10,
     "metadata": {},
     "output_type": "execute_result"
    }
   ],
   "source": [
    "freq_dis_height"
   ]
  },
  {
   "cell_type": "code",
   "execution_count": 11,
   "id": "8e77c6b4",
   "metadata": {},
   "outputs": [
    {
     "data": {
      "text/plain": [
       "165     1\n",
       "168     2\n",
       "170     6\n",
       "173    11\n",
       "175    16\n",
       "178     8\n",
       "180     7\n",
       "183    11\n",
       "185    15\n",
       "188    20\n",
       "191    11\n",
       "193    18\n",
       "196     9\n",
       "198     5\n",
       "201     2\n",
       "206     1\n",
       "Name: Height, dtype: int64"
      ]
     },
     "execution_count": 11,
     "metadata": {},
     "output_type": "execute_result"
    }
   ],
   "source": [
    "freq_dis_height = df['Height'].value_counts().sort_index()\n",
    "freq_dis_height"
   ]
  },
  {
   "cell_type": "code",
   "execution_count": 12,
   "id": "8cfd9979",
   "metadata": {},
   "outputs": [
    {
     "data": {
      "text/plain": [
       "206     1\n",
       "201     2\n",
       "198     5\n",
       "196     9\n",
       "193    18\n",
       "191    11\n",
       "188    20\n",
       "185    15\n",
       "183    11\n",
       "180     7\n",
       "178     8\n",
       "175    16\n",
       "173    11\n",
       "170     6\n",
       "168     2\n",
       "165     1\n",
       "Name: Height, dtype: int64"
      ]
     },
     "execution_count": 12,
     "metadata": {},
     "output_type": "execute_result"
    }
   ],
   "source": [
    "freq_dis_height = df['Height'].value_counts().sort_index(ascending=False)\n",
    "freq_dis_height"
   ]
  },
  {
   "cell_type": "markdown",
   "id": "e23246bf",
   "metadata": {},
   "source": [
    "## Relative frequency = frequency ÷ number of observations\n",
    "## Percentage frequency = relative frequency X 100"
   ]
  },
  {
   "cell_type": "code",
   "execution_count": 13,
   "id": "8b5ebaeb",
   "metadata": {},
   "outputs": [
    {
     "data": {
      "text/plain": [
       "24    0.111888\n",
       "23    0.104895\n",
       "25    0.104895\n",
       "28    0.097902\n",
       "27    0.090909\n",
       "26    0.083916\n",
       "22    0.069930\n",
       "30    0.062937\n",
       "31    0.055944\n",
       "29    0.055944\n",
       "32    0.055944\n",
       "34    0.034965\n",
       "35    0.027972\n",
       "33    0.020979\n",
       "21    0.013986\n",
       "36    0.006993\n",
       "Name: Age, dtype: float64"
      ]
     },
     "execution_count": 13,
     "metadata": {},
     "output_type": "execute_result"
    }
   ],
   "source": [
    "df.Age.value_counts()/len(df)"
   ]
  },
  {
   "cell_type": "code",
   "execution_count": 14,
   "id": "5779353f",
   "metadata": {},
   "outputs": [
    {
     "data": {
      "text/plain": [
       "143"
      ]
     },
     "execution_count": 14,
     "metadata": {},
     "output_type": "execute_result"
    }
   ],
   "source": [
    "len(df)"
   ]
  },
  {
   "cell_type": "code",
   "execution_count": 15,
   "id": "cd7acafe",
   "metadata": {},
   "outputs": [
    {
     "data": {
      "text/plain": [
       "21     1.398601\n",
       "22     6.993007\n",
       "23    10.489510\n",
       "24    11.188811\n",
       "25    10.489510\n",
       "26     8.391608\n",
       "27     9.090909\n",
       "28     9.790210\n",
       "29     5.594406\n",
       "30     6.293706\n",
       "31     5.594406\n",
       "32     5.594406\n",
       "33     2.097902\n",
       "34     3.496503\n",
       "35     2.797203\n",
       "36     0.699301\n",
       "Name: Age, dtype: float64"
      ]
     },
     "execution_count": 15,
     "metadata": {},
     "output_type": "execute_result"
    }
   ],
   "source": [
    "percentages_pos = df['Age'].value_counts(normalize=True).sort_index() * 100\n",
    "percentages_pos"
   ]
  },
  {
   "cell_type": "code",
   "execution_count": 17,
   "id": "6de53c79",
   "metadata": {},
   "outputs": [
    {
     "data": {
      "text/plain": [
       "40.55944055944056"
      ]
     },
     "execution_count": 17,
     "metadata": {},
     "output_type": "execute_result"
    }
   ],
   "source": [
    "from scipy.stats import percentileofscore\n",
    "\n",
    "percentile_of_25 = percentileofscore(df['Age'], 25, kind = 'weak')\n",
    "percentile_of_25"
   ]
  },
  {
   "cell_type": "code",
   "execution_count": 18,
   "id": "201aabe7",
   "metadata": {},
   "outputs": [
    {
     "data": {
      "text/plain": [
       "count    143.000000\n",
       "mean      27.076923\n",
       "std        3.679170\n",
       "min       21.000000\n",
       "25%       24.000000\n",
       "50%       27.000000\n",
       "75%       30.000000\n",
       "max       36.000000\n",
       "Name: Age, dtype: float64"
      ]
     },
     "execution_count": 18,
     "metadata": {},
     "output_type": "execute_result"
    }
   ],
   "source": [
    "persecntiles = df['Age'].describe()\n",
    "persecntiles"
   ]
  },
  {
   "cell_type": "code",
   "execution_count": 19,
   "id": "3b9ff6f3",
   "metadata": {},
   "outputs": [
    {
     "data": {
      "text/plain": [
       "count    143.000000\n",
       "mean      27.076923\n",
       "std        3.679170\n",
       "min       21.000000\n",
       "10%       23.000000\n",
       "15%       23.000000\n",
       "33%       25.000000\n",
       "50%       27.000000\n",
       "59.2%     28.000000\n",
       "85%       31.000000\n",
       "90%       32.000000\n",
       "max       36.000000\n",
       "Name: Age, dtype: float64"
      ]
     },
     "execution_count": 19,
     "metadata": {},
     "output_type": "execute_result"
    }
   ],
   "source": [
    "persecntiles = df['Age'].describe(percentiles=[.1, .15, .33, .5, .592, .85, .9])\n",
    "persecntiles"
   ]
  },
  {
   "cell_type": "markdown",
   "id": "82cbe5cd",
   "metadata": {},
   "source": [
    "## How to Make Grouped Frequency Distribution Table?"
   ]
  },
  {
   "cell_type": "code",
   "execution_count": 20,
   "id": "5eec5870",
   "metadata": {},
   "outputs": [
    {
     "data": {
      "text/plain": [
       "(20.983999999999998, 24.0]    43\n",
       "(24.0, 27.0]                  40\n",
       "(27.0, 30.0]                  31\n",
       "(30.0, 33.0]                  19\n",
       "(33.0, 36.0]                  10\n",
       "Name: Age, dtype: int64"
      ]
     },
     "execution_count": 20,
     "metadata": {},
     "output_type": "execute_result"
    }
   ],
   "source": [
    "grouped_freq = df['Age'].value_counts(bins = 5).sort_index()\n",
    "grouped_freq"
   ]
  },
  {
   "cell_type": "code",
   "execution_count": 21,
   "id": "6e886d1f",
   "metadata": {},
   "outputs": [
    {
     "data": {
      "text/plain": [
       "IntervalIndex([(0, 100], (100, 200], (200, 300], (300, 400], (400, 500], (500, 600]], dtype='interval[int64, right]')"
      ]
     },
     "execution_count": 21,
     "metadata": {},
     "output_type": "execute_result"
    }
   ],
   "source": [
    "intervals = pd.interval_range(start = 0, end = 600, freq = 100)\n",
    "intervals"
   ]
  },
  {
   "cell_type": "code",
   "execution_count": null,
   "id": "4ad2aba3",
   "metadata": {},
   "outputs": [],
   "source": []
  }
 ],
 "metadata": {
  "kernelspec": {
   "display_name": "Python 3",
   "language": "python",
   "name": "python3"
  },
  "language_info": {
   "codemirror_mode": {
    "name": "ipython",
    "version": 3
   },
   "file_extension": ".py",
   "mimetype": "text/x-python",
   "name": "python",
   "nbconvert_exporter": "python",
   "pygments_lexer": "ipython3",
   "version": "3.9.6"
  }
 },
 "nbformat": 4,
 "nbformat_minor": 5
}
